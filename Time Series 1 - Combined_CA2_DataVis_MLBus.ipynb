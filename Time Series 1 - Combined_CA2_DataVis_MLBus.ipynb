{
 "cells": [
  {
   "cell_type": "code",
   "execution_count": 1,
   "id": "e5df2571",
   "metadata": {},
   "outputs": [],
   "source": [
    "import pandas as pd\n",
    "from statsmodels.graphics.tsaplots import plot_acf, plot_pacf\n",
    "import statsmodels.tsa.api as sm\n",
    "from statsmodels.tsa.stattools import adfuller\n",
    "import matplotlib.pyplot as plt\n",
    "import pandas as pd\n",
    "from statsmodels.graphics.tsaplots import plot_acf, plot_pacf\n",
    "from statsmodels.tsa.stattools import adfuller\n",
    "\n",
    "import statsmodels.tsa.api as sm\n",
    "\n",
    "from statsmodels.tsa.statespace.sarimax import SARIMAX"
   ]
  },
  {
   "cell_type": "code",
   "execution_count": 2,
   "id": "f8b3b6bf",
   "metadata": {},
   "outputs": [],
   "source": [
    "df = pd.read_csv(\"db2023_cleandf.csv\")"
   ]
  },
  {
   "cell_type": "code",
   "execution_count": 3,
   "id": "8d3956dd",
   "metadata": {},
   "outputs": [
    {
     "data": {
      "text/html": [
       "<div>\n",
       "<style scoped>\n",
       "    .dataframe tbody tr th:only-of-type {\n",
       "        vertical-align: middle;\n",
       "    }\n",
       "\n",
       "    .dataframe tbody tr th {\n",
       "        vertical-align: top;\n",
       "    }\n",
       "\n",
       "    .dataframe thead th {\n",
       "        text-align: right;\n",
       "    }\n",
       "</style>\n",
       "<table border=\"1\" class=\"dataframe\">\n",
       "  <thead>\n",
       "    <tr style=\"text-align: right;\">\n",
       "      <th></th>\n",
       "      <th>Comment</th>\n",
       "      <th>Time</th>\n",
       "      <th>Score</th>\n",
       "    </tr>\n",
       "  </thead>\n",
       "  <tbody>\n",
       "    <tr>\n",
       "      <th>0</th>\n",
       "      <td>Posting a bit early so people know where to go...</td>\n",
       "      <td>2023-10-10 11:14:12</td>\n",
       "      <td>1</td>\n",
       "    </tr>\n",
       "    <tr>\n",
       "      <th>1</th>\n",
       "      <td>20% fare reduction on public transport continu...</td>\n",
       "      <td>2023-10-10 13:55:05</td>\n",
       "      <td>39</td>\n",
       "    </tr>\n",
       "    <tr>\n",
       "      <th>2</th>\n",
       "      <td>This is good.</td>\n",
       "      <td>2023-10-10 14:16:50</td>\n",
       "      <td>3</td>\n",
       "    </tr>\n",
       "    <tr>\n",
       "      <th>3</th>\n",
       "      <td>Aaaaaahhhhh, what have the Greens done for us!</td>\n",
       "      <td>2023-10-10 16:56:05</td>\n",
       "      <td>2</td>\n",
       "    </tr>\n",
       "    <tr>\n",
       "      <th>4</th>\n",
       "      <td>€67 million to provide 16,000 craft apprentice...</td>\n",
       "      <td>2023-10-10 14:18:04</td>\n",
       "      <td>25</td>\n",
       "    </tr>\n",
       "  </tbody>\n",
       "</table>\n",
       "</div>"
      ],
      "text/plain": [
       "                                             Comment                 Time  \\\n",
       "0  Posting a bit early so people know where to go...  2023-10-10 11:14:12   \n",
       "1  20% fare reduction on public transport continu...  2023-10-10 13:55:05   \n",
       "2                                      This is good.  2023-10-10 14:16:50   \n",
       "3     Aaaaaahhhhh, what have the Greens done for us!  2023-10-10 16:56:05   \n",
       "4  €67 million to provide 16,000 craft apprentice...  2023-10-10 14:18:04   \n",
       "\n",
       "   Score  \n",
       "0      1  \n",
       "1     39  \n",
       "2      3  \n",
       "3      2  \n",
       "4     25  "
      ]
     },
     "execution_count": 3,
     "metadata": {},
     "output_type": "execute_result"
    }
   ],
   "source": [
    "df.head()"
   ]
  },
  {
   "cell_type": "code",
   "execution_count": 4,
   "id": "113df604",
   "metadata": {},
   "outputs": [
    {
     "data": {
      "text/html": [
       "<div>\n",
       "<style scoped>\n",
       "    .dataframe tbody tr th:only-of-type {\n",
       "        vertical-align: middle;\n",
       "    }\n",
       "\n",
       "    .dataframe tbody tr th {\n",
       "        vertical-align: top;\n",
       "    }\n",
       "\n",
       "    .dataframe thead th {\n",
       "        text-align: right;\n",
       "    }\n",
       "</style>\n",
       "<table border=\"1\" class=\"dataframe\">\n",
       "  <thead>\n",
       "    <tr style=\"text-align: right;\">\n",
       "      <th></th>\n",
       "      <th>Comment</th>\n",
       "      <th>Time</th>\n",
       "      <th>Score</th>\n",
       "    </tr>\n",
       "  </thead>\n",
       "  <tbody>\n",
       "    <tr>\n",
       "      <th>474</th>\n",
       "      <td>[deleted]</td>\n",
       "      <td>2023-10-10 13:30:20</td>\n",
       "      <td>-1</td>\n",
       "    </tr>\n",
       "    <tr>\n",
       "      <th>475</th>\n",
       "      <td>You did not</td>\n",
       "      <td>2023-10-10 13:31:29</td>\n",
       "      <td>3</td>\n",
       "    </tr>\n",
       "    <tr>\n",
       "      <th>476</th>\n",
       "      <td>Whats the 18 year old minimum wage rate going to?</td>\n",
       "      <td>2023-10-10 15:30:22</td>\n",
       "      <td>1</td>\n",
       "    </tr>\n",
       "    <tr>\n",
       "      <th>477</th>\n",
       "      <td>10.16 I'd say</td>\n",
       "      <td>2023-10-10 15:33:48</td>\n",
       "      <td>1</td>\n",
       "    </tr>\n",
       "    <tr>\n",
       "      <th>478</th>\n",
       "      <td>Yeah forgot its a set rate of 80% of minimum w...</td>\n",
       "      <td>2023-10-10 15:52:32</td>\n",
       "      <td>1</td>\n",
       "    </tr>\n",
       "  </tbody>\n",
       "</table>\n",
       "</div>"
      ],
      "text/plain": [
       "                                               Comment                 Time  \\\n",
       "474                                          [deleted]  2023-10-10 13:30:20   \n",
       "475                                        You did not  2023-10-10 13:31:29   \n",
       "476  Whats the 18 year old minimum wage rate going to?  2023-10-10 15:30:22   \n",
       "477                                      10.16 I'd say  2023-10-10 15:33:48   \n",
       "478  Yeah forgot its a set rate of 80% of minimum w...  2023-10-10 15:52:32   \n",
       "\n",
       "     Score  \n",
       "474     -1  \n",
       "475      3  \n",
       "476      1  \n",
       "477      1  \n",
       "478      1  "
      ]
     },
     "execution_count": 4,
     "metadata": {},
     "output_type": "execute_result"
    }
   ],
   "source": [
    "df.tail()"
   ]
  },
  {
   "cell_type": "code",
   "execution_count": 5,
   "id": "b1bb031e",
   "metadata": {},
   "outputs": [
    {
     "data": {
      "text/plain": [
       "0      2023-10-10 11:14:12\n",
       "1      2023-10-10 13:55:05\n",
       "2      2023-10-10 14:16:50\n",
       "3      2023-10-10 16:56:05\n",
       "4      2023-10-10 14:18:04\n",
       "              ...         \n",
       "474    2023-10-10 13:30:20\n",
       "475    2023-10-10 13:31:29\n",
       "476    2023-10-10 15:30:22\n",
       "477    2023-10-10 15:33:48\n",
       "478    2023-10-10 15:52:32\n",
       "Name: Time, Length: 479, dtype: object"
      ]
     },
     "execution_count": 5,
     "metadata": {},
     "output_type": "execute_result"
    }
   ],
   "source": [
    "df[\"Time\"]"
   ]
  },
  {
   "cell_type": "code",
   "execution_count": 6,
   "id": "f80dee8b",
   "metadata": {},
   "outputs": [],
   "source": [
    "df[\"Time\"] = df[\"Time\"].astype(\"datetime64[ns]\")"
   ]
  },
  {
   "cell_type": "code",
   "execution_count": 7,
   "id": "3ea76c2d",
   "metadata": {},
   "outputs": [
    {
     "data": {
      "text/plain": [
       "0     2023-10-10 11:14:12\n",
       "1     2023-10-10 13:55:05\n",
       "2     2023-10-10 14:16:50\n",
       "3     2023-10-10 16:56:05\n",
       "4     2023-10-10 14:18:04\n",
       "              ...        \n",
       "474   2023-10-10 13:30:20\n",
       "475   2023-10-10 13:31:29\n",
       "476   2023-10-10 15:30:22\n",
       "477   2023-10-10 15:33:48\n",
       "478   2023-10-10 15:52:32\n",
       "Name: Time, Length: 479, dtype: datetime64[ns]"
      ]
     },
     "execution_count": 7,
     "metadata": {},
     "output_type": "execute_result"
    }
   ],
   "source": [
    "df[\"Time\"]"
   ]
  },
  {
   "cell_type": "code",
   "execution_count": 8,
   "id": "1f55b0a7",
   "metadata": {},
   "outputs": [
    {
     "data": {
      "image/png": "[encoded data removed]",
      "text/plain": [
       "<Figure size 640x480 with 1 Axes>"
      ]
     },
     "metadata": {},
     "output_type": "display_data"
    }
   ],
   "source": [
    "df[\"Score\"].plot();"
   ]
  },
  {
   "cell_type": "code",
   "execution_count": 9,
   "id": "8dd5349a",
   "metadata": {},
   "outputs": [
    {
     "data": {
      "text/plain": [
       "(-4.477154194045056,\n",
       " 0.00021620009732447327,\n",
       " 11,\n",
       " 467,\n",
       " {'1%': -3.4444305322234365,\n",
       "  '5%': -2.8677488864580885,\n",
       "  '10%': -2.5700770984781443},\n",
       " 3200.46646536486)"
      ]
     },
     "execution_count": 9,
     "metadata": {},
     "output_type": "execute_result"
    }
   ],
   "source": [
    "adfuller(df[\"Score\"])"
   ]
  },
  {
   "cell_type": "markdown",
   "id": "8bbd85d0",
   "metadata": {},
   "source": [
    "##### Our P score for the Augmented Dickey Fuller test above is   0.00021620009732447327"
   ]
  },
  {
   "cell_type": "markdown",
   "id": "2ef7fd9b",
   "metadata": {},
   "source": [
    "Here, the p-value is much smaller than 0.05, indicating that we can reject the null hypothesis of the ADF test. The null hypothesis of the ADF test is that the time series is non-stationary. Since we are rejecting the null hypothesis, the evidence suggests that the time series is stationary. As this time series is stationary we will use the ARMA model for our analysis."
   ]
  },
  {
   "cell_type": "code",
   "execution_count": null,
   "id": "a48fea49",
   "metadata": {},
   "outputs": [],
   "source": []
  },
  {
   "cell_type": "code",
   "execution_count": 11,
   "id": "7d06e6f2",
   "metadata": {},
   "outputs": [
    {
     "data": {
      "image/png": "[encoded data removed]",
      "text/plain": [
       "<Figure size 640x480 with 1 Axes>"
      ]
     },
     "execution_count": 11,
     "metadata": {},
     "output_type": "execute_result"
    },
    {
     "data": {
      "image/png": "[encoded data removed]",
      "text/plain": [
       "<Figure size 640x480 with 1 Axes>"
      ]
     },
     "metadata": {},
     "output_type": "display_data"
    }
   ],
   "source": [
    "plot_acf(df[\"Score\"])"
   ]
  },
  {
   "cell_type": "code",
   "execution_count": 12,
   "id": "8f9e0a0f",
   "metadata": {},
   "outputs": [],
   "source": [
    "# Partial Autocorrelation"
   ]
  },
  {
   "cell_type": "code",
   "execution_count": 13,
   "id": "76bac8ed",
   "metadata": {},
   "outputs": [
    {
     "data": {
      "image/png": "[encoded data removed]",
      "text/plain": [
       "<Figure size 640x480 with 1 Axes>"
      ]
     },
     "execution_count": 13,
     "metadata": {},
     "output_type": "execute_result"
    },
    {
     "data": {
      "image/png": "[encoded data removed]",
      "text/plain": [
       "<Figure size 640x480 with 1 Axes>"
      ]
     },
     "metadata": {},
     "output_type": "display_data"
    }
   ],
   "source": [
    "plot_pacf(df[\"Score\"], method='ywm')"
   ]
  },
  {
   "cell_type": "code",
   "execution_count": null,
   "id": "f3816a95",
   "metadata": {},
   "outputs": [],
   "source": [
    "ACF - Exponential decay => no MA (q=0)\n",
    "\n",
    "PACF - Signigicant value at lag 1 ie p=1"
   ]
  },
  {
   "cell_type": "code",
   "execution_count": null,
   "id": "bb756469",
   "metadata": {},
   "outputs": [],
   "source": [
    "# AIC Values"
   ]
  },
  {
   "cell_type": "code",
   "execution_count": 15,
   "id": "cb3cbfba",
   "metadata": {},
   "outputs": [
    {
     "name": "stderr",
     "output_type": "stream",
     "text": [
      "C:\\Users\\aad.sray\\AppData\\Local\\anaconda3\\Lib\\site-packages\\statsmodels\\tsa\\statespace\\sarimax.py:966: UserWarning: Non-stationary starting autoregressive parameters found. Using zeros as starting parameters.\n",
      "  warn('Non-stationary starting autoregressive parameters'\n",
      "C:\\Users\\aad.sray\\AppData\\Local\\anaconda3\\Lib\\site-packages\\statsmodels\\tsa\\statespace\\sarimax.py:978: UserWarning: Non-invertible starting MA parameters found. Using zeros as starting parameters.\n",
      "  warn('Non-invertible starting MA parameters found.'\n",
      "C:\\Users\\aad.sray\\AppData\\Local\\anaconda3\\Lib\\site-packages\\statsmodels\\tsa\\statespace\\sarimax.py:966: UserWarning: Non-stationary starting autoregressive parameters found. Using zeros as starting parameters.\n",
      "  warn('Non-stationary starting autoregressive parameters'\n",
      "C:\\Users\\aad.sray\\AppData\\Local\\anaconda3\\Lib\\site-packages\\statsmodels\\tsa\\statespace\\sarimax.py:978: UserWarning: Non-invertible starting MA parameters found. Using zeros as starting parameters.\n",
      "  warn('Non-invertible starting MA parameters found.'\n",
      "C:\\Users\\aad.sray\\AppData\\Local\\anaconda3\\Lib\\site-packages\\statsmodels\\tsa\\statespace\\sarimax.py:966: UserWarning: Non-stationary starting autoregressive parameters found. Using zeros as starting parameters.\n",
      "  warn('Non-stationary starting autoregressive parameters'\n",
      "C:\\Users\\aad.sray\\AppData\\Local\\anaconda3\\Lib\\site-packages\\statsmodels\\tsa\\statespace\\sarimax.py:978: UserWarning: Non-invertible starting MA parameters found. Using zeros as starting parameters.\n",
      "  warn('Non-invertible starting MA parameters found.'\n",
      "C:\\Users\\aad.sray\\AppData\\Local\\anaconda3\\Lib\\site-packages\\statsmodels\\base\\model.py:607: ConvergenceWarning: Maximum Likelihood optimization failed to converge. Check mle_retvals\n",
      "  warnings.warn(\"Maximum Likelihood optimization failed to \"\n",
      "C:\\Users\\aad.sray\\AppData\\Local\\anaconda3\\Lib\\site-packages\\statsmodels\\base\\model.py:607: ConvergenceWarning: Maximum Likelihood optimization failed to converge. Check mle_retvals\n",
      "  warnings.warn(\"Maximum Likelihood optimization failed to \"\n",
      "C:\\Users\\aad.sray\\AppData\\Local\\anaconda3\\Lib\\site-packages\\statsmodels\\base\\model.py:607: ConvergenceWarning: Maximum Likelihood optimization failed to converge. Check mle_retvals\n",
      "  warnings.warn(\"Maximum Likelihood optimization failed to \"\n",
      "C:\\Users\\aad.sray\\AppData\\Local\\anaconda3\\Lib\\site-packages\\statsmodels\\base\\model.py:607: ConvergenceWarning: Maximum Likelihood optimization failed to converge. Check mle_retvals\n",
      "  warnings.warn(\"Maximum Likelihood optimization failed to \"\n",
      "C:\\Users\\aad.sray\\AppData\\Local\\anaconda3\\Lib\\site-packages\\statsmodels\\tsa\\statespace\\sarimax.py:966: UserWarning: Non-stationary starting autoregressive parameters found. Using zeros as starting parameters.\n",
      "  warn('Non-stationary starting autoregressive parameters'\n",
      "C:\\Users\\aad.sray\\AppData\\Local\\anaconda3\\Lib\\site-packages\\statsmodels\\tsa\\statespace\\sarimax.py:978: UserWarning: Non-invertible starting MA parameters found. Using zeros as starting parameters.\n",
      "  warn('Non-invertible starting MA parameters found.'\n",
      "C:\\Users\\aad.sray\\AppData\\Local\\anaconda3\\Lib\\site-packages\\statsmodels\\base\\model.py:607: ConvergenceWarning: Maximum Likelihood optimization failed to converge. Check mle_retvals\n",
      "  warnings.warn(\"Maximum Likelihood optimization failed to \"\n",
      "C:\\Users\\aad.sray\\AppData\\Local\\anaconda3\\Lib\\site-packages\\statsmodels\\tsa\\statespace\\sarimax.py:966: UserWarning: Non-stationary starting autoregressive parameters found. Using zeros as starting parameters.\n",
      "  warn('Non-stationary starting autoregressive parameters'\n",
      "C:\\Users\\aad.sray\\AppData\\Local\\anaconda3\\Lib\\site-packages\\statsmodels\\tsa\\statespace\\sarimax.py:978: UserWarning: Non-invertible starting MA parameters found. Using zeros as starting parameters.\n",
      "  warn('Non-invertible starting MA parameters found.'\n",
      "C:\\Users\\aad.sray\\AppData\\Local\\anaconda3\\Lib\\site-packages\\statsmodels\\base\\model.py:607: ConvergenceWarning: Maximum Likelihood optimization failed to converge. Check mle_retvals\n",
      "  warnings.warn(\"Maximum Likelihood optimization failed to \"\n"
     ]
    }
   ],
   "source": [
    "aicVals = []\n",
    "for p in range(5):\n",
    "    for q in range(5):\n",
    "        aicVals.append( [   sm.ARIMA( df[\"Score\"], order=(p, 0, q) ).fit().aic, p, q   ] )"
   ]
  },
  {
   "cell_type": "code",
   "execution_count": 16,
   "id": "29a0cb3a",
   "metadata": {},
   "outputs": [
    {
     "data": {
      "text/plain": [
       "[[3383.2951687764394, 0, 0],\n",
       " [3370.5376420364173, 0, 1],\n",
       " [3370.9375173101816, 0, 2],\n",
       " [3368.5668201668705, 0, 3],\n",
       " [3368.017098004179, 0, 4],\n",
       " [3368.7143265681716, 1, 0],\n",
       " [3350.126983577823, 1, 1],\n",
       " [3348.4671837724236, 1, 2],\n",
       " [3350.41114040721, 1, 3],\n",
       " [3351.867902826086, 1, 4],\n",
       " [3368.7436553587568, 2, 0],\n",
       " [3348.558644639363, 2, 1],\n",
       " [3347.5907522336142, 2, 2],\n",
       " [3349.057510765276, 2, 3],\n",
       " [3350.6247783620065, 2, 4],\n",
       " [3365.348800217611, 3, 0],\n",
       " [3350.4787462144377, 3, 1],\n",
       " [3349.0122509770226, 3, 2],\n",
       " [3347.0963219967316, 3, 3],\n",
       " [3345.7007759687767, 3, 4],\n",
       " [3364.514060070338, 4, 0],\n",
       " [3351.8316055192527, 4, 1],\n",
       " [3350.564590962179, 4, 2],\n",
       " [3350.0181251098074, 4, 3],\n",
       " [3351.693467952835, 4, 4]]"
      ]
     },
     "execution_count": 16,
     "metadata": {},
     "output_type": "execute_result"
    }
   ],
   "source": [
    "aicVals"
   ]
  },
  {
   "cell_type": "code",
   "execution_count": 17,
   "id": "88276d6f",
   "metadata": {},
   "outputs": [],
   "source": [
    "aicVals.sort()"
   ]
  },
  {
   "cell_type": "code",
   "execution_count": 18,
   "id": "641970cb",
   "metadata": {},
   "outputs": [
    {
     "data": {
      "text/plain": [
       "[[3345.7007759687767, 3, 4],\n",
       " [3347.0963219967316, 3, 3],\n",
       " [3347.5907522336142, 2, 2],\n",
       " [3348.4671837724236, 1, 2],\n",
       " [3348.558644639363, 2, 1],\n",
       " [3349.0122509770226, 3, 2],\n",
       " [3349.057510765276, 2, 3],\n",
       " [3350.0181251098074, 4, 3],\n",
       " [3350.126983577823, 1, 1],\n",
       " [3350.41114040721, 1, 3],\n",
       " [3350.4787462144377, 3, 1],\n",
       " [3350.564590962179, 4, 2],\n",
       " [3350.6247783620065, 2, 4],\n",
       " [3351.693467952835, 4, 4],\n",
       " [3351.8316055192527, 4, 1],\n",
       " [3351.867902826086, 1, 4],\n",
       " [3364.514060070338, 4, 0],\n",
       " [3365.348800217611, 3, 0],\n",
       " [3368.017098004179, 0, 4],\n",
       " [3368.5668201668705, 0, 3],\n",
       " [3368.7143265681716, 1, 0],\n",
       " [3368.7436553587568, 2, 0],\n",
       " [3370.5376420364173, 0, 1],\n",
       " [3370.9375173101816, 0, 2],\n",
       " [3383.2951687764394, 0, 0]]"
      ]
     },
     "execution_count": 18,
     "metadata": {},
     "output_type": "execute_result"
    }
   ],
   "source": [
    "aicVals"
   ]
  },
  {
   "cell_type": "code",
   "execution_count": null,
   "id": "205abfc7",
   "metadata": {},
   "outputs": [],
   "source": [
    "[3345.7007759687767, 3, 4],\n",
    " [3347.0963219967316, 3, 3],\n",
    " [3347.5907522336142, 2, 2],\n",
    " [3348.4671837724236, 1, 2],\n",
    " [3348.558644639363, 2, 1],"
   ]
  },
  {
   "cell_type": "code",
   "execution_count": null,
   "id": "1a368351",
   "metadata": {},
   "outputs": [],
   "source": [
    "# Test Model 1 - (3, 0, 4)  [3345.7007759687767, 3, 4]\n",
    "\n",
    "# *THIS IS THE BEST MODE AS IT WAS NUMBER 1 ON 25 AND NUMBER 2 ON 100 SEARCHES"
   ]
  },
  {
   "cell_type": "code",
   "execution_count": 81,
   "id": "320c8b97",
   "metadata": {},
   "outputs": [
    {
     "name": "stderr",
     "output_type": "stream",
     "text": [
      "C:\\Users\\aad.sray\\AppData\\Local\\anaconda3\\Lib\\site-packages\\statsmodels\\base\\model.py:607: ConvergenceWarning: Maximum Likelihood optimization failed to converge. Check mle_retvals\n",
      "  warnings.warn(\"Maximum Likelihood optimization failed to \"\n"
     ]
    }
   ],
   "source": [
    "model = sm.ARIMA(df[\"Score\"], order=(3, 0 , 4)).fit()"
   ]
  },
  {
   "cell_type": "code",
   "execution_count": 83,
   "id": "66071cf1",
   "metadata": {},
   "outputs": [
    {
     "data": {
      "text/html": [
       "<table class=\"simpletable\">\n",
       "<caption>SARIMAX Results</caption>\n",
       "<tr>\n",
       "  <th>Dep. Variable:</th>         <td>Score</td>      <th>  No. Observations:  </th>    <td>479</td>   \n",
       "</tr>\n",
       "<tr>\n",
       "  <th>Model:</th>            <td>ARIMA(3, 0, 4)</td>  <th>  Log Likelihood     </th> <td>-1663.850</td>\n",
       "</tr>\n",
       "<tr>\n",
       "  <th>Date:</th>            <td>Wed, 22 Nov 2023</td> <th>  AIC                </th> <td>3345.701</td> \n",
       "</tr>\n",
       "<tr>\n",
       "  <th>Time:</th>                <td>22:17:25</td>     <th>  BIC                </th> <td>3383.246</td> \n",
       "</tr>\n",
       "<tr>\n",
       "  <th>Sample:</th>                  <td>0</td>        <th>  HQIC               </th> <td>3360.460</td> \n",
       "</tr>\n",
       "<tr>\n",
       "  <th></th>                      <td> - 479</td>      <th>                     </th>     <td> </td>    \n",
       "</tr>\n",
       "<tr>\n",
       "  <th>Covariance Type:</th>        <td>opg</td>       <th>                     </th>     <td> </td>    \n",
       "</tr>\n",
       "</table>\n",
       "<table class=\"simpletable\">\n",
       "<tr>\n",
       "     <td></td>       <th>coef</th>     <th>std err</th>      <th>z</th>      <th>P>|z|</th>  <th>[0.025</th>    <th>0.975]</th>  \n",
       "</tr>\n",
       "<tr>\n",
       "  <th>const</th>  <td>    5.7559</td> <td>    3.106</td> <td>    1.853</td> <td> 0.064</td> <td>   -0.332</td> <td>   11.844</td>\n",
       "</tr>\n",
       "<tr>\n",
       "  <th>ar.L1</th>  <td>   -0.8841</td> <td>    0.041</td> <td>  -21.651</td> <td> 0.000</td> <td>   -0.964</td> <td>   -0.804</td>\n",
       "</tr>\n",
       "<tr>\n",
       "  <th>ar.L2</th>  <td>    0.9354</td> <td>    0.014</td> <td>   67.019</td> <td> 0.000</td> <td>    0.908</td> <td>    0.963</td>\n",
       "</tr>\n",
       "<tr>\n",
       "  <th>ar.L3</th>  <td>    0.9365</td> <td>    0.037</td> <td>   25.354</td> <td> 0.000</td> <td>    0.864</td> <td>    1.009</td>\n",
       "</tr>\n",
       "<tr>\n",
       "  <th>ma.L1</th>  <td>    1.0284</td> <td>    0.058</td> <td>   17.595</td> <td> 0.000</td> <td>    0.914</td> <td>    1.143</td>\n",
       "</tr>\n",
       "<tr>\n",
       "  <th>ma.L2</th>  <td>   -0.7978</td> <td>    0.058</td> <td>  -13.837</td> <td> 0.000</td> <td>   -0.911</td> <td>   -0.685</td>\n",
       "</tr>\n",
       "<tr>\n",
       "  <th>ma.L3</th>  <td>   -0.9977</td> <td>    0.056</td> <td>  -17.805</td> <td> 0.000</td> <td>   -1.108</td> <td>   -0.888</td>\n",
       "</tr>\n",
       "<tr>\n",
       "  <th>ma.L4</th>  <td>   -0.0923</td> <td>    0.048</td> <td>   -1.925</td> <td> 0.054</td> <td>   -0.186</td> <td>    0.002</td>\n",
       "</tr>\n",
       "<tr>\n",
       "  <th>sigma2</th> <td>   60.6894</td> <td>    2.054</td> <td>   29.543</td> <td> 0.000</td> <td>   56.663</td> <td>   64.716</td>\n",
       "</tr>\n",
       "</table>\n",
       "<table class=\"simpletable\">\n",
       "<tr>\n",
       "  <th>Ljung-Box (L1) (Q):</th>     <td>0.00</td> <th>  Jarque-Bera (JB):  </th> <td>4331.60</td>\n",
       "</tr>\n",
       "<tr>\n",
       "  <th>Prob(Q):</th>                <td>0.97</td> <th>  Prob(JB):          </th>  <td>0.00</td>  \n",
       "</tr>\n",
       "<tr>\n",
       "  <th>Heteroskedasticity (H):</th> <td>0.29</td> <th>  Skew:              </th>  <td>2.36</td>  \n",
       "</tr>\n",
       "<tr>\n",
       "  <th>Prob(H) (two-sided):</th>    <td>0.00</td> <th>  Kurtosis:          </th>  <td>16.95</td> \n",
       "</tr>\n",
       "</table><br/><br/>Warnings:<br/>[1] Covariance matrix calculated using the outer product of gradients (complex-step)."
      ],
      "text/latex": [
       "\\begin{center}\n",
       "\\begin{tabular}{lclc}\n",
       "\\toprule\n",
       "\\textbf{Dep. Variable:}          &      Score       & \\textbf{  No. Observations:  } &    479      \\\\\n",
       "\\textbf{Model:}                  &  ARIMA(3, 0, 4)  & \\textbf{  Log Likelihood     } & -1663.850   \\\\\n",
       "\\textbf{Date:}                   & Wed, 22 Nov 2023 & \\textbf{  AIC                } &  3345.701   \\\\\n",
       "\\textbf{Time:}                   &     22:17:25     & \\textbf{  BIC                } &  3383.246   \\\\\n",
       "\\textbf{Sample:}                 &        0         & \\textbf{  HQIC               } &  3360.460   \\\\\n",
       "\\textbf{}                        &       - 479      & \\textbf{                     } &             \\\\\n",
       "\\textbf{Covariance Type:}        &       opg        & \\textbf{                     } &             \\\\\n",
       "\\bottomrule\n",
       "\\end{tabular}\n",
       "\\begin{tabular}{lcccccc}\n",
       "                & \\textbf{coef} & \\textbf{std err} & \\textbf{z} & \\textbf{P$> |$z$|$} & \\textbf{[0.025} & \\textbf{0.975]}  \\\\\n",
       "\\midrule\n",
       "\\textbf{const}  &       5.7559  &        3.106     &     1.853  &         0.064        &       -0.332    &       11.844     \\\\\n",
       "\\textbf{ar.L1}  &      -0.8841  &        0.041     &   -21.651  &         0.000        &       -0.964    &       -0.804     \\\\\n",
       "\\textbf{ar.L2}  &       0.9354  &        0.014     &    67.019  &         0.000        &        0.908    &        0.963     \\\\\n",
       "\\textbf{ar.L3}  &       0.9365  &        0.037     &    25.354  &         0.000        &        0.864    &        1.009     \\\\\n",
       "\\textbf{ma.L1}  &       1.0284  &        0.058     &    17.595  &         0.000        &        0.914    &        1.143     \\\\\n",
       "\\textbf{ma.L2}  &      -0.7978  &        0.058     &   -13.837  &         0.000        &       -0.911    &       -0.685     \\\\\n",
       "\\textbf{ma.L3}  &      -0.9977  &        0.056     &   -17.805  &         0.000        &       -1.108    &       -0.888     \\\\\n",
       "\\textbf{ma.L4}  &      -0.0923  &        0.048     &    -1.925  &         0.054        &       -0.186    &        0.002     \\\\\n",
       "\\textbf{sigma2} &      60.6894  &        2.054     &    29.543  &         0.000        &       56.663    &       64.716     \\\\\n",
       "\\bottomrule\n",
       "\\end{tabular}\n",
       "\\begin{tabular}{lclc}\n",
       "\\textbf{Ljung-Box (L1) (Q):}     & 0.00 & \\textbf{  Jarque-Bera (JB):  } & 4331.60  \\\\\n",
       "\\textbf{Prob(Q):}                & 0.97 & \\textbf{  Prob(JB):          } &   0.00   \\\\\n",
       "\\textbf{Heteroskedasticity (H):} & 0.29 & \\textbf{  Skew:              } &   2.36   \\\\\n",
       "\\textbf{Prob(H) (two-sided):}    & 0.00 & \\textbf{  Kurtosis:          } &  16.95   \\\\\n",
       "\\bottomrule\n",
       "\\end{tabular}\n",
       "%\\caption{SARIMAX Results}\n",
       "\\end{center}\n",
       "\n",
       "Warnings: \\newline\n",
       " [1] Covariance matrix calculated using the outer product of gradients (complex-step)."
      ],
      "text/plain": [
       "<class 'statsmodels.iolib.summary.Summary'>\n",
       "\"\"\"\n",
       "                               SARIMAX Results                                \n",
       "==============================================================================\n",
       "Dep. Variable:                  Score   No. Observations:                  479\n",
       "Model:                 ARIMA(3, 0, 4)   Log Likelihood               -1663.850\n",
       "Date:                Wed, 22 Nov 2023   AIC                           3345.701\n",
       "Time:                        22:17:25   BIC                           3383.246\n",
       "Sample:                             0   HQIC                          3360.460\n",
       "                                - 479                                         \n",
       "Covariance Type:                  opg                                         \n",
       "==============================================================================\n",
       "                 coef    std err          z      P>|z|      [0.025      0.975]\n",
       "------------------------------------------------------------------------------\n",
       "const          5.7559      3.106      1.853      0.064      -0.332      11.844\n",
       "ar.L1         -0.8841      0.041    -21.651      0.000      -0.964      -0.804\n",
       "ar.L2          0.9354      0.014     67.019      0.000       0.908       0.963\n",
       "ar.L3          0.9365      0.037     25.354      0.000       0.864       1.009\n",
       "ma.L1          1.0284      0.058     17.595      0.000       0.914       1.143\n",
       "ma.L2         -0.7978      0.058    -13.837      0.000      -0.911      -0.685\n",
       "ma.L3         -0.9977      0.056    -17.805      0.000      -1.108      -0.888\n",
       "ma.L4         -0.0923      0.048     -1.925      0.054      -0.186       0.002\n",
       "sigma2        60.6894      2.054     29.543      0.000      56.663      64.716\n",
       "===================================================================================\n",
       "Ljung-Box (L1) (Q):                   0.00   Jarque-Bera (JB):              4331.60\n",
       "Prob(Q):                              0.97   Prob(JB):                         0.00\n",
       "Heteroskedasticity (H):               0.29   Skew:                             2.36\n",
       "Prob(H) (two-sided):                  0.00   Kurtosis:                        16.95\n",
       "===================================================================================\n",
       "\n",
       "Warnings:\n",
       "[1] Covariance matrix calculated using the outer product of gradients (complex-step).\n",
       "\"\"\""
      ]
     },
     "execution_count": 83,
     "metadata": {},
     "output_type": "execute_result"
    }
   ],
   "source": [
    "model.summary()"
   ]
  },
  {
   "cell_type": "code",
   "execution_count": 84,
   "id": "4f534dab",
   "metadata": {},
   "outputs": [],
   "source": [
    "pred_time = 20\n",
    "result = model.predict(pred_time)"
   ]
  },
  {
   "cell_type": "code",
   "execution_count": 85,
   "id": "39f4418a",
   "metadata": {},
   "outputs": [
    {
     "data": {
      "text/plain": [
       "20      8.038697\n",
       "21      9.835452\n",
       "22      7.445678\n",
       "23     11.534555\n",
       "24      7.757310\n",
       "         ...    \n",
       "474     0.628145\n",
       "475     2.628231\n",
       "476     1.112053\n",
       "477     2.311542\n",
       "478     1.450932\n",
       "Name: predicted_mean, Length: 459, dtype: float64"
      ]
     },
     "execution_count": 85,
     "metadata": {},
     "output_type": "execute_result"
    }
   ],
   "source": [
    "result"
   ]
  },
  {
   "cell_type": "code",
   "execution_count": 86,
   "id": "25d92ad4",
   "metadata": {},
   "outputs": [
    {
     "data": {
      "text/plain": [
       "[<matplotlib.lines.Line2D at 0x174c65ace50>]"
      ]
     },
     "execution_count": 86,
     "metadata": {},
     "output_type": "execute_result"
    },
    {
     "data": {
      "image/png": "[encoded data removed]",
      "text/plain": [
       "<Figure size 640x480 with 1 Axes>"
      ]
     },
     "metadata": {},
     "output_type": "display_data"
    }
   ],
   "source": [
    "plt.plot(range(len(result)-pred_time), result[:-pred_time])\n",
    "plt.plot(range(len(result)-pred_time, len(result)), result[-pred_time:])"
   ]
  },
  {
   "cell_type": "code",
   "execution_count": null,
   "id": "aa91b6fa",
   "metadata": {},
   "outputs": [],
   "source": [
    "# Model 2 - (3, 0, 3) -  [3347.0963219967316, 3, 3]\n",
    "\n"
   ]
  },
  {
   "cell_type": "code",
   "execution_count": 87,
   "id": "94d4870b",
   "metadata": {},
   "outputs": [
    {
     "name": "stderr",
     "output_type": "stream",
     "text": [
      "C:\\Users\\aad.sray\\AppData\\Local\\anaconda3\\Lib\\site-packages\\statsmodels\\base\\model.py:607: ConvergenceWarning: Maximum Likelihood optimization failed to converge. Check mle_retvals\n",
      "  warnings.warn(\"Maximum Likelihood optimization failed to \"\n"
     ]
    }
   ],
   "source": [
    "model2 = sm.ARIMA(df[\"Score\"], order=(3, 0 , 3)).fit()"
   ]
  },
  {
   "cell_type": "code",
   "execution_count": 88,
   "id": "97b6e903",
   "metadata": {},
   "outputs": [
    {
     "data": {
      "text/html": [
       "<table class=\"simpletable\">\n",
       "<caption>SARIMAX Results</caption>\n",
       "<tr>\n",
       "  <th>Dep. Variable:</th>         <td>Score</td>      <th>  No. Observations:  </th>    <td>479</td>   \n",
       "</tr>\n",
       "<tr>\n",
       "  <th>Model:</th>            <td>ARIMA(3, 0, 3)</td>  <th>  Log Likelihood     </th> <td>-1665.548</td>\n",
       "</tr>\n",
       "<tr>\n",
       "  <th>Date:</th>            <td>Wed, 22 Nov 2023</td> <th>  AIC                </th> <td>3347.096</td> \n",
       "</tr>\n",
       "<tr>\n",
       "  <th>Time:</th>                <td>22:18:50</td>     <th>  BIC                </th> <td>3380.470</td> \n",
       "</tr>\n",
       "<tr>\n",
       "  <th>Sample:</th>                  <td>0</td>        <th>  HQIC               </th> <td>3360.216</td> \n",
       "</tr>\n",
       "<tr>\n",
       "  <th></th>                      <td> - 479</td>      <th>                     </th>     <td> </td>    \n",
       "</tr>\n",
       "<tr>\n",
       "  <th>Covariance Type:</th>        <td>opg</td>       <th>                     </th>     <td> </td>    \n",
       "</tr>\n",
       "</table>\n",
       "<table class=\"simpletable\">\n",
       "<tr>\n",
       "     <td></td>       <th>coef</th>     <th>std err</th>      <th>z</th>      <th>P>|z|</th>  <th>[0.025</th>    <th>0.975]</th>  \n",
       "</tr>\n",
       "<tr>\n",
       "  <th>const</th>  <td>    5.8992</td> <td>    2.933</td> <td>    2.012</td> <td> 0.044</td> <td>    0.151</td> <td>   11.647</td>\n",
       "</tr>\n",
       "<tr>\n",
       "  <th>ar.L1</th>  <td>   -0.8763</td> <td>    0.039</td> <td>  -22.520</td> <td> 0.000</td> <td>   -0.953</td> <td>   -0.800</td>\n",
       "</tr>\n",
       "<tr>\n",
       "  <th>ar.L2</th>  <td>    0.9400</td> <td>    0.014</td> <td>   64.890</td> <td> 0.000</td> <td>    0.912</td> <td>    0.968</td>\n",
       "</tr>\n",
       "<tr>\n",
       "  <th>ar.L3</th>  <td>    0.9219</td> <td>    0.037</td> <td>   25.098</td> <td> 0.000</td> <td>    0.850</td> <td>    0.994</td>\n",
       "</tr>\n",
       "<tr>\n",
       "  <th>ma.L1</th>  <td>    0.9486</td> <td>    0.047</td> <td>   20.124</td> <td> 0.000</td> <td>    0.856</td> <td>    1.041</td>\n",
       "</tr>\n",
       "<tr>\n",
       "  <th>ma.L2</th>  <td>   -0.8831</td> <td>    0.038</td> <td>  -23.391</td> <td> 0.000</td> <td>   -0.957</td> <td>   -0.809</td>\n",
       "</tr>\n",
       "<tr>\n",
       "  <th>ma.L3</th>  <td>   -0.9107</td> <td>    0.041</td> <td>  -22.084</td> <td> 0.000</td> <td>   -0.992</td> <td>   -0.830</td>\n",
       "</tr>\n",
       "<tr>\n",
       "  <th>sigma2</th> <td>   61.0994</td> <td>    1.956</td> <td>   31.233</td> <td> 0.000</td> <td>   57.265</td> <td>   64.934</td>\n",
       "</tr>\n",
       "</table>\n",
       "<table class=\"simpletable\">\n",
       "<tr>\n",
       "  <th>Ljung-Box (L1) (Q):</th>     <td>2.34</td> <th>  Jarque-Bera (JB):  </th> <td>4427.99</td>\n",
       "</tr>\n",
       "<tr>\n",
       "  <th>Prob(Q):</th>                <td>0.13</td> <th>  Prob(JB):          </th>  <td>0.00</td>  \n",
       "</tr>\n",
       "<tr>\n",
       "  <th>Heteroskedasticity (H):</th> <td>0.28</td> <th>  Skew:              </th>  <td>2.37</td>  \n",
       "</tr>\n",
       "<tr>\n",
       "  <th>Prob(H) (two-sided):</th>    <td>0.00</td> <th>  Kurtosis:          </th>  <td>17.12</td> \n",
       "</tr>\n",
       "</table><br/><br/>Warnings:<br/>[1] Covariance matrix calculated using the outer product of gradients (complex-step)."
      ],
      "text/latex": [
       "\\begin{center}\n",
       "\\begin{tabular}{lclc}\n",
       "\\toprule\n",
       "\\textbf{Dep. Variable:}          &      Score       & \\textbf{  No. Observations:  } &    479      \\\\\n",
       "\\textbf{Model:}                  &  ARIMA(3, 0, 3)  & \\textbf{  Log Likelihood     } & -1665.548   \\\\\n",
       "\\textbf{Date:}                   & Wed, 22 Nov 2023 & \\textbf{  AIC                } &  3347.096   \\\\\n",
       "\\textbf{Time:}                   &     22:18:50     & \\textbf{  BIC                } &  3380.470   \\\\\n",
       "\\textbf{Sample:}                 &        0         & \\textbf{  HQIC               } &  3360.216   \\\\\n",
       "\\textbf{}                        &       - 479      & \\textbf{                     } &             \\\\\n",
       "\\textbf{Covariance Type:}        &       opg        & \\textbf{                     } &             \\\\\n",
       "\\bottomrule\n",
       "\\end{tabular}\n",
       "\\begin{tabular}{lcccccc}\n",
       "                & \\textbf{coef} & \\textbf{std err} & \\textbf{z} & \\textbf{P$> |$z$|$} & \\textbf{[0.025} & \\textbf{0.975]}  \\\\\n",
       "\\midrule\n",
       "\\textbf{const}  &       5.8992  &        2.933     &     2.012  &         0.044        &        0.151    &       11.647     \\\\\n",
       "\\textbf{ar.L1}  &      -0.8763  &        0.039     &   -22.520  &         0.000        &       -0.953    &       -0.800     \\\\\n",
       "\\textbf{ar.L2}  &       0.9400  &        0.014     &    64.890  &         0.000        &        0.912    &        0.968     \\\\\n",
       "\\textbf{ar.L3}  &       0.9219  &        0.037     &    25.098  &         0.000        &        0.850    &        0.994     \\\\\n",
       "\\textbf{ma.L1}  &       0.9486  &        0.047     &    20.124  &         0.000        &        0.856    &        1.041     \\\\\n",
       "\\textbf{ma.L2}  &      -0.8831  &        0.038     &   -23.391  &         0.000        &       -0.957    &       -0.809     \\\\\n",
       "\\textbf{ma.L3}  &      -0.9107  &        0.041     &   -22.084  &         0.000        &       -0.992    &       -0.830     \\\\\n",
       "\\textbf{sigma2} &      61.0994  &        1.956     &    31.233  &         0.000        &       57.265    &       64.934     \\\\\n",
       "\\bottomrule\n",
       "\\end{tabular}\n",
       "\\begin{tabular}{lclc}\n",
       "\\textbf{Ljung-Box (L1) (Q):}     & 2.34 & \\textbf{  Jarque-Bera (JB):  } & 4427.99  \\\\\n",
       "\\textbf{Prob(Q):}                & 0.13 & \\textbf{  Prob(JB):          } &   0.00   \\\\\n",
       "\\textbf{Heteroskedasticity (H):} & 0.28 & \\textbf{  Skew:              } &   2.37   \\\\\n",
       "\\textbf{Prob(H) (two-sided):}    & 0.00 & \\textbf{  Kurtosis:          } &  17.12   \\\\\n",
       "\\bottomrule\n",
       "\\end{tabular}\n",
       "%\\caption{SARIMAX Results}\n",
       "\\end{center}\n",
       "\n",
       "Warnings: \\newline\n",
       " [1] Covariance matrix calculated using the outer product of gradients (complex-step)."
      ],
      "text/plain": [
       "<class 'statsmodels.iolib.summary.Summary'>\n",
       "\"\"\"\n",
       "                               SARIMAX Results                                \n",
       "==============================================================================\n",
       "Dep. Variable:                  Score   No. Observations:                  479\n",
       "Model:                 ARIMA(3, 0, 3)   Log Likelihood               -1665.548\n",
       "Date:                Wed, 22 Nov 2023   AIC                           3347.096\n",
       "Time:                        22:18:50   BIC                           3380.470\n",
       "Sample:                             0   HQIC                          3360.216\n",
       "                                - 479                                         \n",
       "Covariance Type:                  opg                                         \n",
       "==============================================================================\n",
       "                 coef    std err          z      P>|z|      [0.025      0.975]\n",
       "------------------------------------------------------------------------------\n",
       "const          5.8992      2.933      2.012      0.044       0.151      11.647\n",
       "ar.L1         -0.8763      0.039    -22.520      0.000      -0.953      -0.800\n",
       "ar.L2          0.9400      0.014     64.890      0.000       0.912       0.968\n",
       "ar.L3          0.9219      0.037     25.098      0.000       0.850       0.994\n",
       "ma.L1          0.9486      0.047     20.124      0.000       0.856       1.041\n",
       "ma.L2         -0.8831      0.038    -23.391      0.000      -0.957      -0.809\n",
       "ma.L3         -0.9107      0.041    -22.084      0.000      -0.992      -0.830\n",
       "sigma2        61.0994      1.956     31.233      0.000      57.265      64.934\n",
       "===================================================================================\n",
       "Ljung-Box (L1) (Q):                   2.34   Jarque-Bera (JB):              4427.99\n",
       "Prob(Q):                              0.13   Prob(JB):                         0.00\n",
       "Heteroskedasticity (H):               0.28   Skew:                             2.37\n",
       "Prob(H) (two-sided):                  0.00   Kurtosis:                        17.12\n",
       "===================================================================================\n",
       "\n",
       "Warnings:\n",
       "[1] Covariance matrix calculated using the outer product of gradients (complex-step).\n",
       "\"\"\""
      ]
     },
     "execution_count": 88,
     "metadata": {},
     "output_type": "execute_result"
    }
   ],
   "source": [
    "model2.summary()"
   ]
  },
  {
   "cell_type": "code",
   "execution_count": 89,
   "id": "68173ae2",
   "metadata": {},
   "outputs": [],
   "source": [
    "pred_time = 20\n",
    "result2 = model2.predict(pred_time)"
   ]
  },
  {
   "cell_type": "code",
   "execution_count": 90,
   "id": "8340c0e8",
   "metadata": {},
   "outputs": [
    {
     "data": {
      "text/plain": [
       "20      7.890540\n",
       "21     10.221936\n",
       "22      7.558478\n",
       "23     10.930049\n",
       "24      7.776737\n",
       "         ...    \n",
       "474     0.846262\n",
       "475     2.195586\n",
       "476     1.377994\n",
       "477     1.719843\n",
       "478     1.833287\n",
       "Name: predicted_mean, Length: 459, dtype: float64"
      ]
     },
     "execution_count": 90,
     "metadata": {},
     "output_type": "execute_result"
    }
   ],
   "source": [
    "result2"
   ]
  },
  {
   "cell_type": "code",
   "execution_count": 91,
   "id": "18108072",
   "metadata": {},
   "outputs": [
    {
     "data": {
      "text/plain": [
       "[<matplotlib.lines.Line2D at 0x174c78a7490>]"
      ]
     },
     "execution_count": 91,
     "metadata": {},
     "output_type": "execute_result"
    },
    {
     "data": {
      "image/png": "[encoded data removed]",
      "text/plain": [
       "<Figure size 640x480 with 1 Axes>"
      ]
     },
     "metadata": {},
     "output_type": "display_data"
    }
   ],
   "source": [
    "plt.plot(range(len(result2)-pred_time), result2[:-pred_time])\n",
    "plt.plot(range(len(result2)-pred_time, len(result2)), result2[-pred_time:])"
   ]
  },
  {
   "cell_type": "code",
   "execution_count": null,
   "id": "4d8008c2",
   "metadata": {},
   "outputs": [],
   "source": [
    "# Model 3 - (2, 0, 2) -  [3347.5907522336142, 2, 2],"
   ]
  },
  {
   "cell_type": "code",
   "execution_count": 92,
   "id": "5db77f39",
   "metadata": {},
   "outputs": [],
   "source": [
    "model3 = sm.ARIMA(df[\"Score\"], order=(2, 0 , 2)).fit()"
   ]
  },
  {
   "cell_type": "code",
   "execution_count": 93,
   "id": "1812594d",
   "metadata": {},
   "outputs": [
    {
     "data": {
      "text/html": [
       "<table class=\"simpletable\">\n",
       "<caption>SARIMAX Results</caption>\n",
       "<tr>\n",
       "  <th>Dep. Variable:</th>         <td>Score</td>      <th>  No. Observations:  </th>    <td>479</td>   \n",
       "</tr>\n",
       "<tr>\n",
       "  <th>Model:</th>            <td>ARIMA(2, 0, 2)</td>  <th>  Log Likelihood     </th> <td>-1667.795</td>\n",
       "</tr>\n",
       "<tr>\n",
       "  <th>Date:</th>            <td>Wed, 22 Nov 2023</td> <th>  AIC                </th> <td>3347.591</td> \n",
       "</tr>\n",
       "<tr>\n",
       "  <th>Time:</th>                <td>22:19:49</td>     <th>  BIC                </th> <td>3372.621</td> \n",
       "</tr>\n",
       "<tr>\n",
       "  <th>Sample:</th>                  <td>0</td>        <th>  HQIC               </th> <td>3357.430</td> \n",
       "</tr>\n",
       "<tr>\n",
       "  <th></th>                      <td> - 479</td>      <th>                     </th>     <td> </td>    \n",
       "</tr>\n",
       "<tr>\n",
       "  <th>Covariance Type:</th>        <td>opg</td>       <th>                     </th>     <td> </td>    \n",
       "</tr>\n",
       "</table>\n",
       "<table class=\"simpletable\">\n",
       "<tr>\n",
       "     <td></td>       <th>coef</th>     <th>std err</th>      <th>z</th>      <th>P>|z|</th>  <th>[0.025</th>    <th>0.975]</th>  \n",
       "</tr>\n",
       "<tr>\n",
       "  <th>const</th>  <td>    5.8921</td> <td>    2.969</td> <td>    1.985</td> <td> 0.047</td> <td>    0.073</td> <td>   11.711</td>\n",
       "</tr>\n",
       "<tr>\n",
       "  <th>ar.L1</th>  <td>    0.1868</td> <td>    0.110</td> <td>    1.702</td> <td> 0.089</td> <td>   -0.028</td> <td>    0.402</td>\n",
       "</tr>\n",
       "<tr>\n",
       "  <th>ar.L2</th>  <td>    0.8068</td> <td>    0.109</td> <td>    7.382</td> <td> 0.000</td> <td>    0.593</td> <td>    1.021</td>\n",
       "</tr>\n",
       "<tr>\n",
       "  <th>ma.L1</th>  <td>   -0.0824</td> <td>    0.086</td> <td>   -0.954</td> <td> 0.340</td> <td>   -0.252</td> <td>    0.087</td>\n",
       "</tr>\n",
       "<tr>\n",
       "  <th>ma.L2</th>  <td>   -0.8475</td> <td>    0.085</td> <td>   -9.930</td> <td> 0.000</td> <td>   -1.015</td> <td>   -0.680</td>\n",
       "</tr>\n",
       "<tr>\n",
       "  <th>sigma2</th> <td>   61.7573</td> <td>    1.846</td> <td>   33.457</td> <td> 0.000</td> <td>   58.139</td> <td>   65.375</td>\n",
       "</tr>\n",
       "</table>\n",
       "<table class=\"simpletable\">\n",
       "<tr>\n",
       "  <th>Ljung-Box (L1) (Q):</th>     <td>0.28</td> <th>  Jarque-Bera (JB):  </th> <td>4842.07</td>\n",
       "</tr>\n",
       "<tr>\n",
       "  <th>Prob(Q):</th>                <td>0.60</td> <th>  Prob(JB):          </th>  <td>0.00</td>  \n",
       "</tr>\n",
       "<tr>\n",
       "  <th>Heteroskedasticity (H):</th> <td>0.29</td> <th>  Skew:              </th>  <td>2.45</td>  \n",
       "</tr>\n",
       "<tr>\n",
       "  <th>Prob(H) (two-sided):</th>    <td>0.00</td> <th>  Kurtosis:          </th>  <td>17.79</td> \n",
       "</tr>\n",
       "</table><br/><br/>Warnings:<br/>[1] Covariance matrix calculated using the outer product of gradients (complex-step)."
      ],
      "text/latex": [
       "\\begin{center}\n",
       "\\begin{tabular}{lclc}\n",
       "\\toprule\n",
       "\\textbf{Dep. Variable:}          &      Score       & \\textbf{  No. Observations:  } &    479      \\\\\n",
       "\\textbf{Model:}                  &  ARIMA(2, 0, 2)  & \\textbf{  Log Likelihood     } & -1667.795   \\\\\n",
       "\\textbf{Date:}                   & Wed, 22 Nov 2023 & \\textbf{  AIC                } &  3347.591   \\\\\n",
       "\\textbf{Time:}                   &     22:19:49     & \\textbf{  BIC                } &  3372.621   \\\\\n",
       "\\textbf{Sample:}                 &        0         & \\textbf{  HQIC               } &  3357.430   \\\\\n",
       "\\textbf{}                        &       - 479      & \\textbf{                     } &             \\\\\n",
       "\\textbf{Covariance Type:}        &       opg        & \\textbf{                     } &             \\\\\n",
       "\\bottomrule\n",
       "\\end{tabular}\n",
       "\\begin{tabular}{lcccccc}\n",
       "                & \\textbf{coef} & \\textbf{std err} & \\textbf{z} & \\textbf{P$> |$z$|$} & \\textbf{[0.025} & \\textbf{0.975]}  \\\\\n",
       "\\midrule\n",
       "\\textbf{const}  &       5.8921  &        2.969     &     1.985  &         0.047        &        0.073    &       11.711     \\\\\n",
       "\\textbf{ar.L1}  &       0.1868  &        0.110     &     1.702  &         0.089        &       -0.028    &        0.402     \\\\\n",
       "\\textbf{ar.L2}  &       0.8068  &        0.109     &     7.382  &         0.000        &        0.593    &        1.021     \\\\\n",
       "\\textbf{ma.L1}  &      -0.0824  &        0.086     &    -0.954  &         0.340        &       -0.252    &        0.087     \\\\\n",
       "\\textbf{ma.L2}  &      -0.8475  &        0.085     &    -9.930  &         0.000        &       -1.015    &       -0.680     \\\\\n",
       "\\textbf{sigma2} &      61.7573  &        1.846     &    33.457  &         0.000        &       58.139    &       65.375     \\\\\n",
       "\\bottomrule\n",
       "\\end{tabular}\n",
       "\\begin{tabular}{lclc}\n",
       "\\textbf{Ljung-Box (L1) (Q):}     & 0.28 & \\textbf{  Jarque-Bera (JB):  } & 4842.07  \\\\\n",
       "\\textbf{Prob(Q):}                & 0.60 & \\textbf{  Prob(JB):          } &   0.00   \\\\\n",
       "\\textbf{Heteroskedasticity (H):} & 0.29 & \\textbf{  Skew:              } &   2.45   \\\\\n",
       "\\textbf{Prob(H) (two-sided):}    & 0.00 & \\textbf{  Kurtosis:          } &  17.79   \\\\\n",
       "\\bottomrule\n",
       "\\end{tabular}\n",
       "%\\caption{SARIMAX Results}\n",
       "\\end{center}\n",
       "\n",
       "Warnings: \\newline\n",
       " [1] Covariance matrix calculated using the outer product of gradients (complex-step)."
      ],
      "text/plain": [
       "<class 'statsmodels.iolib.summary.Summary'>\n",
       "\"\"\"\n",
       "                               SARIMAX Results                                \n",
       "==============================================================================\n",
       "Dep. Variable:                  Score   No. Observations:                  479\n",
       "Model:                 ARIMA(2, 0, 2)   Log Likelihood               -1667.795\n",
       "Date:                Wed, 22 Nov 2023   AIC                           3347.591\n",
       "Time:                        22:19:49   BIC                           3372.621\n",
       "Sample:                             0   HQIC                          3357.430\n",
       "                                - 479                                         \n",
       "Covariance Type:                  opg                                         \n",
       "==============================================================================\n",
       "                 coef    std err          z      P>|z|      [0.025      0.975]\n",
       "------------------------------------------------------------------------------\n",
       "const          5.8921      2.969      1.985      0.047       0.073      11.711\n",
       "ar.L1          0.1868      0.110      1.702      0.089      -0.028       0.402\n",
       "ar.L2          0.8068      0.109      7.382      0.000       0.593       1.021\n",
       "ma.L1         -0.0824      0.086     -0.954      0.340      -0.252       0.087\n",
       "ma.L2         -0.8475      0.085     -9.930      0.000      -1.015      -0.680\n",
       "sigma2        61.7573      1.846     33.457      0.000      58.139      65.375\n",
       "===================================================================================\n",
       "Ljung-Box (L1) (Q):                   0.28   Jarque-Bera (JB):              4842.07\n",
       "Prob(Q):                              0.60   Prob(JB):                         0.00\n",
       "Heteroskedasticity (H):               0.29   Skew:                             2.45\n",
       "Prob(H) (two-sided):                  0.00   Kurtosis:                        17.79\n",
       "===================================================================================\n",
       "\n",
       "Warnings:\n",
       "[1] Covariance matrix calculated using the outer product of gradients (complex-step).\n",
       "\"\"\""
      ]
     },
     "execution_count": 93,
     "metadata": {},
     "output_type": "execute_result"
    }
   ],
   "source": [
    "model3.summary()"
   ]
  },
  {
   "cell_type": "code",
   "execution_count": 94,
   "id": "5dff0b81",
   "metadata": {},
   "outputs": [],
   "source": [
    "pred_time = 20\n",
    "result3 = model3.predict(pred_time)"
   ]
  },
  {
   "cell_type": "code",
   "execution_count": 95,
   "id": "e0c33277",
   "metadata": {},
   "outputs": [
    {
     "data": {
      "text/plain": [
       "20     9.071116\n",
       "21     8.699403\n",
       "22     9.077661\n",
       "23     9.651702\n",
       "24     9.182400\n",
       "         ...   \n",
       "474    2.196278\n",
       "475    1.109275\n",
       "476    2.344440\n",
       "477    1.153130\n",
       "478    2.183306\n",
       "Name: predicted_mean, Length: 459, dtype: float64"
      ]
     },
     "execution_count": 95,
     "metadata": {},
     "output_type": "execute_result"
    }
   ],
   "source": [
    "result3"
   ]
  },
  {
   "cell_type": "code",
   "execution_count": 96,
   "id": "e7b7bd67",
   "metadata": {},
   "outputs": [
    {
     "data": {
      "text/plain": [
       "[<matplotlib.lines.Line2D at 0x174c7911710>]"
      ]
     },
     "execution_count": 96,
     "metadata": {},
     "output_type": "execute_result"
    },
    {
     "data": {
      "image/png": "[encoded data removed]",
      "text/plain": [
       "<Figure size 640x480 with 1 Axes>"
      ]
     },
     "metadata": {},
     "output_type": "display_data"
    }
   ],
   "source": [
    "plt.plot(range(len(result3)-pred_time), result3[:-pred_time])\n",
    "plt.plot(range(len(result3)-pred_time, len(result3)), result3[-pred_time:])"
   ]
  },
  {
   "cell_type": "code",
   "execution_count": null,
   "id": "1f9998a8",
   "metadata": {},
   "outputs": [],
   "source": [
    "# Model 4 - (1, 0, 2) -  [3348.4671837724236, 1, 2]"
   ]
  },
  {
   "cell_type": "code",
   "execution_count": 97,
   "id": "af8352f0",
   "metadata": {},
   "outputs": [],
   "source": [
    "model4 = sm.ARIMA(df[\"Score\"], order=(1, 0 , 2)).fit()"
   ]
  },
  {
   "cell_type": "code",
   "execution_count": 98,
   "id": "685a7acc",
   "metadata": {},
   "outputs": [
    {
     "data": {
      "text/html": [
       "<table class=\"simpletable\">\n",
       "<caption>SARIMAX Results</caption>\n",
       "<tr>\n",
       "  <th>Dep. Variable:</th>         <td>Score</td>      <th>  No. Observations:  </th>    <td>479</td>   \n",
       "</tr>\n",
       "<tr>\n",
       "  <th>Model:</th>            <td>ARIMA(1, 0, 2)</td>  <th>  Log Likelihood     </th> <td>-1669.234</td>\n",
       "</tr>\n",
       "<tr>\n",
       "  <th>Date:</th>            <td>Wed, 22 Nov 2023</td> <th>  AIC                </th> <td>3348.467</td> \n",
       "</tr>\n",
       "<tr>\n",
       "  <th>Time:</th>                <td>22:21:03</td>     <th>  BIC                </th> <td>3369.326</td> \n",
       "</tr>\n",
       "<tr>\n",
       "  <th>Sample:</th>                  <td>0</td>        <th>  HQIC               </th> <td>3356.667</td> \n",
       "</tr>\n",
       "<tr>\n",
       "  <th></th>                      <td> - 479</td>      <th>                     </th>     <td> </td>    \n",
       "</tr>\n",
       "<tr>\n",
       "  <th>Covariance Type:</th>        <td>opg</td>       <th>                     </th>     <td> </td>    \n",
       "</tr>\n",
       "</table>\n",
       "<table class=\"simpletable\">\n",
       "<tr>\n",
       "     <td></td>       <th>coef</th>     <th>std err</th>      <th>z</th>      <th>P>|z|</th>  <th>[0.025</th>    <th>0.975]</th>  \n",
       "</tr>\n",
       "<tr>\n",
       "  <th>const</th>  <td>    5.9018</td> <td>    3.038</td> <td>    1.942</td> <td> 0.052</td> <td>   -0.053</td> <td>   11.857</td>\n",
       "</tr>\n",
       "<tr>\n",
       "  <th>ar.L1</th>  <td>    0.9968</td> <td>    0.005</td> <td>  194.334</td> <td> 0.000</td> <td>    0.987</td> <td>    1.007</td>\n",
       "</tr>\n",
       "<tr>\n",
       "  <th>ma.L1</th>  <td>   -0.8749</td> <td>    0.047</td> <td>  -18.600</td> <td> 0.000</td> <td>   -0.967</td> <td>   -0.783</td>\n",
       "</tr>\n",
       "<tr>\n",
       "  <th>ma.L2</th>  <td>   -0.0888</td> <td>    0.044</td> <td>   -2.001</td> <td> 0.045</td> <td>   -0.176</td> <td>   -0.002</td>\n",
       "</tr>\n",
       "<tr>\n",
       "  <th>sigma2</th> <td>   62.1352</td> <td>    1.957</td> <td>   31.746</td> <td> 0.000</td> <td>   58.299</td> <td>   65.971</td>\n",
       "</tr>\n",
       "</table>\n",
       "<table class=\"simpletable\">\n",
       "<tr>\n",
       "  <th>Ljung-Box (L1) (Q):</th>     <td>0.00</td> <th>  Jarque-Bera (JB):  </th> <td>4637.83</td>\n",
       "</tr>\n",
       "<tr>\n",
       "  <th>Prob(Q):</th>                <td>0.96</td> <th>  Prob(JB):          </th>  <td>0.00</td>  \n",
       "</tr>\n",
       "<tr>\n",
       "  <th>Heteroskedasticity (H):</th> <td>0.29</td> <th>  Skew:              </th>  <td>2.41</td>  \n",
       "</tr>\n",
       "<tr>\n",
       "  <th>Prob(H) (two-sided):</th>    <td>0.00</td> <th>  Kurtosis:          </th>  <td>17.46</td> \n",
       "</tr>\n",
       "</table><br/><br/>Warnings:<br/>[1] Covariance matrix calculated using the outer product of gradients (complex-step)."
      ],
      "text/latex": [
       "\\begin{center}\n",
       "\\begin{tabular}{lclc}\n",
       "\\toprule\n",
       "\\textbf{Dep. Variable:}          &      Score       & \\textbf{  No. Observations:  } &    479      \\\\\n",
       "\\textbf{Model:}                  &  ARIMA(1, 0, 2)  & \\textbf{  Log Likelihood     } & -1669.234   \\\\\n",
       "\\textbf{Date:}                   & Wed, 22 Nov 2023 & \\textbf{  AIC                } &  3348.467   \\\\\n",
       "\\textbf{Time:}                   &     22:21:03     & \\textbf{  BIC                } &  3369.326   \\\\\n",
       "\\textbf{Sample:}                 &        0         & \\textbf{  HQIC               } &  3356.667   \\\\\n",
       "\\textbf{}                        &       - 479      & \\textbf{                     } &             \\\\\n",
       "\\textbf{Covariance Type:}        &       opg        & \\textbf{                     } &             \\\\\n",
       "\\bottomrule\n",
       "\\end{tabular}\n",
       "\\begin{tabular}{lcccccc}\n",
       "                & \\textbf{coef} & \\textbf{std err} & \\textbf{z} & \\textbf{P$> |$z$|$} & \\textbf{[0.025} & \\textbf{0.975]}  \\\\\n",
       "\\midrule\n",
       "\\textbf{const}  &       5.9018  &        3.038     &     1.942  &         0.052        &       -0.053    &       11.857     \\\\\n",
       "\\textbf{ar.L1}  &       0.9968  &        0.005     &   194.334  &         0.000        &        0.987    &        1.007     \\\\\n",
       "\\textbf{ma.L1}  &      -0.8749  &        0.047     &   -18.600  &         0.000        &       -0.967    &       -0.783     \\\\\n",
       "\\textbf{ma.L2}  &      -0.0888  &        0.044     &    -2.001  &         0.045        &       -0.176    &       -0.002     \\\\\n",
       "\\textbf{sigma2} &      62.1352  &        1.957     &    31.746  &         0.000        &       58.299    &       65.971     \\\\\n",
       "\\bottomrule\n",
       "\\end{tabular}\n",
       "\\begin{tabular}{lclc}\n",
       "\\textbf{Ljung-Box (L1) (Q):}     & 0.00 & \\textbf{  Jarque-Bera (JB):  } & 4637.83  \\\\\n",
       "\\textbf{Prob(Q):}                & 0.96 & \\textbf{  Prob(JB):          } &   0.00   \\\\\n",
       "\\textbf{Heteroskedasticity (H):} & 0.29 & \\textbf{  Skew:              } &   2.41   \\\\\n",
       "\\textbf{Prob(H) (two-sided):}    & 0.00 & \\textbf{  Kurtosis:          } &  17.46   \\\\\n",
       "\\bottomrule\n",
       "\\end{tabular}\n",
       "%\\caption{SARIMAX Results}\n",
       "\\end{center}\n",
       "\n",
       "Warnings: \\newline\n",
       " [1] Covariance matrix calculated using the outer product of gradients (complex-step)."
      ],
      "text/plain": [
       "<class 'statsmodels.iolib.summary.Summary'>\n",
       "\"\"\"\n",
       "                               SARIMAX Results                                \n",
       "==============================================================================\n",
       "Dep. Variable:                  Score   No. Observations:                  479\n",
       "Model:                 ARIMA(1, 0, 2)   Log Likelihood               -1669.234\n",
       "Date:                Wed, 22 Nov 2023   AIC                           3348.467\n",
       "Time:                        22:21:03   BIC                           3369.326\n",
       "Sample:                             0   HQIC                          3356.667\n",
       "                                - 479                                         \n",
       "Covariance Type:                  opg                                         \n",
       "==============================================================================\n",
       "                 coef    std err          z      P>|z|      [0.025      0.975]\n",
       "------------------------------------------------------------------------------\n",
       "const          5.9018      3.038      1.942      0.052      -0.053      11.857\n",
       "ar.L1          0.9968      0.005    194.334      0.000       0.987       1.007\n",
       "ma.L1         -0.8749      0.047    -18.600      0.000      -0.967      -0.783\n",
       "ma.L2         -0.0888      0.044     -2.001      0.045      -0.176      -0.002\n",
       "sigma2        62.1352      1.957     31.746      0.000      58.299      65.971\n",
       "===================================================================================\n",
       "Ljung-Box (L1) (Q):                   0.00   Jarque-Bera (JB):              4637.83\n",
       "Prob(Q):                              0.96   Prob(JB):                         0.00\n",
       "Heteroskedasticity (H):               0.29   Skew:                             2.41\n",
       "Prob(H) (two-sided):                  0.00   Kurtosis:                        17.46\n",
       "===================================================================================\n",
       "\n",
       "Warnings:\n",
       "[1] Covariance matrix calculated using the outer product of gradients (complex-step).\n",
       "\"\"\""
      ]
     },
     "execution_count": 98,
     "metadata": {},
     "output_type": "execute_result"
    }
   ],
   "source": [
    "model4.summary()"
   ]
  },
  {
   "cell_type": "code",
   "execution_count": 99,
   "id": "769319c0",
   "metadata": {},
   "outputs": [],
   "source": [
    "pred_time = 20\n",
    "result4 = model4.predict(pred_time)"
   ]
  },
  {
   "cell_type": "code",
   "execution_count": 100,
   "id": "9fb2eb01",
   "metadata": {},
   "outputs": [
    {
     "data": {
      "text/plain": [
       "20     9.011428\n",
       "21     8.680024\n",
       "22     8.890258\n",
       "23     9.933154\n",
       "24     9.482429\n",
       "         ...   \n",
       "474    1.948914\n",
       "475    1.533264\n",
       "476    1.987739\n",
       "477    1.749511\n",
       "478    1.758982\n",
       "Name: predicted_mean, Length: 459, dtype: float64"
      ]
     },
     "execution_count": 100,
     "metadata": {},
     "output_type": "execute_result"
    }
   ],
   "source": [
    "result4"
   ]
  },
  {
   "cell_type": "code",
   "execution_count": 101,
   "id": "a482d812",
   "metadata": {},
   "outputs": [
    {
     "data": {
      "text/plain": [
       "[<matplotlib.lines.Line2D at 0x174c79f4d10>]"
      ]
     },
     "execution_count": 101,
     "metadata": {},
     "output_type": "execute_result"
    },
    {
     "data": {
      "image/png": "[encoded data removed]",
      "text/plain": [
       "<Figure size 640x480 with 1 Axes>"
      ]
     },
     "metadata": {},
     "output_type": "display_data"
    }
   ],
   "source": [
    "plt.plot(range(len(result4)-pred_time), result4[:-pred_time])\n",
    "plt.plot(range(len(result4)-pred_time, len(result4)), result4[-pred_time:])"
   ]
  },
  {
   "cell_type": "code",
   "execution_count": null,
   "id": "3b326fb9",
   "metadata": {},
   "outputs": [],
   "source": [
    "# Model 5 - (2, 0, 1) -    [3348.558644639363, 2, 1],"
   ]
  },
  {
   "cell_type": "code",
   "execution_count": 102,
   "id": "d374ceaa",
   "metadata": {},
   "outputs": [
    {
     "name": "stderr",
     "output_type": "stream",
     "text": [
      "C:\\Users\\aad.sray\\AppData\\Local\\anaconda3\\Lib\\site-packages\\statsmodels\\tsa\\statespace\\sarimax.py:966: UserWarning: Non-stationary starting autoregressive parameters found. Using zeros as starting parameters.\n",
      "  warn('Non-stationary starting autoregressive parameters'\n",
      "C:\\Users\\aad.sray\\AppData\\Local\\anaconda3\\Lib\\site-packages\\statsmodels\\tsa\\statespace\\sarimax.py:978: UserWarning: Non-invertible starting MA parameters found. Using zeros as starting parameters.\n",
      "  warn('Non-invertible starting MA parameters found.'\n"
     ]
    }
   ],
   "source": [
    "model5 = sm.ARIMA(df[\"Score\"], order=(2, 0 , 1)).fit()"
   ]
  },
  {
   "cell_type": "code",
   "execution_count": 103,
   "id": "9cf08c14",
   "metadata": {},
   "outputs": [
    {
     "data": {
      "text/html": [
       "<table class=\"simpletable\">\n",
       "<caption>SARIMAX Results</caption>\n",
       "<tr>\n",
       "  <th>Dep. Variable:</th>         <td>Score</td>      <th>  No. Observations:  </th>    <td>479</td>   \n",
       "</tr>\n",
       "<tr>\n",
       "  <th>Model:</th>            <td>ARIMA(2, 0, 1)</td>  <th>  Log Likelihood     </th> <td>-1669.279</td>\n",
       "</tr>\n",
       "<tr>\n",
       "  <th>Date:</th>            <td>Wed, 22 Nov 2023</td> <th>  AIC                </th> <td>3348.559</td> \n",
       "</tr>\n",
       "<tr>\n",
       "  <th>Time:</th>                <td>22:22:22</td>     <th>  BIC                </th> <td>3369.417</td> \n",
       "</tr>\n",
       "<tr>\n",
       "  <th>Sample:</th>                  <td>0</td>        <th>  HQIC               </th> <td>3356.758</td> \n",
       "</tr>\n",
       "<tr>\n",
       "  <th></th>                      <td> - 479</td>      <th>                     </th>     <td> </td>    \n",
       "</tr>\n",
       "<tr>\n",
       "  <th>Covariance Type:</th>        <td>opg</td>       <th>                     </th>     <td> </td>    \n",
       "</tr>\n",
       "</table>\n",
       "<table class=\"simpletable\">\n",
       "<tr>\n",
       "     <td></td>       <th>coef</th>     <th>std err</th>      <th>z</th>      <th>P>|z|</th>  <th>[0.025</th>    <th>0.975]</th>  \n",
       "</tr>\n",
       "<tr>\n",
       "  <th>const</th>  <td>    5.9094</td> <td>    3.052</td> <td>    1.936</td> <td> 0.053</td> <td>   -0.073</td> <td>   11.892</td>\n",
       "</tr>\n",
       "<tr>\n",
       "  <th>ar.L1</th>  <td>    1.0866</td> <td>    0.046</td> <td>   23.683</td> <td> 0.000</td> <td>    0.997</td> <td>    1.177</td>\n",
       "</tr>\n",
       "<tr>\n",
       "  <th>ar.L2</th>  <td>   -0.0894</td> <td>    0.045</td> <td>   -1.989</td> <td> 0.047</td> <td>   -0.178</td> <td>   -0.001</td>\n",
       "</tr>\n",
       "<tr>\n",
       "  <th>ma.L1</th>  <td>   -0.9672</td> <td>    0.018</td> <td>  -54.256</td> <td> 0.000</td> <td>   -1.002</td> <td>   -0.932</td>\n",
       "</tr>\n",
       "<tr>\n",
       "  <th>sigma2</th> <td>   62.1535</td> <td>    1.987</td> <td>   31.273</td> <td> 0.000</td> <td>   58.258</td> <td>   66.049</td>\n",
       "</tr>\n",
       "</table>\n",
       "<table class=\"simpletable\">\n",
       "<tr>\n",
       "  <th>Ljung-Box (L1) (Q):</th>     <td>0.00</td> <th>  Jarque-Bera (JB):  </th> <td>4612.76</td>\n",
       "</tr>\n",
       "<tr>\n",
       "  <th>Prob(Q):</th>                <td>1.00</td> <th>  Prob(JB):          </th>  <td>0.00</td>  \n",
       "</tr>\n",
       "<tr>\n",
       "  <th>Heteroskedasticity (H):</th> <td>0.29</td> <th>  Skew:              </th>  <td>2.41</td>  \n",
       "</tr>\n",
       "<tr>\n",
       "  <th>Prob(H) (two-sided):</th>    <td>0.00</td> <th>  Kurtosis:          </th>  <td>17.42</td> \n",
       "</tr>\n",
       "</table><br/><br/>Warnings:<br/>[1] Covariance matrix calculated using the outer product of gradients (complex-step)."
      ],
      "text/latex": [
       "\\begin{center}\n",
       "\\begin{tabular}{lclc}\n",
       "\\toprule\n",
       "\\textbf{Dep. Variable:}          &      Score       & \\textbf{  No. Observations:  } &    479      \\\\\n",
       "\\textbf{Model:}                  &  ARIMA(2, 0, 1)  & \\textbf{  Log Likelihood     } & -1669.279   \\\\\n",
       "\\textbf{Date:}                   & Wed, 22 Nov 2023 & \\textbf{  AIC                } &  3348.559   \\\\\n",
       "\\textbf{Time:}                   &     22:22:22     & \\textbf{  BIC                } &  3369.417   \\\\\n",
       "\\textbf{Sample:}                 &        0         & \\textbf{  HQIC               } &  3356.758   \\\\\n",
       "\\textbf{}                        &       - 479      & \\textbf{                     } &             \\\\\n",
       "\\textbf{Covariance Type:}        &       opg        & \\textbf{                     } &             \\\\\n",
       "\\bottomrule\n",
       "\\end{tabular}\n",
       "\\begin{tabular}{lcccccc}\n",
       "                & \\textbf{coef} & \\textbf{std err} & \\textbf{z} & \\textbf{P$> |$z$|$} & \\textbf{[0.025} & \\textbf{0.975]}  \\\\\n",
       "\\midrule\n",
       "\\textbf{const}  &       5.9094  &        3.052     &     1.936  &         0.053        &       -0.073    &       11.892     \\\\\n",
       "\\textbf{ar.L1}  &       1.0866  &        0.046     &    23.683  &         0.000        &        0.997    &        1.177     \\\\\n",
       "\\textbf{ar.L2}  &      -0.0894  &        0.045     &    -1.989  &         0.047        &       -0.178    &       -0.001     \\\\\n",
       "\\textbf{ma.L1}  &      -0.9672  &        0.018     &   -54.256  &         0.000        &       -1.002    &       -0.932     \\\\\n",
       "\\textbf{sigma2} &      62.1535  &        1.987     &    31.273  &         0.000        &       58.258    &       66.049     \\\\\n",
       "\\bottomrule\n",
       "\\end{tabular}\n",
       "\\begin{tabular}{lclc}\n",
       "\\textbf{Ljung-Box (L1) (Q):}     & 0.00 & \\textbf{  Jarque-Bera (JB):  } & 4612.76  \\\\\n",
       "\\textbf{Prob(Q):}                & 1.00 & \\textbf{  Prob(JB):          } &   0.00   \\\\\n",
       "\\textbf{Heteroskedasticity (H):} & 0.29 & \\textbf{  Skew:              } &   2.41   \\\\\n",
       "\\textbf{Prob(H) (two-sided):}    & 0.00 & \\textbf{  Kurtosis:          } &  17.42   \\\\\n",
       "\\bottomrule\n",
       "\\end{tabular}\n",
       "%\\caption{SARIMAX Results}\n",
       "\\end{center}\n",
       "\n",
       "Warnings: \\newline\n",
       " [1] Covariance matrix calculated using the outer product of gradients (complex-step)."
      ],
      "text/plain": [
       "<class 'statsmodels.iolib.summary.Summary'>\n",
       "\"\"\"\n",
       "                               SARIMAX Results                                \n",
       "==============================================================================\n",
       "Dep. Variable:                  Score   No. Observations:                  479\n",
       "Model:                 ARIMA(2, 0, 1)   Log Likelihood               -1669.279\n",
       "Date:                Wed, 22 Nov 2023   AIC                           3348.559\n",
       "Time:                        22:22:22   BIC                           3369.417\n",
       "Sample:                             0   HQIC                          3356.758\n",
       "                                - 479                                         \n",
       "Covariance Type:                  opg                                         \n",
       "==============================================================================\n",
       "                 coef    std err          z      P>|z|      [0.025      0.975]\n",
       "------------------------------------------------------------------------------\n",
       "const          5.9094      3.052      1.936      0.053      -0.073      11.892\n",
       "ar.L1          1.0866      0.046     23.683      0.000       0.997       1.177\n",
       "ar.L2         -0.0894      0.045     -1.989      0.047      -0.178      -0.001\n",
       "ma.L1         -0.9672      0.018    -54.256      0.000      -1.002      -0.932\n",
       "sigma2        62.1535      1.987     31.273      0.000      58.258      66.049\n",
       "===================================================================================\n",
       "Ljung-Box (L1) (Q):                   0.00   Jarque-Bera (JB):              4612.76\n",
       "Prob(Q):                              1.00   Prob(JB):                         0.00\n",
       "Heteroskedasticity (H):               0.29   Skew:                             2.41\n",
       "Prob(H) (two-sided):                  0.00   Kurtosis:                        17.42\n",
       "===================================================================================\n",
       "\n",
       "Warnings:\n",
       "[1] Covariance matrix calculated using the outer product of gradients (complex-step).\n",
       "\"\"\""
      ]
     },
     "execution_count": 103,
     "metadata": {},
     "output_type": "execute_result"
    }
   ],
   "source": [
    "model5.summary()"
   ]
  },
  {
   "cell_type": "code",
   "execution_count": 104,
   "id": "7e969c06",
   "metadata": {},
   "outputs": [],
   "source": [
    "pred_time = 20\n",
    "result5 = model5.predict(pred_time)"
   ]
  },
  {
   "cell_type": "code",
   "execution_count": 105,
   "id": "d1c00825",
   "metadata": {},
   "outputs": [
    {
     "data": {
      "text/plain": [
       "20     8.965423\n",
       "21     8.692649\n",
       "22     8.876606\n",
       "23     9.919940\n",
       "24     9.545709\n",
       "         ...   \n",
       "474    1.809297\n",
       "475    1.557825\n",
       "476    1.971199\n",
       "477    1.774405\n",
       "478    1.762940\n",
       "Name: predicted_mean, Length: 459, dtype: float64"
      ]
     },
     "execution_count": 105,
     "metadata": {},
     "output_type": "execute_result"
    }
   ],
   "source": [
    "result5"
   ]
  },
  {
   "cell_type": "code",
   "execution_count": 106,
   "id": "3e1c65c7",
   "metadata": {},
   "outputs": [
    {
     "data": {
      "text/plain": [
       "[<matplotlib.lines.Line2D at 0x174c7a6b910>]"
      ]
     },
     "execution_count": 106,
     "metadata": {},
     "output_type": "execute_result"
    },
    {
     "data": {
      "image/png": "[encoded data removed]",
      "text/plain": [
       "<Figure size 640x480 with 1 Axes>"
      ]
     },
     "metadata": {},
     "output_type": "display_data"
    }
   ],
   "source": [
    "plt.plot(range(len(result5)-pred_time), result5[:-pred_time])\n",
    "plt.plot(range(len(result5)-pred_time, len(result5)), result5[-pred_time:])"
   ]
  },
  {
   "cell_type": "code",
   "execution_count": null,
   "id": "6c6d6505",
   "metadata": {},
   "outputs": [],
   "source": [
    "# Here we have decided to increase our ranges to see if we can gather any better results for our ARMA testing"
   ]
  },
  {
   "cell_type": "code",
   "execution_count": 44,
   "id": "df15615f",
   "metadata": {
    "scrolled": true
   },
   "outputs": [
    {
     "name": "stderr",
     "output_type": "stream",
     "text": [
      "C:\\Users\\aad.sray\\AppData\\Local\\anaconda3\\Lib\\site-packages\\statsmodels\\base\\model.py:607: ConvergenceWarning: Maximum Likelihood optimization failed to converge. Check mle_retvals\n",
      "  warnings.warn(\"Maximum Likelihood optimization failed to \"\n",
      "C:\\Users\\aad.sray\\AppData\\Local\\anaconda3\\Lib\\site-packages\\statsmodels\\base\\model.py:607: ConvergenceWarning: Maximum Likelihood optimization failed to converge. Check mle_retvals\n",
      "  warnings.warn(\"Maximum Likelihood optimization failed to \"\n",
      "C:\\Users\\aad.sray\\AppData\\Local\\anaconda3\\Lib\\site-packages\\statsmodels\\base\\model.py:607: ConvergenceWarning: Maximum Likelihood optimization failed to converge. Check mle_retvals\n",
      "  warnings.warn(\"Maximum Likelihood optimization failed to \"\n",
      "C:\\Users\\aad.sray\\AppData\\Local\\anaconda3\\Lib\\site-packages\\statsmodels\\tsa\\statespace\\sarimax.py:966: UserWarning: Non-stationary starting autoregressive parameters found. Using zeros as starting parameters.\n",
      "  warn('Non-stationary starting autoregressive parameters'\n",
      "C:\\Users\\aad.sray\\AppData\\Local\\anaconda3\\Lib\\site-packages\\statsmodels\\tsa\\statespace\\sarimax.py:978: UserWarning: Non-invertible starting MA parameters found. Using zeros as starting parameters.\n",
      "  warn('Non-invertible starting MA parameters found.'\n",
      "C:\\Users\\aad.sray\\AppData\\Local\\anaconda3\\Lib\\site-packages\\statsmodels\\tsa\\statespace\\sarimax.py:966: UserWarning: Non-stationary starting autoregressive parameters found. Using zeros as starting parameters.\n",
      "  warn('Non-stationary starting autoregressive parameters'\n",
      "C:\\Users\\aad.sray\\AppData\\Local\\anaconda3\\Lib\\site-packages\\statsmodels\\tsa\\statespace\\sarimax.py:978: UserWarning: Non-invertible starting MA parameters found. Using zeros as starting parameters.\n",
      "  warn('Non-invertible starting MA parameters found.'\n",
      "C:\\Users\\aad.sray\\AppData\\Local\\anaconda3\\Lib\\site-packages\\statsmodels\\tsa\\statespace\\sarimax.py:966: UserWarning: Non-stationary starting autoregressive parameters found. Using zeros as starting parameters.\n",
      "  warn('Non-stationary starting autoregressive parameters'\n",
      "C:\\Users\\aad.sray\\AppData\\Local\\anaconda3\\Lib\\site-packages\\statsmodels\\tsa\\statespace\\sarimax.py:978: UserWarning: Non-invertible starting MA parameters found. Using zeros as starting parameters.\n",
      "  warn('Non-invertible starting MA parameters found.'\n",
      "C:\\Users\\aad.sray\\AppData\\Local\\anaconda3\\Lib\\site-packages\\statsmodels\\base\\model.py:607: ConvergenceWarning: Maximum Likelihood optimization failed to converge. Check mle_retvals\n",
      "  warnings.warn(\"Maximum Likelihood optimization failed to \"\n",
      "C:\\Users\\aad.sray\\AppData\\Local\\anaconda3\\Lib\\site-packages\\statsmodels\\base\\model.py:607: ConvergenceWarning: Maximum Likelihood optimization failed to converge. Check mle_retvals\n",
      "  warnings.warn(\"Maximum Likelihood optimization failed to \"\n",
      "C:\\Users\\aad.sray\\AppData\\Local\\anaconda3\\Lib\\site-packages\\statsmodels\\base\\model.py:607: ConvergenceWarning: Maximum Likelihood optimization failed to converge. Check mle_retvals\n",
      "  warnings.warn(\"Maximum Likelihood optimization failed to \"\n",
      "C:\\Users\\aad.sray\\AppData\\Local\\anaconda3\\Lib\\site-packages\\statsmodels\\base\\model.py:607: ConvergenceWarning: Maximum Likelihood optimization failed to converge. Check mle_retvals\n",
      "  warnings.warn(\"Maximum Likelihood optimization failed to \"\n",
      "C:\\Users\\aad.sray\\AppData\\Local\\anaconda3\\Lib\\site-packages\\statsmodels\\base\\model.py:607: ConvergenceWarning: Maximum Likelihood optimization failed to converge. Check mle_retvals\n",
      "  warnings.warn(\"Maximum Likelihood optimization failed to \"\n",
      "C:\\Users\\aad.sray\\AppData\\Local\\anaconda3\\Lib\\site-packages\\statsmodels\\base\\model.py:607: ConvergenceWarning: Maximum Likelihood optimization failed to converge. Check mle_retvals\n",
      "  warnings.warn(\"Maximum Likelihood optimization failed to \"\n",
      "C:\\Users\\aad.sray\\AppData\\Local\\anaconda3\\Lib\\site-packages\\statsmodels\\base\\model.py:607: ConvergenceWarning: Maximum Likelihood optimization failed to converge. Check mle_retvals\n",
      "  warnings.warn(\"Maximum Likelihood optimization failed to \"\n",
      "C:\\Users\\aad.sray\\AppData\\Local\\anaconda3\\Lib\\site-packages\\statsmodels\\base\\model.py:607: ConvergenceWarning: Maximum Likelihood optimization failed to converge. Check mle_retvals\n",
      "  warnings.warn(\"Maximum Likelihood optimization failed to \"\n",
      "C:\\Users\\aad.sray\\AppData\\Local\\anaconda3\\Lib\\site-packages\\statsmodels\\base\\model.py:607: ConvergenceWarning: Maximum Likelihood optimization failed to converge. Check mle_retvals\n",
      "  warnings.warn(\"Maximum Likelihood optimization failed to \"\n",
      "C:\\Users\\aad.sray\\AppData\\Local\\anaconda3\\Lib\\site-packages\\statsmodels\\base\\model.py:607: ConvergenceWarning: Maximum Likelihood optimization failed to converge. Check mle_retvals\n",
      "  warnings.warn(\"Maximum Likelihood optimization failed to \"\n",
      "C:\\Users\\aad.sray\\AppData\\Local\\anaconda3\\Lib\\site-packages\\statsmodels\\base\\model.py:607: ConvergenceWarning: Maximum Likelihood optimization failed to converge. Check mle_retvals\n",
      "  warnings.warn(\"Maximum Likelihood optimization failed to \"\n",
      "C:\\Users\\aad.sray\\AppData\\Local\\anaconda3\\Lib\\site-packages\\statsmodels\\tsa\\statespace\\sarimax.py:966: UserWarning: Non-stationary starting autoregressive parameters found. Using zeros as starting parameters.\n",
      "  warn('Non-stationary starting autoregressive parameters'\n",
      "C:\\Users\\aad.sray\\AppData\\Local\\anaconda3\\Lib\\site-packages\\statsmodels\\tsa\\statespace\\sarimax.py:978: UserWarning: Non-invertible starting MA parameters found. Using zeros as starting parameters.\n",
      "  warn('Non-invertible starting MA parameters found.'\n",
      "C:\\Users\\aad.sray\\AppData\\Local\\anaconda3\\Lib\\site-packages\\statsmodels\\base\\model.py:607: ConvergenceWarning: Maximum Likelihood optimization failed to converge. Check mle_retvals\n",
      "  warnings.warn(\"Maximum Likelihood optimization failed to \"\n",
      "C:\\Users\\aad.sray\\AppData\\Local\\anaconda3\\Lib\\site-packages\\statsmodels\\tsa\\statespace\\sarimax.py:966: UserWarning: Non-stationary starting autoregressive parameters found. Using zeros as starting parameters.\n",
      "  warn('Non-stationary starting autoregressive parameters'\n",
      "C:\\Users\\aad.sray\\AppData\\Local\\anaconda3\\Lib\\site-packages\\statsmodels\\tsa\\statespace\\sarimax.py:978: UserWarning: Non-invertible starting MA parameters found. Using zeros as starting parameters.\n",
      "  warn('Non-invertible starting MA parameters found.'\n",
      "C:\\Users\\aad.sray\\AppData\\Local\\anaconda3\\Lib\\site-packages\\statsmodels\\base\\model.py:607: ConvergenceWarning: Maximum Likelihood optimization failed to converge. Check mle_retvals\n",
      "  warnings.warn(\"Maximum Likelihood optimization failed to \"\n",
      "C:\\Users\\aad.sray\\AppData\\Local\\anaconda3\\Lib\\site-packages\\statsmodels\\base\\model.py:607: ConvergenceWarning: Maximum Likelihood optimization failed to converge. Check mle_retvals\n",
      "  warnings.warn(\"Maximum Likelihood optimization failed to \"\n",
      "C:\\Users\\aad.sray\\AppData\\Local\\anaconda3\\Lib\\site-packages\\statsmodels\\base\\model.py:607: ConvergenceWarning: Maximum Likelihood optimization failed to converge. Check mle_retvals\n",
      "  warnings.warn(\"Maximum Likelihood optimization failed to \"\n",
      "C:\\Users\\aad.sray\\AppData\\Local\\anaconda3\\Lib\\site-packages\\statsmodels\\base\\model.py:607: ConvergenceWarning: Maximum Likelihood optimization failed to converge. Check mle_retvals\n",
      "  warnings.warn(\"Maximum Likelihood optimization failed to \"\n",
      "C:\\Users\\aad.sray\\AppData\\Local\\anaconda3\\Lib\\site-packages\\statsmodels\\base\\model.py:607: ConvergenceWarning: Maximum Likelihood optimization failed to converge. Check mle_retvals\n",
      "  warnings.warn(\"Maximum Likelihood optimization failed to \"\n",
      "C:\\Users\\aad.sray\\AppData\\Local\\anaconda3\\Lib\\site-packages\\statsmodels\\base\\model.py:607: ConvergenceWarning: Maximum Likelihood optimization failed to converge. Check mle_retvals\n",
      "  warnings.warn(\"Maximum Likelihood optimization failed to \"\n",
      "C:\\Users\\aad.sray\\AppData\\Local\\anaconda3\\Lib\\site-packages\\statsmodels\\base\\model.py:607: ConvergenceWarning: Maximum Likelihood optimization failed to converge. Check mle_retvals\n",
      "  warnings.warn(\"Maximum Likelihood optimization failed to \"\n",
      "C:\\Users\\aad.sray\\AppData\\Local\\anaconda3\\Lib\\site-packages\\statsmodels\\tsa\\statespace\\sarimax.py:966: UserWarning: Non-stationary starting autoregressive parameters found. Using zeros as starting parameters.\n",
      "  warn('Non-stationary starting autoregressive parameters'\n",
      "C:\\Users\\aad.sray\\AppData\\Local\\anaconda3\\Lib\\site-packages\\statsmodels\\tsa\\statespace\\sarimax.py:978: UserWarning: Non-invertible starting MA parameters found. Using zeros as starting parameters.\n",
      "  warn('Non-invertible starting MA parameters found.'\n",
      "C:\\Users\\aad.sray\\AppData\\Local\\anaconda3\\Lib\\site-packages\\statsmodels\\base\\model.py:607: ConvergenceWarning: Maximum Likelihood optimization failed to converge. Check mle_retvals\n",
      "  warnings.warn(\"Maximum Likelihood optimization failed to \"\n",
      "C:\\Users\\aad.sray\\AppData\\Local\\anaconda3\\Lib\\site-packages\\statsmodels\\tsa\\statespace\\sarimax.py:966: UserWarning: Non-stationary starting autoregressive parameters found. Using zeros as starting parameters.\n",
      "  warn('Non-stationary starting autoregressive parameters'\n",
      "C:\\Users\\aad.sray\\AppData\\Local\\anaconda3\\Lib\\site-packages\\statsmodels\\tsa\\statespace\\sarimax.py:978: UserWarning: Non-invertible starting MA parameters found. Using zeros as starting parameters.\n",
      "  warn('Non-invertible starting MA parameters found.'\n",
      "C:\\Users\\aad.sray\\AppData\\Local\\anaconda3\\Lib\\site-packages\\statsmodels\\base\\model.py:607: ConvergenceWarning: Maximum Likelihood optimization failed to converge. Check mle_retvals\n",
      "  warnings.warn(\"Maximum Likelihood optimization failed to \"\n",
      "C:\\Users\\aad.sray\\AppData\\Local\\anaconda3\\Lib\\site-packages\\statsmodels\\base\\model.py:607: ConvergenceWarning: Maximum Likelihood optimization failed to converge. Check mle_retvals\n",
      "  warnings.warn(\"Maximum Likelihood optimization failed to \"\n",
      "C:\\Users\\aad.sray\\AppData\\Local\\anaconda3\\Lib\\site-packages\\statsmodels\\base\\model.py:607: ConvergenceWarning: Maximum Likelihood optimization failed to converge. Check mle_retvals\n",
      "  warnings.warn(\"Maximum Likelihood optimization failed to \"\n",
      "C:\\Users\\aad.sray\\AppData\\Local\\anaconda3\\Lib\\site-packages\\statsmodels\\base\\model.py:607: ConvergenceWarning: Maximum Likelihood optimization failed to converge. Check mle_retvals\n",
      "  warnings.warn(\"Maximum Likelihood optimization failed to \"\n",
      "C:\\Users\\aad.sray\\AppData\\Local\\anaconda3\\Lib\\site-packages\\statsmodels\\base\\model.py:607: ConvergenceWarning: Maximum Likelihood optimization failed to converge. Check mle_retvals\n",
      "  warnings.warn(\"Maximum Likelihood optimization failed to \"\n",
      "C:\\Users\\aad.sray\\AppData\\Local\\anaconda3\\Lib\\site-packages\\statsmodels\\base\\model.py:607: ConvergenceWarning: Maximum Likelihood optimization failed to converge. Check mle_retvals\n",
      "  warnings.warn(\"Maximum Likelihood optimization failed to \"\n",
      "C:\\Users\\aad.sray\\AppData\\Local\\anaconda3\\Lib\\site-packages\\statsmodels\\base\\model.py:607: ConvergenceWarning: Maximum Likelihood optimization failed to converge. Check mle_retvals\n",
      "  warnings.warn(\"Maximum Likelihood optimization failed to \"\n",
      "C:\\Users\\aad.sray\\AppData\\Local\\anaconda3\\Lib\\site-packages\\statsmodels\\tsa\\statespace\\sarimax.py:966: UserWarning: Non-stationary starting autoregressive parameters found. Using zeros as starting parameters.\n",
      "  warn('Non-stationary starting autoregressive parameters'\n",
      "C:\\Users\\aad.sray\\AppData\\Local\\anaconda3\\Lib\\site-packages\\statsmodels\\tsa\\statespace\\sarimax.py:978: UserWarning: Non-invertible starting MA parameters found. Using zeros as starting parameters.\n",
      "  warn('Non-invertible starting MA parameters found.'\n",
      "C:\\Users\\aad.sray\\AppData\\Local\\anaconda3\\Lib\\site-packages\\statsmodels\\base\\model.py:607: ConvergenceWarning: Maximum Likelihood optimization failed to converge. Check mle_retvals\n",
      "  warnings.warn(\"Maximum Likelihood optimization failed to \"\n",
      "C:\\Users\\aad.sray\\AppData\\Local\\anaconda3\\Lib\\site-packages\\statsmodels\\tsa\\statespace\\sarimax.py:966: UserWarning: Non-stationary starting autoregressive parameters found. Using zeros as starting parameters.\n",
      "  warn('Non-stationary starting autoregressive parameters'\n",
      "C:\\Users\\aad.sray\\AppData\\Local\\anaconda3\\Lib\\site-packages\\statsmodels\\tsa\\statespace\\sarimax.py:978: UserWarning: Non-invertible starting MA parameters found. Using zeros as starting parameters.\n",
      "  warn('Non-invertible starting MA parameters found.'\n",
      "C:\\Users\\aad.sray\\AppData\\Local\\anaconda3\\Lib\\site-packages\\statsmodels\\base\\model.py:607: ConvergenceWarning: Maximum Likelihood optimization failed to converge. Check mle_retvals\n",
      "  warnings.warn(\"Maximum Likelihood optimization failed to \"\n",
      "C:\\Users\\aad.sray\\AppData\\Local\\anaconda3\\Lib\\site-packages\\statsmodels\\base\\model.py:607: ConvergenceWarning: Maximum Likelihood optimization failed to converge. Check mle_retvals\n",
      "  warnings.warn(\"Maximum Likelihood optimization failed to \"\n",
      "C:\\Users\\aad.sray\\AppData\\Local\\anaconda3\\Lib\\site-packages\\statsmodels\\base\\model.py:607: ConvergenceWarning: Maximum Likelihood optimization failed to converge. Check mle_retvals\n",
      "  warnings.warn(\"Maximum Likelihood optimization failed to \"\n",
      "C:\\Users\\aad.sray\\AppData\\Local\\anaconda3\\Lib\\site-packages\\statsmodels\\base\\model.py:607: ConvergenceWarning: Maximum Likelihood optimization failed to converge. Check mle_retvals\n",
      "  warnings.warn(\"Maximum Likelihood optimization failed to \"\n",
      "C:\\Users\\aad.sray\\AppData\\Local\\anaconda3\\Lib\\site-packages\\statsmodels\\base\\model.py:607: ConvergenceWarning: Maximum Likelihood optimization failed to converge. Check mle_retvals\n",
      "  warnings.warn(\"Maximum Likelihood optimization failed to \"\n",
      "C:\\Users\\aad.sray\\AppData\\Local\\anaconda3\\Lib\\site-packages\\statsmodels\\base\\model.py:607: ConvergenceWarning: Maximum Likelihood optimization failed to converge. Check mle_retvals\n",
      "  warnings.warn(\"Maximum Likelihood optimization failed to \"\n",
      "C:\\Users\\aad.sray\\AppData\\Local\\anaconda3\\Lib\\site-packages\\statsmodels\\base\\model.py:607: ConvergenceWarning: Maximum Likelihood optimization failed to converge. Check mle_retvals\n",
      "  warnings.warn(\"Maximum Likelihood optimization failed to \"\n",
      "C:\\Users\\aad.sray\\AppData\\Local\\anaconda3\\Lib\\site-packages\\statsmodels\\tsa\\statespace\\sarimax.py:966: UserWarning: Non-stationary starting autoregressive parameters found. Using zeros as starting parameters.\n",
      "  warn('Non-stationary starting autoregressive parameters'\n",
      "C:\\Users\\aad.sray\\AppData\\Local\\anaconda3\\Lib\\site-packages\\statsmodels\\tsa\\statespace\\sarimax.py:978: UserWarning: Non-invertible starting MA parameters found. Using zeros as starting parameters.\n",
      "  warn('Non-invertible starting MA parameters found.'\n",
      "C:\\Users\\aad.sray\\AppData\\Local\\anaconda3\\Lib\\site-packages\\statsmodels\\base\\model.py:607: ConvergenceWarning: Maximum Likelihood optimization failed to converge. Check mle_retvals\n",
      "  warnings.warn(\"Maximum Likelihood optimization failed to \"\n",
      "C:\\Users\\aad.sray\\AppData\\Local\\anaconda3\\Lib\\site-packages\\statsmodels\\tsa\\statespace\\sarimax.py:966: UserWarning: Non-stationary starting autoregressive parameters found. Using zeros as starting parameters.\n",
      "  warn('Non-stationary starting autoregressive parameters'\n",
      "C:\\Users\\aad.sray\\AppData\\Local\\anaconda3\\Lib\\site-packages\\statsmodels\\tsa\\statespace\\sarimax.py:978: UserWarning: Non-invertible starting MA parameters found. Using zeros as starting parameters.\n",
      "  warn('Non-invertible starting MA parameters found.'\n",
      "C:\\Users\\aad.sray\\AppData\\Local\\anaconda3\\Lib\\site-packages\\statsmodels\\base\\model.py:607: ConvergenceWarning: Maximum Likelihood optimization failed to converge. Check mle_retvals\n",
      "  warnings.warn(\"Maximum Likelihood optimization failed to \"\n",
      "C:\\Users\\aad.sray\\AppData\\Local\\anaconda3\\Lib\\site-packages\\statsmodels\\base\\model.py:607: ConvergenceWarning: Maximum Likelihood optimization failed to converge. Check mle_retvals\n",
      "  warnings.warn(\"Maximum Likelihood optimization failed to \"\n",
      "C:\\Users\\aad.sray\\AppData\\Local\\anaconda3\\Lib\\site-packages\\statsmodels\\base\\model.py:607: ConvergenceWarning: Maximum Likelihood optimization failed to converge. Check mle_retvals\n",
      "  warnings.warn(\"Maximum Likelihood optimization failed to \"\n",
      "C:\\Users\\aad.sray\\AppData\\Local\\anaconda3\\Lib\\site-packages\\statsmodels\\base\\model.py:607: ConvergenceWarning: Maximum Likelihood optimization failed to converge. Check mle_retvals\n",
      "  warnings.warn(\"Maximum Likelihood optimization failed to \"\n",
      "C:\\Users\\aad.sray\\AppData\\Local\\anaconda3\\Lib\\site-packages\\statsmodels\\base\\model.py:607: ConvergenceWarning: Maximum Likelihood optimization failed to converge. Check mle_retvals\n",
      "  warnings.warn(\"Maximum Likelihood optimization failed to \"\n",
      "C:\\Users\\aad.sray\\AppData\\Local\\anaconda3\\Lib\\site-packages\\statsmodels\\base\\model.py:607: ConvergenceWarning: Maximum Likelihood optimization failed to converge. Check mle_retvals\n",
      "  warnings.warn(\"Maximum Likelihood optimization failed to \"\n",
      "C:\\Users\\aad.sray\\AppData\\Local\\anaconda3\\Lib\\site-packages\\statsmodels\\base\\model.py:607: ConvergenceWarning: Maximum Likelihood optimization failed to converge. Check mle_retvals\n",
      "  warnings.warn(\"Maximum Likelihood optimization failed to \"\n",
      "C:\\Users\\aad.sray\\AppData\\Local\\anaconda3\\Lib\\site-packages\\statsmodels\\tsa\\statespace\\sarimax.py:966: UserWarning: Non-stationary starting autoregressive parameters found. Using zeros as starting parameters.\n",
      "  warn('Non-stationary starting autoregressive parameters'\n",
      "C:\\Users\\aad.sray\\AppData\\Local\\anaconda3\\Lib\\site-packages\\statsmodels\\tsa\\statespace\\sarimax.py:978: UserWarning: Non-invertible starting MA parameters found. Using zeros as starting parameters.\n",
      "  warn('Non-invertible starting MA parameters found.'\n",
      "C:\\Users\\aad.sray\\AppData\\Local\\anaconda3\\Lib\\site-packages\\statsmodels\\base\\model.py:607: ConvergenceWarning: Maximum Likelihood optimization failed to converge. Check mle_retvals\n",
      "  warnings.warn(\"Maximum Likelihood optimization failed to \"\n",
      "C:\\Users\\aad.sray\\AppData\\Local\\anaconda3\\Lib\\site-packages\\statsmodels\\tsa\\statespace\\sarimax.py:966: UserWarning: Non-stationary starting autoregressive parameters found. Using zeros as starting parameters.\n",
      "  warn('Non-stationary starting autoregressive parameters'\n",
      "C:\\Users\\aad.sray\\AppData\\Local\\anaconda3\\Lib\\site-packages\\statsmodels\\tsa\\statespace\\sarimax.py:978: UserWarning: Non-invertible starting MA parameters found. Using zeros as starting parameters.\n",
      "  warn('Non-invertible starting MA parameters found.'\n",
      "C:\\Users\\aad.sray\\AppData\\Local\\anaconda3\\Lib\\site-packages\\statsmodels\\base\\model.py:607: ConvergenceWarning: Maximum Likelihood optimization failed to converge. Check mle_retvals\n",
      "  warnings.warn(\"Maximum Likelihood optimization failed to \"\n",
      "C:\\Users\\aad.sray\\AppData\\Local\\anaconda3\\Lib\\site-packages\\statsmodels\\base\\model.py:607: ConvergenceWarning: Maximum Likelihood optimization failed to converge. Check mle_retvals\n",
      "  warnings.warn(\"Maximum Likelihood optimization failed to \"\n",
      "C:\\Users\\aad.sray\\AppData\\Local\\anaconda3\\Lib\\site-packages\\statsmodels\\base\\model.py:607: ConvergenceWarning: Maximum Likelihood optimization failed to converge. Check mle_retvals\n",
      "  warnings.warn(\"Maximum Likelihood optimization failed to \"\n",
      "C:\\Users\\aad.sray\\AppData\\Local\\anaconda3\\Lib\\site-packages\\statsmodels\\base\\model.py:607: ConvergenceWarning: Maximum Likelihood optimization failed to converge. Check mle_retvals\n",
      "  warnings.warn(\"Maximum Likelihood optimization failed to \"\n",
      "C:\\Users\\aad.sray\\AppData\\Local\\anaconda3\\Lib\\site-packages\\statsmodels\\tsa\\statespace\\sarimax.py:978: UserWarning: Non-invertible starting MA parameters found. Using zeros as starting parameters.\n",
      "  warn('Non-invertible starting MA parameters found.'\n",
      "C:\\Users\\aad.sray\\AppData\\Local\\anaconda3\\Lib\\site-packages\\statsmodels\\base\\model.py:607: ConvergenceWarning: Maximum Likelihood optimization failed to converge. Check mle_retvals\n",
      "  warnings.warn(\"Maximum Likelihood optimization failed to \"\n",
      "C:\\Users\\aad.sray\\AppData\\Local\\anaconda3\\Lib\\site-packages\\statsmodels\\base\\model.py:607: ConvergenceWarning: Maximum Likelihood optimization failed to converge. Check mle_retvals\n",
      "  warnings.warn(\"Maximum Likelihood optimization failed to \"\n",
      "C:\\Users\\aad.sray\\AppData\\Local\\anaconda3\\Lib\\site-packages\\statsmodels\\base\\model.py:607: ConvergenceWarning: Maximum Likelihood optimization failed to converge. Check mle_retvals\n",
      "  warnings.warn(\"Maximum Likelihood optimization failed to \"\n",
      "C:\\Users\\aad.sray\\AppData\\Local\\anaconda3\\Lib\\site-packages\\statsmodels\\tsa\\statespace\\sarimax.py:966: UserWarning: Non-stationary starting autoregressive parameters found. Using zeros as starting parameters.\n",
      "  warn('Non-stationary starting autoregressive parameters'\n",
      "C:\\Users\\aad.sray\\AppData\\Local\\anaconda3\\Lib\\site-packages\\statsmodels\\tsa\\statespace\\sarimax.py:978: UserWarning: Non-invertible starting MA parameters found. Using zeros as starting parameters.\n",
      "  warn('Non-invertible starting MA parameters found.'\n",
      "C:\\Users\\aad.sray\\AppData\\Local\\anaconda3\\Lib\\site-packages\\statsmodels\\base\\model.py:607: ConvergenceWarning: Maximum Likelihood optimization failed to converge. Check mle_retvals\n",
      "  warnings.warn(\"Maximum Likelihood optimization failed to \"\n",
      "C:\\Users\\aad.sray\\AppData\\Local\\anaconda3\\Lib\\site-packages\\statsmodels\\tsa\\statespace\\sarimax.py:966: UserWarning: Non-stationary starting autoregressive parameters found. Using zeros as starting parameters.\n",
      "  warn('Non-stationary starting autoregressive parameters'\n",
      "C:\\Users\\aad.sray\\AppData\\Local\\anaconda3\\Lib\\site-packages\\statsmodels\\tsa\\statespace\\sarimax.py:978: UserWarning: Non-invertible starting MA parameters found. Using zeros as starting parameters.\n",
      "  warn('Non-invertible starting MA parameters found.'\n",
      "C:\\Users\\aad.sray\\AppData\\Local\\anaconda3\\Lib\\site-packages\\statsmodels\\base\\model.py:607: ConvergenceWarning: Maximum Likelihood optimization failed to converge. Check mle_retvals\n",
      "  warnings.warn(\"Maximum Likelihood optimization failed to \"\n",
      "C:\\Users\\aad.sray\\AppData\\Local\\anaconda3\\Lib\\site-packages\\statsmodels\\base\\model.py:607: ConvergenceWarning: Maximum Likelihood optimization failed to converge. Check mle_retvals\n",
      "  warnings.warn(\"Maximum Likelihood optimization failed to \"\n",
      "C:\\Users\\aad.sray\\AppData\\Local\\anaconda3\\Lib\\site-packages\\statsmodels\\base\\model.py:607: ConvergenceWarning: Maximum Likelihood optimization failed to converge. Check mle_retvals\n",
      "  warnings.warn(\"Maximum Likelihood optimization failed to \"\n",
      "C:\\Users\\aad.sray\\AppData\\Local\\anaconda3\\Lib\\site-packages\\statsmodels\\tsa\\statespace\\sarimax.py:978: UserWarning: Non-invertible starting MA parameters found. Using zeros as starting parameters.\n",
      "  warn('Non-invertible starting MA parameters found.'\n",
      "C:\\Users\\aad.sray\\AppData\\Local\\anaconda3\\Lib\\site-packages\\statsmodels\\base\\model.py:607: ConvergenceWarning: Maximum Likelihood optimization failed to converge. Check mle_retvals\n",
      "  warnings.warn(\"Maximum Likelihood optimization failed to \"\n",
      "C:\\Users\\aad.sray\\AppData\\Local\\anaconda3\\Lib\\site-packages\\statsmodels\\base\\model.py:607: ConvergenceWarning: Maximum Likelihood optimization failed to converge. Check mle_retvals\n",
      "  warnings.warn(\"Maximum Likelihood optimization failed to \"\n"
     ]
    }
   ],
   "source": [
    "aicVals = []\n",
    "for p in range(10):\n",
    "    for q in range(10):\n",
    "        aicVals.append( [   sm.ARIMA( df[\"Score\"], order=(p, 0, q) ).fit().aic, p, q   ] )"
   ]
  },
  {
   "cell_type": "code",
   "execution_count": 45,
   "id": "1b28f99e",
   "metadata": {},
   "outputs": [],
   "source": [
    "aicVals.sort()"
   ]
  },
  {
   "cell_type": "code",
   "execution_count": 46,
   "id": "bb7cca56",
   "metadata": {},
   "outputs": [
    {
     "data": {
      "text/plain": [
       "[[3345.1821835020637, 6, 6],\n",
       " [3345.7007759687767, 3, 4],\n",
       " [3346.043188816975, 7, 5],\n",
       " [3346.0493070901252, 6, 5],\n",
       " [3346.464820924101, 5, 8],\n",
       " [3346.699891389827, 5, 6],\n",
       " [3347.0963219967316, 3, 3],\n",
       " [3347.1157026827877, 5, 7],\n",
       " [3347.5396469533507, 6, 7],\n",
       " [3347.547941352418, 4, 9],\n",
       " [3347.5907522336142, 2, 2],\n",
       " [3347.761264146475, 5, 3],\n",
       " [3347.844560628829, 3, 5],\n",
       " [3348.265206953377, 6, 8],\n",
       " [3348.423685200962, 4, 8],\n",
       " [3348.4671837724236, 1, 2],\n",
       " [3348.558644639363, 2, 1],\n",
       " [3348.7908182225106, 8, 9],\n",
       " [3348.970973209339, 9, 4],\n",
       " [3349.0122509770226, 3, 2],\n",
       " [3349.057510765276, 2, 3],\n",
       " [3349.50772439521, 3, 6],\n",
       " [3349.5888561468914, 8, 7],\n",
       " [3349.7015990106265, 8, 6],\n",
       " [3349.785561548885, 7, 7],\n",
       " [3350.0181251098074, 4, 3],\n",
       " [3350.126983577823, 1, 1],\n",
       " [3350.307134171953, 7, 6],\n",
       " [3350.355107828729, 3, 7],\n",
       " [3350.358461894353, 5, 9],\n",
       " [3350.4060420785004, 8, 5],\n",
       " [3350.41114040721, 1, 3],\n",
       " [3350.4787462144377, 3, 1],\n",
       " [3350.564590962179, 4, 2],\n",
       " [3350.6247783620065, 2, 4],\n",
       " [3350.7050210307007, 7, 9],\n",
       " [3350.737998946841, 8, 2],\n",
       " [3350.7427245281606, 9, 5],\n",
       " [3350.7524423576688, 7, 3],\n",
       " [3350.832854821957, 6, 3],\n",
       " [3350.940360333063, 8, 4],\n",
       " [3350.9951770603893, 9, 7],\n",
       " [3351.15291211451, 2, 8],\n",
       " [3351.1579431636046, 7, 2],\n",
       " [3351.373531047552, 2, 7],\n",
       " [3351.469337090248, 7, 8],\n",
       " [3351.478927610526, 3, 8],\n",
       " [3351.535968067492, 8, 3],\n",
       " [3351.693467952835, 4, 4],\n",
       " [3351.8316055192527, 4, 1],\n",
       " [3351.867902826086, 1, 4],\n",
       " [3351.925804392646, 7, 4],\n",
       " [3352.0508392272804, 5, 4],\n",
       " [3352.1727826511838, 2, 6],\n",
       " [3352.3003586989116, 6, 2],\n",
       " [3352.546906574651, 5, 2],\n",
       " [3352.6194655979643, 2, 5],\n",
       " [3352.6556430603323, 6, 9],\n",
       " [3352.807476709996, 1, 8],\n",
       " [3353.100273188149, 4, 7],\n",
       " [3353.354355360514, 6, 4],\n",
       " [3353.751088494259, 1, 5],\n",
       " [3353.9919497886663, 5, 5],\n",
       " [3354.034401999392, 4, 6],\n",
       " [3354.3013709125507, 8, 8],\n",
       " [3354.5237829569164, 9, 6],\n",
       " [3354.748110736301, 4, 5],\n",
       " [3354.9597022992543, 9, 9],\n",
       " [3355.6454591710553, 1, 6],\n",
       " [3355.6850437563853, 6, 1],\n",
       " [3355.7574711201087, 9, 2],\n",
       " [3355.791177734975, 9, 8],\n",
       " [3356.3113136840902, 9, 1],\n",
       " [3356.4785962903647, 3, 9],\n",
       " [3356.6402665259184, 2, 9],\n",
       " [3356.683524400686, 9, 0],\n",
       " [3357.00277900194, 1, 9],\n",
       " [3357.037832800425, 9, 3],\n",
       " [3357.494269075994, 7, 1],\n",
       " [3359.4746489819145, 8, 1],\n",
       " [3360.091577378262, 8, 0],\n",
       " [3360.4534958321065, 7, 0],\n",
       " [3361.0271222670276, 1, 7],\n",
       " [3361.0845654373725, 0, 9],\n",
       " [3361.4803203623587, 0, 7],\n",
       " [3361.4804287388174, 0, 8],\n",
       " [3364.514060070338, 4, 0],\n",
       " [3365.348800217611, 3, 0],\n",
       " [3365.364804908618, 5, 0],\n",
       " [3367.22713039599, 6, 0],\n",
       " [3367.393882303956, 5, 1],\n",
       " [3367.9125577726054, 0, 5],\n",
       " [3368.017098004179, 0, 4],\n",
       " [3368.5668201668705, 0, 3],\n",
       " [3368.7143265681716, 1, 0],\n",
       " [3368.7436553587568, 2, 0],\n",
       " [3369.5029429568317, 0, 6],\n",
       " [3370.5376420364173, 0, 1],\n",
       " [3370.9375173101816, 0, 2],\n",
       " [3383.2951687764394, 0, 0]]"
      ]
     },
     "execution_count": 46,
     "metadata": {},
     "output_type": "execute_result"
    }
   ],
   "source": [
    "aicVals"
   ]
  },
  {
   "cell_type": "code",
   "execution_count": null,
   "id": "2025ad00",
   "metadata": {},
   "outputs": [],
   "source": [
    "# Model 6 - (0, 0, 0) -  [3383.2951687764394, 0, 0]"
   ]
  },
  {
   "cell_type": "code",
   "execution_count": 107,
   "id": "a678c44c",
   "metadata": {},
   "outputs": [],
   "source": [
    "model6 = sm.ARIMA(df[\"Score\"], order=(0, 0 , 0)).fit()"
   ]
  },
  {
   "cell_type": "code",
   "execution_count": 108,
   "id": "64b964df",
   "metadata": {},
   "outputs": [
    {
     "data": {
      "text/html": [
       "<table class=\"simpletable\">\n",
       "<caption>SARIMAX Results</caption>\n",
       "<tr>\n",
       "  <th>Dep. Variable:</th>         <td>Score</td>      <th>  No. Observations:  </th>    <td>479</td>   \n",
       "</tr>\n",
       "<tr>\n",
       "  <th>Model:</th>                 <td>ARIMA</td>      <th>  Log Likelihood     </th> <td>-1689.648</td>\n",
       "</tr>\n",
       "<tr>\n",
       "  <th>Date:</th>            <td>Wed, 22 Nov 2023</td> <th>  AIC                </th> <td>3383.295</td> \n",
       "</tr>\n",
       "<tr>\n",
       "  <th>Time:</th>                <td>22:26:00</td>     <th>  BIC                </th> <td>3391.639</td> \n",
       "</tr>\n",
       "<tr>\n",
       "  <th>Sample:</th>                  <td>0</td>        <th>  HQIC               </th> <td>3386.575</td> \n",
       "</tr>\n",
       "<tr>\n",
       "  <th></th>                      <td> - 479</td>      <th>                     </th>     <td> </td>    \n",
       "</tr>\n",
       "<tr>\n",
       "  <th>Covariance Type:</th>        <td>opg</td>       <th>                     </th>     <td> </td>    \n",
       "</tr>\n",
       "</table>\n",
       "<table class=\"simpletable\">\n",
       "<tr>\n",
       "     <td></td>       <th>coef</th>     <th>std err</th>      <th>z</th>      <th>P>|z|</th>  <th>[0.025</th>    <th>0.975]</th>  \n",
       "</tr>\n",
       "<tr>\n",
       "  <th>const</th>  <td>    5.5386</td> <td>    0.480</td> <td>   11.541</td> <td> 0.000</td> <td>    4.598</td> <td>    6.479</td>\n",
       "</tr>\n",
       "<tr>\n",
       "  <th>sigma2</th> <td>   67.8312</td> <td>    1.863</td> <td>   36.412</td> <td> 0.000</td> <td>   64.180</td> <td>   71.482</td>\n",
       "</tr>\n",
       "</table>\n",
       "<table class=\"simpletable\">\n",
       "<tr>\n",
       "  <th>Ljung-Box (L1) (Q):</th>     <td>16.41</td> <th>  Jarque-Bera (JB):  </th> <td>5668.32</td>\n",
       "</tr>\n",
       "<tr>\n",
       "  <th>Prob(Q):</th>                <td>0.00</td>  <th>  Prob(JB):          </th>  <td>0.00</td>  \n",
       "</tr>\n",
       "<tr>\n",
       "  <th>Heteroskedasticity (H):</th> <td>0.31</td>  <th>  Skew:              </th>  <td>2.63</td>  \n",
       "</tr>\n",
       "<tr>\n",
       "  <th>Prob(H) (two-sided):</th>    <td>0.00</td>  <th>  Kurtosis:          </th>  <td>19.01</td> \n",
       "</tr>\n",
       "</table><br/><br/>Warnings:<br/>[1] Covariance matrix calculated using the outer product of gradients (complex-step)."
      ],
      "text/latex": [
       "\\begin{center}\n",
       "\\begin{tabular}{lclc}\n",
       "\\toprule\n",
       "\\textbf{Dep. Variable:}          &      Score       & \\textbf{  No. Observations:  } &    479      \\\\\n",
       "\\textbf{Model:}                  &      ARIMA       & \\textbf{  Log Likelihood     } & -1689.648   \\\\\n",
       "\\textbf{Date:}                   & Wed, 22 Nov 2023 & \\textbf{  AIC                } &  3383.295   \\\\\n",
       "\\textbf{Time:}                   &     22:26:00     & \\textbf{  BIC                } &  3391.639   \\\\\n",
       "\\textbf{Sample:}                 &        0         & \\textbf{  HQIC               } &  3386.575   \\\\\n",
       "\\textbf{}                        &       - 479      & \\textbf{                     } &             \\\\\n",
       "\\textbf{Covariance Type:}        &       opg        & \\textbf{                     } &             \\\\\n",
       "\\bottomrule\n",
       "\\end{tabular}\n",
       "\\begin{tabular}{lcccccc}\n",
       "                & \\textbf{coef} & \\textbf{std err} & \\textbf{z} & \\textbf{P$> |$z$|$} & \\textbf{[0.025} & \\textbf{0.975]}  \\\\\n",
       "\\midrule\n",
       "\\textbf{const}  &       5.5386  &        0.480     &    11.541  &         0.000        &        4.598    &        6.479     \\\\\n",
       "\\textbf{sigma2} &      67.8312  &        1.863     &    36.412  &         0.000        &       64.180    &       71.482     \\\\\n",
       "\\bottomrule\n",
       "\\end{tabular}\n",
       "\\begin{tabular}{lclc}\n",
       "\\textbf{Ljung-Box (L1) (Q):}     & 16.41 & \\textbf{  Jarque-Bera (JB):  } & 5668.32  \\\\\n",
       "\\textbf{Prob(Q):}                &  0.00 & \\textbf{  Prob(JB):          } &   0.00   \\\\\n",
       "\\textbf{Heteroskedasticity (H):} &  0.31 & \\textbf{  Skew:              } &   2.63   \\\\\n",
       "\\textbf{Prob(H) (two-sided):}    &  0.00 & \\textbf{  Kurtosis:          } &  19.01   \\\\\n",
       "\\bottomrule\n",
       "\\end{tabular}\n",
       "%\\caption{SARIMAX Results}\n",
       "\\end{center}\n",
       "\n",
       "Warnings: \\newline\n",
       " [1] Covariance matrix calculated using the outer product of gradients (complex-step)."
      ],
      "text/plain": [
       "<class 'statsmodels.iolib.summary.Summary'>\n",
       "\"\"\"\n",
       "                               SARIMAX Results                                \n",
       "==============================================================================\n",
       "Dep. Variable:                  Score   No. Observations:                  479\n",
       "Model:                          ARIMA   Log Likelihood               -1689.648\n",
       "Date:                Wed, 22 Nov 2023   AIC                           3383.295\n",
       "Time:                        22:26:00   BIC                           3391.639\n",
       "Sample:                             0   HQIC                          3386.575\n",
       "                                - 479                                         \n",
       "Covariance Type:                  opg                                         \n",
       "==============================================================================\n",
       "                 coef    std err          z      P>|z|      [0.025      0.975]\n",
       "------------------------------------------------------------------------------\n",
       "const          5.5386      0.480     11.541      0.000       4.598       6.479\n",
       "sigma2        67.8312      1.863     36.412      0.000      64.180      71.482\n",
       "===================================================================================\n",
       "Ljung-Box (L1) (Q):                  16.41   Jarque-Bera (JB):              5668.32\n",
       "Prob(Q):                              0.00   Prob(JB):                         0.00\n",
       "Heteroskedasticity (H):               0.31   Skew:                             2.63\n",
       "Prob(H) (two-sided):                  0.00   Kurtosis:                        19.01\n",
       "===================================================================================\n",
       "\n",
       "Warnings:\n",
       "[1] Covariance matrix calculated using the outer product of gradients (complex-step).\n",
       "\"\"\""
      ]
     },
     "execution_count": 108,
     "metadata": {},
     "output_type": "execute_result"
    }
   ],
   "source": [
    "model6.summary()"
   ]
  },
  {
   "cell_type": "code",
   "execution_count": 109,
   "id": "98ee308f",
   "metadata": {},
   "outputs": [],
   "source": [
    "pred_time = 20\n",
    "result6 = model6.predict(pred_time)"
   ]
  },
  {
   "cell_type": "code",
   "execution_count": 110,
   "id": "395ba246",
   "metadata": {},
   "outputs": [
    {
     "data": {
      "text/plain": [
       "20     5.538617\n",
       "21     5.538617\n",
       "22     5.538617\n",
       "23     5.538617\n",
       "24     5.538617\n",
       "         ...   \n",
       "474    5.538617\n",
       "475    5.538617\n",
       "476    5.538617\n",
       "477    5.538617\n",
       "478    5.538617\n",
       "Name: predicted_mean, Length: 459, dtype: float64"
      ]
     },
     "execution_count": 110,
     "metadata": {},
     "output_type": "execute_result"
    }
   ],
   "source": [
    "result6"
   ]
  },
  {
   "cell_type": "code",
   "execution_count": 111,
   "id": "caaa60ce",
   "metadata": {},
   "outputs": [
    {
     "data": {
      "text/plain": [
       "[<matplotlib.lines.Line2D at 0x174c77a2bd0>]"
      ]
     },
     "execution_count": 111,
     "metadata": {},
     "output_type": "execute_result"
    },
    {
     "data": {
      "image/png": "[encoded data removed]",
      "text/plain": [
       "<Figure size 640x480 with 1 Axes>"
      ]
     },
     "metadata": {},
     "output_type": "display_data"
    }
   ],
   "source": [
    "plt.plot(range(len(result6)-pred_time), result6[:-pred_time])\n",
    "plt.plot(range(len(result6)-pred_time, len(result6)), result6[-pred_time:])"
   ]
  },
  {
   "cell_type": "code",
   "execution_count": null,
   "id": "0dd10b02",
   "metadata": {},
   "outputs": [],
   "source": [
    "# Model 7 - (6, 0, 6) -  [3345.1821835020637, 6, 6]"
   ]
  },
  {
   "cell_type": "code",
   "execution_count": 61,
   "id": "eb19b464",
   "metadata": {},
   "outputs": [
    {
     "name": "stderr",
     "output_type": "stream",
     "text": [
      "C:\\Users\\aad.sray\\AppData\\Local\\anaconda3\\Lib\\site-packages\\statsmodels\\base\\model.py:607: ConvergenceWarning: Maximum Likelihood optimization failed to converge. Check mle_retvals\n",
      "  warnings.warn(\"Maximum Likelihood optimization failed to \"\n"
     ]
    }
   ],
   "source": [
    "model7 = sm.ARIMA(df[\"Score\"], order=(6, 0 , 6)).fit()"
   ]
  },
  {
   "cell_type": "code",
   "execution_count": 62,
   "id": "01f603bb",
   "metadata": {},
   "outputs": [
    {
     "data": {
      "text/html": [
       "<table class=\"simpletable\">\n",
       "<caption>SARIMAX Results</caption>\n",
       "<tr>\n",
       "  <th>Dep. Variable:</th>         <td>Score</td>      <th>  No. Observations:  </th>    <td>479</td>   \n",
       "</tr>\n",
       "<tr>\n",
       "  <th>Model:</th>            <td>ARIMA(6, 0, 6)</td>  <th>  Log Likelihood     </th> <td>-1658.591</td>\n",
       "</tr>\n",
       "<tr>\n",
       "  <th>Date:</th>            <td>Wed, 22 Nov 2023</td> <th>  AIC                </th> <td>3345.182</td> \n",
       "</tr>\n",
       "<tr>\n",
       "  <th>Time:</th>                <td>21:42:23</td>     <th>  BIC                </th> <td>3403.586</td> \n",
       "</tr>\n",
       "<tr>\n",
       "  <th>Sample:</th>                  <td>0</td>        <th>  HQIC               </th> <td>3368.141</td> \n",
       "</tr>\n",
       "<tr>\n",
       "  <th></th>                      <td> - 479</td>      <th>                     </th>     <td> </td>    \n",
       "</tr>\n",
       "<tr>\n",
       "  <th>Covariance Type:</th>        <td>opg</td>       <th>                     </th>     <td> </td>    \n",
       "</tr>\n",
       "</table>\n",
       "<table class=\"simpletable\">\n",
       "<tr>\n",
       "     <td></td>       <th>coef</th>     <th>std err</th>      <th>z</th>      <th>P>|z|</th>  <th>[0.025</th>    <th>0.975]</th>  \n",
       "</tr>\n",
       "<tr>\n",
       "  <th>const</th>  <td>    5.5832</td> <td>   11.733</td> <td>    0.476</td> <td> 0.634</td> <td>  -17.413</td> <td>   28.580</td>\n",
       "</tr>\n",
       "<tr>\n",
       "  <th>ar.L1</th>  <td>   -1.1785</td> <td>    0.140</td> <td>   -8.447</td> <td> 0.000</td> <td>   -1.452</td> <td>   -0.905</td>\n",
       "</tr>\n",
       "<tr>\n",
       "  <th>ar.L2</th>  <td>   -0.7001</td> <td>    0.097</td> <td>   -7.253</td> <td> 0.000</td> <td>   -0.889</td> <td>   -0.511</td>\n",
       "</tr>\n",
       "<tr>\n",
       "  <th>ar.L3</th>  <td>    0.2034</td> <td>    0.059</td> <td>    3.443</td> <td> 0.001</td> <td>    0.088</td> <td>    0.319</td>\n",
       "</tr>\n",
       "<tr>\n",
       "  <th>ar.L4</th>  <td>    0.8790</td> <td>    0.065</td> <td>   13.536</td> <td> 0.000</td> <td>    0.752</td> <td>    1.006</td>\n",
       "</tr>\n",
       "<tr>\n",
       "  <th>ar.L5</th>  <td>    1.2213</td> <td>    0.094</td> <td>   13.044</td> <td> 0.000</td> <td>    1.038</td> <td>    1.405</td>\n",
       "</tr>\n",
       "<tr>\n",
       "  <th>ar.L6</th>  <td>    0.5701</td> <td>    0.136</td> <td>    4.207</td> <td> 0.000</td> <td>    0.304</td> <td>    0.836</td>\n",
       "</tr>\n",
       "<tr>\n",
       "  <th>ma.L1</th>  <td>    1.3152</td> <td>    0.115</td> <td>   11.432</td> <td> 0.000</td> <td>    1.090</td> <td>    1.541</td>\n",
       "</tr>\n",
       "<tr>\n",
       "  <th>ma.L2</th>  <td>    0.8978</td> <td>    0.086</td> <td>   10.485</td> <td> 0.000</td> <td>    0.730</td> <td>    1.066</td>\n",
       "</tr>\n",
       "<tr>\n",
       "  <th>ma.L3</th>  <td>   -0.0082</td> <td>    0.076</td> <td>   -0.108</td> <td> 0.914</td> <td>   -0.157</td> <td>    0.141</td>\n",
       "</tr>\n",
       "<tr>\n",
       "  <th>ma.L4</th>  <td>   -0.8343</td> <td>    0.061</td> <td>  -13.598</td> <td> 0.000</td> <td>   -0.955</td> <td>   -0.714</td>\n",
       "</tr>\n",
       "<tr>\n",
       "  <th>ma.L5</th>  <td>   -1.3047</td> <td>    0.080</td> <td>  -16.308</td> <td> 0.000</td> <td>   -1.461</td> <td>   -1.148</td>\n",
       "</tr>\n",
       "<tr>\n",
       "  <th>ma.L6</th>  <td>   -0.7409</td> <td>    0.110</td> <td>   -6.706</td> <td> 0.000</td> <td>   -0.957</td> <td>   -0.524</td>\n",
       "</tr>\n",
       "<tr>\n",
       "  <th>sigma2</th> <td>   58.8526</td> <td>    2.221</td> <td>   26.504</td> <td> 0.000</td> <td>   54.500</td> <td>   63.205</td>\n",
       "</tr>\n",
       "</table>\n",
       "<table class=\"simpletable\">\n",
       "<tr>\n",
       "  <th>Ljung-Box (L1) (Q):</th>     <td>0.00</td> <th>  Jarque-Bera (JB):  </th> <td>4174.01</td>\n",
       "</tr>\n",
       "<tr>\n",
       "  <th>Prob(Q):</th>                <td>0.98</td> <th>  Prob(JB):          </th>  <td>0.00</td>  \n",
       "</tr>\n",
       "<tr>\n",
       "  <th>Heteroskedasticity (H):</th> <td>0.28</td> <th>  Skew:              </th>  <td>2.30</td>  \n",
       "</tr>\n",
       "<tr>\n",
       "  <th>Prob(H) (two-sided):</th>    <td>0.00</td> <th>  Kurtosis:          </th>  <td>16.71</td> \n",
       "</tr>\n",
       "</table><br/><br/>Warnings:<br/>[1] Covariance matrix calculated using the outer product of gradients (complex-step)."
      ],
      "text/latex": [
       "\\begin{center}\n",
       "\\begin{tabular}{lclc}\n",
       "\\toprule\n",
       "\\textbf{Dep. Variable:}          &      Score       & \\textbf{  No. Observations:  } &    479      \\\\\n",
       "\\textbf{Model:}                  &  ARIMA(6, 0, 6)  & \\textbf{  Log Likelihood     } & -1658.591   \\\\\n",
       "\\textbf{Date:}                   & Wed, 22 Nov 2023 & \\textbf{  AIC                } &  3345.182   \\\\\n",
       "\\textbf{Time:}                   &     21:42:23     & \\textbf{  BIC                } &  3403.586   \\\\\n",
       "\\textbf{Sample:}                 &        0         & \\textbf{  HQIC               } &  3368.141   \\\\\n",
       "\\textbf{}                        &       - 479      & \\textbf{                     } &             \\\\\n",
       "\\textbf{Covariance Type:}        &       opg        & \\textbf{                     } &             \\\\\n",
       "\\bottomrule\n",
       "\\end{tabular}\n",
       "\\begin{tabular}{lcccccc}\n",
       "                & \\textbf{coef} & \\textbf{std err} & \\textbf{z} & \\textbf{P$> |$z$|$} & \\textbf{[0.025} & \\textbf{0.975]}  \\\\\n",
       "\\midrule\n",
       "\\textbf{const}  &       5.5832  &       11.733     &     0.476  &         0.634        &      -17.413    &       28.580     \\\\\n",
       "\\textbf{ar.L1}  &      -1.1785  &        0.140     &    -8.447  &         0.000        &       -1.452    &       -0.905     \\\\\n",
       "\\textbf{ar.L2}  &      -0.7001  &        0.097     &    -7.253  &         0.000        &       -0.889    &       -0.511     \\\\\n",
       "\\textbf{ar.L3}  &       0.2034  &        0.059     &     3.443  &         0.001        &        0.088    &        0.319     \\\\\n",
       "\\textbf{ar.L4}  &       0.8790  &        0.065     &    13.536  &         0.000        &        0.752    &        1.006     \\\\\n",
       "\\textbf{ar.L5}  &       1.2213  &        0.094     &    13.044  &         0.000        &        1.038    &        1.405     \\\\\n",
       "\\textbf{ar.L6}  &       0.5701  &        0.136     &     4.207  &         0.000        &        0.304    &        0.836     \\\\\n",
       "\\textbf{ma.L1}  &       1.3152  &        0.115     &    11.432  &         0.000        &        1.090    &        1.541     \\\\\n",
       "\\textbf{ma.L2}  &       0.8978  &        0.086     &    10.485  &         0.000        &        0.730    &        1.066     \\\\\n",
       "\\textbf{ma.L3}  &      -0.0082  &        0.076     &    -0.108  &         0.914        &       -0.157    &        0.141     \\\\\n",
       "\\textbf{ma.L4}  &      -0.8343  &        0.061     &   -13.598  &         0.000        &       -0.955    &       -0.714     \\\\\n",
       "\\textbf{ma.L5}  &      -1.3047  &        0.080     &   -16.308  &         0.000        &       -1.461    &       -1.148     \\\\\n",
       "\\textbf{ma.L6}  &      -0.7409  &        0.110     &    -6.706  &         0.000        &       -0.957    &       -0.524     \\\\\n",
       "\\textbf{sigma2} &      58.8526  &        2.221     &    26.504  &         0.000        &       54.500    &       63.205     \\\\\n",
       "\\bottomrule\n",
       "\\end{tabular}\n",
       "\\begin{tabular}{lclc}\n",
       "\\textbf{Ljung-Box (L1) (Q):}     & 0.00 & \\textbf{  Jarque-Bera (JB):  } & 4174.01  \\\\\n",
       "\\textbf{Prob(Q):}                & 0.98 & \\textbf{  Prob(JB):          } &   0.00   \\\\\n",
       "\\textbf{Heteroskedasticity (H):} & 0.28 & \\textbf{  Skew:              } &   2.30   \\\\\n",
       "\\textbf{Prob(H) (two-sided):}    & 0.00 & \\textbf{  Kurtosis:          } &  16.71   \\\\\n",
       "\\bottomrule\n",
       "\\end{tabular}\n",
       "%\\caption{SARIMAX Results}\n",
       "\\end{center}\n",
       "\n",
       "Warnings: \\newline\n",
       " [1] Covariance matrix calculated using the outer product of gradients (complex-step)."
      ],
      "text/plain": [
       "<class 'statsmodels.iolib.summary.Summary'>\n",
       "\"\"\"\n",
       "                               SARIMAX Results                                \n",
       "==============================================================================\n",
       "Dep. Variable:                  Score   No. Observations:                  479\n",
       "Model:                 ARIMA(6, 0, 6)   Log Likelihood               -1658.591\n",
       "Date:                Wed, 22 Nov 2023   AIC                           3345.182\n",
       "Time:                        21:42:23   BIC                           3403.586\n",
       "Sample:                             0   HQIC                          3368.141\n",
       "                                - 479                                         \n",
       "Covariance Type:                  opg                                         \n",
       "==============================================================================\n",
       "                 coef    std err          z      P>|z|      [0.025      0.975]\n",
       "------------------------------------------------------------------------------\n",
       "const          5.5832     11.733      0.476      0.634     -17.413      28.580\n",
       "ar.L1         -1.1785      0.140     -8.447      0.000      -1.452      -0.905\n",
       "ar.L2         -0.7001      0.097     -7.253      0.000      -0.889      -0.511\n",
       "ar.L3          0.2034      0.059      3.443      0.001       0.088       0.319\n",
       "ar.L4          0.8790      0.065     13.536      0.000       0.752       1.006\n",
       "ar.L5          1.2213      0.094     13.044      0.000       1.038       1.405\n",
       "ar.L6          0.5701      0.136      4.207      0.000       0.304       0.836\n",
       "ma.L1          1.3152      0.115     11.432      0.000       1.090       1.541\n",
       "ma.L2          0.8978      0.086     10.485      0.000       0.730       1.066\n",
       "ma.L3         -0.0082      0.076     -0.108      0.914      -0.157       0.141\n",
       "ma.L4         -0.8343      0.061    -13.598      0.000      -0.955      -0.714\n",
       "ma.L5         -1.3047      0.080    -16.308      0.000      -1.461      -1.148\n",
       "ma.L6         -0.7409      0.110     -6.706      0.000      -0.957      -0.524\n",
       "sigma2        58.8526      2.221     26.504      0.000      54.500      63.205\n",
       "===================================================================================\n",
       "Ljung-Box (L1) (Q):                   0.00   Jarque-Bera (JB):              4174.01\n",
       "Prob(Q):                              0.98   Prob(JB):                         0.00\n",
       "Heteroskedasticity (H):               0.28   Skew:                             2.30\n",
       "Prob(H) (two-sided):                  0.00   Kurtosis:                        16.71\n",
       "===================================================================================\n",
       "\n",
       "Warnings:\n",
       "[1] Covariance matrix calculated using the outer product of gradients (complex-step).\n",
       "\"\"\""
      ]
     },
     "execution_count": 62,
     "metadata": {},
     "output_type": "execute_result"
    }
   ],
   "source": [
    "model7.summary()"
   ]
  },
  {
   "cell_type": "code",
   "execution_count": 63,
   "id": "9f4021e5",
   "metadata": {},
   "outputs": [],
   "source": [
    "pred_time = 20\n",
    "result7 = model7.predict(pred_time)"
   ]
  },
  {
   "cell_type": "code",
   "execution_count": 64,
   "id": "d82e84fb",
   "metadata": {},
   "outputs": [
    {
     "data": {
      "text/plain": [
       "20      7.839521\n",
       "21      9.336184\n",
       "22      8.267058\n",
       "23     13.208957\n",
       "24     10.085583\n",
       "         ...    \n",
       "474     0.897371\n",
       "475     0.424742\n",
       "476     2.223261\n",
       "477     1.705134\n",
       "478     3.820701\n",
       "Name: predicted_mean, Length: 459, dtype: float64"
      ]
     },
     "execution_count": 64,
     "metadata": {},
     "output_type": "execute_result"
    }
   ],
   "source": [
    "result7"
   ]
  },
  {
   "cell_type": "code",
   "execution_count": 65,
   "id": "7e39040a",
   "metadata": {},
   "outputs": [
    {
     "data": {
      "text/plain": [
       "[<matplotlib.lines.Line2D at 0x174c6461fd0>]"
      ]
     },
     "execution_count": 65,
     "metadata": {},
     "output_type": "execute_result"
    },
    {
     "data": {
      "image/png": "[encoded data removed]",
      "text/plain": [
       "<Figure size 640x480 with 1 Axes>"
      ]
     },
     "metadata": {},
     "output_type": "display_data"
    }
   ],
   "source": [
    "plt.plot(range(len(result7)-pred_time), result7[:-pred_time])\n",
    "plt.plot(range(len(result7)-pred_time, len(result7)), result7[-pred_time:])"
   ]
  },
  {
   "cell_type": "code",
   "execution_count": null,
   "id": "44841905",
   "metadata": {},
   "outputs": [],
   "source": [
    "# Model 8 - (7, 0, 5) - [3346.043188816975, 7, 5]"
   ]
  },
  {
   "cell_type": "code",
   "execution_count": 66,
   "id": "57a45479",
   "metadata": {},
   "outputs": [
    {
     "name": "stderr",
     "output_type": "stream",
     "text": [
      "C:\\Users\\aad.sray\\AppData\\Local\\anaconda3\\Lib\\site-packages\\statsmodels\\base\\model.py:607: ConvergenceWarning: Maximum Likelihood optimization failed to converge. Check mle_retvals\n",
      "  warnings.warn(\"Maximum Likelihood optimization failed to \"\n"
     ]
    }
   ],
   "source": [
    "model8 = sm.ARIMA(df[\"Score\"], order=(7, 0 , 5)).fit()"
   ]
  },
  {
   "cell_type": "code",
   "execution_count": 67,
   "id": "18f00518",
   "metadata": {},
   "outputs": [
    {
     "data": {
      "text/html": [
       "<table class=\"simpletable\">\n",
       "<caption>SARIMAX Results</caption>\n",
       "<tr>\n",
       "  <th>Dep. Variable:</th>         <td>Score</td>      <th>  No. Observations:  </th>    <td>479</td>   \n",
       "</tr>\n",
       "<tr>\n",
       "  <th>Model:</th>            <td>ARIMA(7, 0, 5)</td>  <th>  Log Likelihood     </th> <td>-1659.022</td>\n",
       "</tr>\n",
       "<tr>\n",
       "  <th>Date:</th>            <td>Wed, 22 Nov 2023</td> <th>  AIC                </th> <td>3346.043</td> \n",
       "</tr>\n",
       "<tr>\n",
       "  <th>Time:</th>                <td>21:55:42</td>     <th>  BIC                </th> <td>3404.447</td> \n",
       "</tr>\n",
       "<tr>\n",
       "  <th>Sample:</th>                  <td>0</td>        <th>  HQIC               </th> <td>3369.002</td> \n",
       "</tr>\n",
       "<tr>\n",
       "  <th></th>                      <td> - 479</td>      <th>                     </th>     <td> </td>    \n",
       "</tr>\n",
       "<tr>\n",
       "  <th>Covariance Type:</th>        <td>opg</td>       <th>                     </th>     <td> </td>    \n",
       "</tr>\n",
       "</table>\n",
       "<table class=\"simpletable\">\n",
       "<tr>\n",
       "     <td></td>       <th>coef</th>     <th>std err</th>      <th>z</th>      <th>P>|z|</th>  <th>[0.025</th>    <th>0.975]</th>  \n",
       "</tr>\n",
       "<tr>\n",
       "  <th>const</th>  <td>    5.5672</td> <td>    6.779</td> <td>    0.821</td> <td> 0.411</td> <td>   -7.718</td> <td>   18.853</td>\n",
       "</tr>\n",
       "<tr>\n",
       "  <th>ar.L1</th>  <td>   -0.7361</td> <td>    0.092</td> <td>   -7.993</td> <td> 0.000</td> <td>   -0.917</td> <td>   -0.556</td>\n",
       "</tr>\n",
       "<tr>\n",
       "  <th>ar.L2</th>  <td>    0.0268</td> <td>    0.059</td> <td>    0.453</td> <td> 0.651</td> <td>   -0.089</td> <td>    0.143</td>\n",
       "</tr>\n",
       "<tr>\n",
       "  <th>ar.L3</th>  <td>    0.0866</td> <td>    0.054</td> <td>    1.604</td> <td> 0.109</td> <td>   -0.019</td> <td>    0.192</td>\n",
       "</tr>\n",
       "<tr>\n",
       "  <th>ar.L4</th>  <td>    0.8755</td> <td>    0.039</td> <td>   22.491</td> <td> 0.000</td> <td>    0.799</td> <td>    0.952</td>\n",
       "</tr>\n",
       "<tr>\n",
       "  <th>ar.L5</th>  <td>    0.7476</td> <td>    0.081</td> <td>    9.237</td> <td> 0.000</td> <td>    0.589</td> <td>    0.906</td>\n",
       "</tr>\n",
       "<tr>\n",
       "  <th>ar.L6</th>  <td>   -0.0637</td> <td>    0.060</td> <td>   -1.070</td> <td> 0.285</td> <td>   -0.180</td> <td>    0.053</td>\n",
       "</tr>\n",
       "<tr>\n",
       "  <th>ar.L7</th>  <td>    0.0551</td> <td>    0.056</td> <td>    0.982</td> <td> 0.326</td> <td>   -0.055</td> <td>    0.165</td>\n",
       "</tr>\n",
       "<tr>\n",
       "  <th>ma.L1</th>  <td>    0.8726</td> <td>    0.079</td> <td>   11.001</td> <td> 0.000</td> <td>    0.717</td> <td>    1.028</td>\n",
       "</tr>\n",
       "<tr>\n",
       "  <th>ma.L2</th>  <td>    0.1013</td> <td>    0.049</td> <td>    2.063</td> <td> 0.039</td> <td>    0.005</td> <td>    0.197</td>\n",
       "</tr>\n",
       "<tr>\n",
       "  <th>ma.L3</th>  <td>    0.0036</td> <td>    0.047</td> <td>    0.077</td> <td> 0.938</td> <td>   -0.089</td> <td>    0.096</td>\n",
       "</tr>\n",
       "<tr>\n",
       "  <th>ma.L4</th>  <td>   -0.8802</td> <td>    0.042</td> <td>  -21.023</td> <td> 0.000</td> <td>   -0.962</td> <td>   -0.798</td>\n",
       "</tr>\n",
       "<tr>\n",
       "  <th>ma.L5</th>  <td>   -0.8567</td> <td>    0.073</td> <td>  -11.784</td> <td> 0.000</td> <td>   -0.999</td> <td>   -0.714</td>\n",
       "</tr>\n",
       "<tr>\n",
       "  <th>sigma2</th> <td>   58.7103</td> <td>    2.225</td> <td>   26.388</td> <td> 0.000</td> <td>   54.350</td> <td>   63.071</td>\n",
       "</tr>\n",
       "</table>\n",
       "<table class=\"simpletable\">\n",
       "<tr>\n",
       "  <th>Ljung-Box (L1) (Q):</th>     <td>0.01</td> <th>  Jarque-Bera (JB):  </th> <td>3671.74</td>\n",
       "</tr>\n",
       "<tr>\n",
       "  <th>Prob(Q):</th>                <td>0.91</td> <th>  Prob(JB):          </th>  <td>0.00</td>  \n",
       "</tr>\n",
       "<tr>\n",
       "  <th>Heteroskedasticity (H):</th> <td>0.28</td> <th>  Skew:              </th>  <td>2.21</td>  \n",
       "</tr>\n",
       "<tr>\n",
       "  <th>Prob(H) (two-sided):</th>    <td>0.00</td> <th>  Kurtosis:          </th>  <td>15.83</td> \n",
       "</tr>\n",
       "</table><br/><br/>Warnings:<br/>[1] Covariance matrix calculated using the outer product of gradients (complex-step)."
      ],
      "text/latex": [
       "\\begin{center}\n",
       "\\begin{tabular}{lclc}\n",
       "\\toprule\n",
       "\\textbf{Dep. Variable:}          &      Score       & \\textbf{  No. Observations:  } &    479      \\\\\n",
       "\\textbf{Model:}                  &  ARIMA(7, 0, 5)  & \\textbf{  Log Likelihood     } & -1659.022   \\\\\n",
       "\\textbf{Date:}                   & Wed, 22 Nov 2023 & \\textbf{  AIC                } &  3346.043   \\\\\n",
       "\\textbf{Time:}                   &     21:55:42     & \\textbf{  BIC                } &  3404.447   \\\\\n",
       "\\textbf{Sample:}                 &        0         & \\textbf{  HQIC               } &  3369.002   \\\\\n",
       "\\textbf{}                        &       - 479      & \\textbf{                     } &             \\\\\n",
       "\\textbf{Covariance Type:}        &       opg        & \\textbf{                     } &             \\\\\n",
       "\\bottomrule\n",
       "\\end{tabular}\n",
       "\\begin{tabular}{lcccccc}\n",
       "                & \\textbf{coef} & \\textbf{std err} & \\textbf{z} & \\textbf{P$> |$z$|$} & \\textbf{[0.025} & \\textbf{0.975]}  \\\\\n",
       "\\midrule\n",
       "\\textbf{const}  &       5.5672  &        6.779     &     0.821  &         0.411        &       -7.718    &       18.853     \\\\\n",
       "\\textbf{ar.L1}  &      -0.7361  &        0.092     &    -7.993  &         0.000        &       -0.917    &       -0.556     \\\\\n",
       "\\textbf{ar.L2}  &       0.0268  &        0.059     &     0.453  &         0.651        &       -0.089    &        0.143     \\\\\n",
       "\\textbf{ar.L3}  &       0.0866  &        0.054     &     1.604  &         0.109        &       -0.019    &        0.192     \\\\\n",
       "\\textbf{ar.L4}  &       0.8755  &        0.039     &    22.491  &         0.000        &        0.799    &        0.952     \\\\\n",
       "\\textbf{ar.L5}  &       0.7476  &        0.081     &     9.237  &         0.000        &        0.589    &        0.906     \\\\\n",
       "\\textbf{ar.L6}  &      -0.0637  &        0.060     &    -1.070  &         0.285        &       -0.180    &        0.053     \\\\\n",
       "\\textbf{ar.L7}  &       0.0551  &        0.056     &     0.982  &         0.326        &       -0.055    &        0.165     \\\\\n",
       "\\textbf{ma.L1}  &       0.8726  &        0.079     &    11.001  &         0.000        &        0.717    &        1.028     \\\\\n",
       "\\textbf{ma.L2}  &       0.1013  &        0.049     &     2.063  &         0.039        &        0.005    &        0.197     \\\\\n",
       "\\textbf{ma.L3}  &       0.0036  &        0.047     &     0.077  &         0.938        &       -0.089    &        0.096     \\\\\n",
       "\\textbf{ma.L4}  &      -0.8802  &        0.042     &   -21.023  &         0.000        &       -0.962    &       -0.798     \\\\\n",
       "\\textbf{ma.L5}  &      -0.8567  &        0.073     &   -11.784  &         0.000        &       -0.999    &       -0.714     \\\\\n",
       "\\textbf{sigma2} &      58.7103  &        2.225     &    26.388  &         0.000        &       54.350    &       63.071     \\\\\n",
       "\\bottomrule\n",
       "\\end{tabular}\n",
       "\\begin{tabular}{lclc}\n",
       "\\textbf{Ljung-Box (L1) (Q):}     & 0.01 & \\textbf{  Jarque-Bera (JB):  } & 3671.74  \\\\\n",
       "\\textbf{Prob(Q):}                & 0.91 & \\textbf{  Prob(JB):          } &   0.00   \\\\\n",
       "\\textbf{Heteroskedasticity (H):} & 0.28 & \\textbf{  Skew:              } &   2.21   \\\\\n",
       "\\textbf{Prob(H) (two-sided):}    & 0.00 & \\textbf{  Kurtosis:          } &  15.83   \\\\\n",
       "\\bottomrule\n",
       "\\end{tabular}\n",
       "%\\caption{SARIMAX Results}\n",
       "\\end{center}\n",
       "\n",
       "Warnings: \\newline\n",
       " [1] Covariance matrix calculated using the outer product of gradients (complex-step)."
      ],
      "text/plain": [
       "<class 'statsmodels.iolib.summary.Summary'>\n",
       "\"\"\"\n",
       "                               SARIMAX Results                                \n",
       "==============================================================================\n",
       "Dep. Variable:                  Score   No. Observations:                  479\n",
       "Model:                 ARIMA(7, 0, 5)   Log Likelihood               -1659.022\n",
       "Date:                Wed, 22 Nov 2023   AIC                           3346.043\n",
       "Time:                        21:55:42   BIC                           3404.447\n",
       "Sample:                             0   HQIC                          3369.002\n",
       "                                - 479                                         \n",
       "Covariance Type:                  opg                                         \n",
       "==============================================================================\n",
       "                 coef    std err          z      P>|z|      [0.025      0.975]\n",
       "------------------------------------------------------------------------------\n",
       "const          5.5672      6.779      0.821      0.411      -7.718      18.853\n",
       "ar.L1         -0.7361      0.092     -7.993      0.000      -0.917      -0.556\n",
       "ar.L2          0.0268      0.059      0.453      0.651      -0.089       0.143\n",
       "ar.L3          0.0866      0.054      1.604      0.109      -0.019       0.192\n",
       "ar.L4          0.8755      0.039     22.491      0.000       0.799       0.952\n",
       "ar.L5          0.7476      0.081      9.237      0.000       0.589       0.906\n",
       "ar.L6         -0.0637      0.060     -1.070      0.285      -0.180       0.053\n",
       "ar.L7          0.0551      0.056      0.982      0.326      -0.055       0.165\n",
       "ma.L1          0.8726      0.079     11.001      0.000       0.717       1.028\n",
       "ma.L2          0.1013      0.049      2.063      0.039       0.005       0.197\n",
       "ma.L3          0.0036      0.047      0.077      0.938      -0.089       0.096\n",
       "ma.L4         -0.8802      0.042    -21.023      0.000      -0.962      -0.798\n",
       "ma.L5         -0.8567      0.073    -11.784      0.000      -0.999      -0.714\n",
       "sigma2        58.7103      2.225     26.388      0.000      54.350      63.071\n",
       "===================================================================================\n",
       "Ljung-Box (L1) (Q):                   0.01   Jarque-Bera (JB):              3671.74\n",
       "Prob(Q):                              0.91   Prob(JB):                         0.00\n",
       "Heteroskedasticity (H):               0.28   Skew:                             2.21\n",
       "Prob(H) (two-sided):                  0.00   Kurtosis:                        15.83\n",
       "===================================================================================\n",
       "\n",
       "Warnings:\n",
       "[1] Covariance matrix calculated using the outer product of gradients (complex-step).\n",
       "\"\"\""
      ]
     },
     "execution_count": 67,
     "metadata": {},
     "output_type": "execute_result"
    }
   ],
   "source": [
    "model8.summary()"
   ]
  },
  {
   "cell_type": "code",
   "execution_count": 68,
   "id": "baa749b8",
   "metadata": {},
   "outputs": [],
   "source": [
    "pred_time = 20\n",
    "result8 = model8.predict(pred_time)"
   ]
  },
  {
   "cell_type": "code",
   "execution_count": 69,
   "id": "7956486b",
   "metadata": {},
   "outputs": [
    {
     "data": {
      "text/plain": [
       "20      8.320664\n",
       "21      8.420037\n",
       "22      8.313872\n",
       "23     13.830847\n",
       "24      7.899296\n",
       "         ...    \n",
       "474     0.782128\n",
       "475     1.483180\n",
       "476     0.280307\n",
       "477     3.989422\n",
       "478     1.233684\n",
       "Name: predicted_mean, Length: 459, dtype: float64"
      ]
     },
     "execution_count": 69,
     "metadata": {},
     "output_type": "execute_result"
    }
   ],
   "source": [
    "result8"
   ]
  },
  {
   "cell_type": "code",
   "execution_count": 70,
   "id": "319db9fe",
   "metadata": {},
   "outputs": [
    {
     "data": {
      "text/plain": [
       "[<matplotlib.lines.Line2D at 0x174c64ffb50>]"
      ]
     },
     "execution_count": 70,
     "metadata": {},
     "output_type": "execute_result"
    },
    {
     "data": {
      "image/png": "[encoded data removed]",
      "text/plain": [
       "<Figure size 640x480 with 1 Axes>"
      ]
     },
     "metadata": {},
     "output_type": "display_data"
    }
   ],
   "source": [
    "plt.plot(range(len(result8)-pred_time), result8[:-pred_time])\n",
    "plt.plot(range(len(result8)-pred_time, len(result8)), result8[-pred_time:])"
   ]
  },
  {
   "cell_type": "code",
   "execution_count": null,
   "id": "0b311b1b",
   "metadata": {},
   "outputs": [],
   "source": [
    "# Model 9 - (6, 0, 5) -  [3346.0493070901252, 6, 5],"
   ]
  },
  {
   "cell_type": "code",
   "execution_count": 71,
   "id": "bef6d102",
   "metadata": {},
   "outputs": [
    {
     "name": "stderr",
     "output_type": "stream",
     "text": [
      "C:\\Users\\aad.sray\\AppData\\Local\\anaconda3\\Lib\\site-packages\\statsmodels\\base\\model.py:607: ConvergenceWarning: Maximum Likelihood optimization failed to converge. Check mle_retvals\n",
      "  warnings.warn(\"Maximum Likelihood optimization failed to \"\n"
     ]
    }
   ],
   "source": [
    "model9 = sm.ARIMA(df[\"Score\"], order=(6, 0 , 5)).fit()"
   ]
  },
  {
   "cell_type": "code",
   "execution_count": 72,
   "id": "f872de7b",
   "metadata": {},
   "outputs": [
    {
     "data": {
      "text/html": [
       "<table class=\"simpletable\">\n",
       "<caption>SARIMAX Results</caption>\n",
       "<tr>\n",
       "  <th>Dep. Variable:</th>         <td>Score</td>      <th>  No. Observations:  </th>    <td>479</td>   \n",
       "</tr>\n",
       "<tr>\n",
       "  <th>Model:</th>            <td>ARIMA(6, 0, 5)</td>  <th>  Log Likelihood     </th> <td>-1660.025</td>\n",
       "</tr>\n",
       "<tr>\n",
       "  <th>Date:</th>            <td>Wed, 22 Nov 2023</td> <th>  AIC                </th> <td>3346.049</td> \n",
       "</tr>\n",
       "<tr>\n",
       "  <th>Time:</th>                <td>21:56:16</td>     <th>  BIC                </th> <td>3400.281</td> \n",
       "</tr>\n",
       "<tr>\n",
       "  <th>Sample:</th>                  <td>0</td>        <th>  HQIC               </th> <td>3367.369</td> \n",
       "</tr>\n",
       "<tr>\n",
       "  <th></th>                      <td> - 479</td>      <th>                     </th>     <td> </td>    \n",
       "</tr>\n",
       "<tr>\n",
       "  <th>Covariance Type:</th>        <td>opg</td>       <th>                     </th>     <td> </td>    \n",
       "</tr>\n",
       "</table>\n",
       "<table class=\"simpletable\">\n",
       "<tr>\n",
       "     <td></td>       <th>coef</th>     <th>std err</th>      <th>z</th>      <th>P>|z|</th>  <th>[0.025</th>    <th>0.975]</th>  \n",
       "</tr>\n",
       "<tr>\n",
       "  <th>const</th>  <td>    5.5735</td> <td>    7.010</td> <td>    0.795</td> <td> 0.427</td> <td>   -8.165</td> <td>   19.312</td>\n",
       "</tr>\n",
       "<tr>\n",
       "  <th>ar.L1</th>  <td>   -0.9740</td> <td>    0.104</td> <td>   -9.364</td> <td> 0.000</td> <td>   -1.178</td> <td>   -0.770</td>\n",
       "</tr>\n",
       "<tr>\n",
       "  <th>ar.L2</th>  <td>   -0.1202</td> <td>    0.071</td> <td>   -1.691</td> <td> 0.091</td> <td>   -0.259</td> <td>    0.019</td>\n",
       "</tr>\n",
       "<tr>\n",
       "  <th>ar.L3</th>  <td>    0.4047</td> <td>    0.043</td> <td>    9.444</td> <td> 0.000</td> <td>    0.321</td> <td>    0.489</td>\n",
       "</tr>\n",
       "<tr>\n",
       "  <th>ar.L4</th>  <td>    1.1224</td> <td>    0.051</td> <td>   22.039</td> <td> 0.000</td> <td>    1.023</td> <td>    1.222</td>\n",
       "</tr>\n",
       "<tr>\n",
       "  <th>ar.L5</th>  <td>    0.6974</td> <td>    0.102</td> <td>    6.869</td> <td> 0.000</td> <td>    0.498</td> <td>    0.896</td>\n",
       "</tr>\n",
       "<tr>\n",
       "  <th>ar.L6</th>  <td>   -0.1381</td> <td>    0.053</td> <td>   -2.606</td> <td> 0.009</td> <td>   -0.242</td> <td>   -0.034</td>\n",
       "</tr>\n",
       "<tr>\n",
       "  <th>ma.L1</th>  <td>    1.1205</td> <td>    0.096</td> <td>   11.704</td> <td> 0.000</td> <td>    0.933</td> <td>    1.308</td>\n",
       "</tr>\n",
       "<tr>\n",
       "  <th>ma.L2</th>  <td>    0.2982</td> <td>    0.060</td> <td>    4.963</td> <td> 0.000</td> <td>    0.180</td> <td>    0.416</td>\n",
       "</tr>\n",
       "<tr>\n",
       "  <th>ma.L3</th>  <td>   -0.2564</td> <td>    0.053</td> <td>   -4.798</td> <td> 0.000</td> <td>   -0.361</td> <td>   -0.152</td>\n",
       "</tr>\n",
       "<tr>\n",
       "  <th>ma.L4</th>  <td>   -1.0942</td> <td>    0.048</td> <td>  -22.663</td> <td> 0.000</td> <td>   -1.189</td> <td>   -1.000</td>\n",
       "</tr>\n",
       "<tr>\n",
       "  <th>ma.L5</th>  <td>   -0.8287</td> <td>    0.081</td> <td>  -10.214</td> <td> 0.000</td> <td>   -0.988</td> <td>   -0.670</td>\n",
       "</tr>\n",
       "<tr>\n",
       "  <th>sigma2</th> <td>   59.6215</td> <td>    1.974</td> <td>   30.206</td> <td> 0.000</td> <td>   55.753</td> <td>   63.490</td>\n",
       "</tr>\n",
       "</table>\n",
       "<table class=\"simpletable\">\n",
       "<tr>\n",
       "  <th>Ljung-Box (L1) (Q):</th>     <td>0.01</td> <th>  Jarque-Bera (JB):  </th> <td>4117.42</td>\n",
       "</tr>\n",
       "<tr>\n",
       "  <th>Prob(Q):</th>                <td>0.93</td> <th>  Prob(JB):          </th>  <td>0.00</td>  \n",
       "</tr>\n",
       "<tr>\n",
       "  <th>Heteroskedasticity (H):</th> <td>0.30</td> <th>  Skew:              </th>  <td>2.29</td>  \n",
       "</tr>\n",
       "<tr>\n",
       "  <th>Prob(H) (two-sided):</th>    <td>0.00</td> <th>  Kurtosis:          </th>  <td>16.61</td> \n",
       "</tr>\n",
       "</table><br/><br/>Warnings:<br/>[1] Covariance matrix calculated using the outer product of gradients (complex-step)."
      ],
      "text/latex": [
       "\\begin{center}\n",
       "\\begin{tabular}{lclc}\n",
       "\\toprule\n",
       "\\textbf{Dep. Variable:}          &      Score       & \\textbf{  No. Observations:  } &    479      \\\\\n",
       "\\textbf{Model:}                  &  ARIMA(6, 0, 5)  & \\textbf{  Log Likelihood     } & -1660.025   \\\\\n",
       "\\textbf{Date:}                   & Wed, 22 Nov 2023 & \\textbf{  AIC                } &  3346.049   \\\\\n",
       "\\textbf{Time:}                   &     21:56:16     & \\textbf{  BIC                } &  3400.281   \\\\\n",
       "\\textbf{Sample:}                 &        0         & \\textbf{  HQIC               } &  3367.369   \\\\\n",
       "\\textbf{}                        &       - 479      & \\textbf{                     } &             \\\\\n",
       "\\textbf{Covariance Type:}        &       opg        & \\textbf{                     } &             \\\\\n",
       "\\bottomrule\n",
       "\\end{tabular}\n",
       "\\begin{tabular}{lcccccc}\n",
       "                & \\textbf{coef} & \\textbf{std err} & \\textbf{z} & \\textbf{P$> |$z$|$} & \\textbf{[0.025} & \\textbf{0.975]}  \\\\\n",
       "\\midrule\n",
       "\\textbf{const}  &       5.5735  &        7.010     &     0.795  &         0.427        &       -8.165    &       19.312     \\\\\n",
       "\\textbf{ar.L1}  &      -0.9740  &        0.104     &    -9.364  &         0.000        &       -1.178    &       -0.770     \\\\\n",
       "\\textbf{ar.L2}  &      -0.1202  &        0.071     &    -1.691  &         0.091        &       -0.259    &        0.019     \\\\\n",
       "\\textbf{ar.L3}  &       0.4047  &        0.043     &     9.444  &         0.000        &        0.321    &        0.489     \\\\\n",
       "\\textbf{ar.L4}  &       1.1224  &        0.051     &    22.039  &         0.000        &        1.023    &        1.222     \\\\\n",
       "\\textbf{ar.L5}  &       0.6974  &        0.102     &     6.869  &         0.000        &        0.498    &        0.896     \\\\\n",
       "\\textbf{ar.L6}  &      -0.1381  &        0.053     &    -2.606  &         0.009        &       -0.242    &       -0.034     \\\\\n",
       "\\textbf{ma.L1}  &       1.1205  &        0.096     &    11.704  &         0.000        &        0.933    &        1.308     \\\\\n",
       "\\textbf{ma.L2}  &       0.2982  &        0.060     &     4.963  &         0.000        &        0.180    &        0.416     \\\\\n",
       "\\textbf{ma.L3}  &      -0.2564  &        0.053     &    -4.798  &         0.000        &       -0.361    &       -0.152     \\\\\n",
       "\\textbf{ma.L4}  &      -1.0942  &        0.048     &   -22.663  &         0.000        &       -1.189    &       -1.000     \\\\\n",
       "\\textbf{ma.L5}  &      -0.8287  &        0.081     &   -10.214  &         0.000        &       -0.988    &       -0.670     \\\\\n",
       "\\textbf{sigma2} &      59.6215  &        1.974     &    30.206  &         0.000        &       55.753    &       63.490     \\\\\n",
       "\\bottomrule\n",
       "\\end{tabular}\n",
       "\\begin{tabular}{lclc}\n",
       "\\textbf{Ljung-Box (L1) (Q):}     & 0.01 & \\textbf{  Jarque-Bera (JB):  } & 4117.42  \\\\\n",
       "\\textbf{Prob(Q):}                & 0.93 & \\textbf{  Prob(JB):          } &   0.00   \\\\\n",
       "\\textbf{Heteroskedasticity (H):} & 0.30 & \\textbf{  Skew:              } &   2.29   \\\\\n",
       "\\textbf{Prob(H) (two-sided):}    & 0.00 & \\textbf{  Kurtosis:          } &  16.61   \\\\\n",
       "\\bottomrule\n",
       "\\end{tabular}\n",
       "%\\caption{SARIMAX Results}\n",
       "\\end{center}\n",
       "\n",
       "Warnings: \\newline\n",
       " [1] Covariance matrix calculated using the outer product of gradients (complex-step)."
      ],
      "text/plain": [
       "<class 'statsmodels.iolib.summary.Summary'>\n",
       "\"\"\"\n",
       "                               SARIMAX Results                                \n",
       "==============================================================================\n",
       "Dep. Variable:                  Score   No. Observations:                  479\n",
       "Model:                 ARIMA(6, 0, 5)   Log Likelihood               -1660.025\n",
       "Date:                Wed, 22 Nov 2023   AIC                           3346.049\n",
       "Time:                        21:56:16   BIC                           3400.281\n",
       "Sample:                             0   HQIC                          3367.369\n",
       "                                - 479                                         \n",
       "Covariance Type:                  opg                                         \n",
       "==============================================================================\n",
       "                 coef    std err          z      P>|z|      [0.025      0.975]\n",
       "------------------------------------------------------------------------------\n",
       "const          5.5735      7.010      0.795      0.427      -8.165      19.312\n",
       "ar.L1         -0.9740      0.104     -9.364      0.000      -1.178      -0.770\n",
       "ar.L2         -0.1202      0.071     -1.691      0.091      -0.259       0.019\n",
       "ar.L3          0.4047      0.043      9.444      0.000       0.321       0.489\n",
       "ar.L4          1.1224      0.051     22.039      0.000       1.023       1.222\n",
       "ar.L5          0.6974      0.102      6.869      0.000       0.498       0.896\n",
       "ar.L6         -0.1381      0.053     -2.606      0.009      -0.242      -0.034\n",
       "ma.L1          1.1205      0.096     11.704      0.000       0.933       1.308\n",
       "ma.L2          0.2982      0.060      4.963      0.000       0.180       0.416\n",
       "ma.L3         -0.2564      0.053     -4.798      0.000      -0.361      -0.152\n",
       "ma.L4         -1.0942      0.048    -22.663      0.000      -1.189      -1.000\n",
       "ma.L5         -0.8287      0.081    -10.214      0.000      -0.988      -0.670\n",
       "sigma2        59.6215      1.974     30.206      0.000      55.753      63.490\n",
       "===================================================================================\n",
       "Ljung-Box (L1) (Q):                   0.01   Jarque-Bera (JB):              4117.42\n",
       "Prob(Q):                              0.93   Prob(JB):                         0.00\n",
       "Heteroskedasticity (H):               0.30   Skew:                             2.29\n",
       "Prob(H) (two-sided):                  0.00   Kurtosis:                        16.61\n",
       "===================================================================================\n",
       "\n",
       "Warnings:\n",
       "[1] Covariance matrix calculated using the outer product of gradients (complex-step).\n",
       "\"\"\""
      ]
     },
     "execution_count": 72,
     "metadata": {},
     "output_type": "execute_result"
    }
   ],
   "source": [
    "model9.summary()"
   ]
  },
  {
   "cell_type": "code",
   "execution_count": 73,
   "id": "3523f58f",
   "metadata": {},
   "outputs": [],
   "source": [
    "pred_time = 20\n",
    "result9 = model9.predict(pred_time)"
   ]
  },
  {
   "cell_type": "code",
   "execution_count": 74,
   "id": "83192c44",
   "metadata": {},
   "outputs": [
    {
     "data": {
      "text/plain": [
       "20      7.665258\n",
       "21      8.091871\n",
       "22      9.106831\n",
       "23     13.584381\n",
       "24      6.902359\n",
       "         ...    \n",
       "474     0.190702\n",
       "475     0.443898\n",
       "476     0.926311\n",
       "477     4.639083\n",
       "478     0.491881\n",
       "Name: predicted_mean, Length: 459, dtype: float64"
      ]
     },
     "execution_count": 74,
     "metadata": {},
     "output_type": "execute_result"
    }
   ],
   "source": [
    "result9"
   ]
  },
  {
   "cell_type": "code",
   "execution_count": 75,
   "id": "9677f0d0",
   "metadata": {},
   "outputs": [
    {
     "data": {
      "text/plain": [
       "[<matplotlib.lines.Line2D at 0x174c671b3d0>]"
      ]
     },
     "execution_count": 75,
     "metadata": {},
     "output_type": "execute_result"
    },
    {
     "data": {
      "image/png": "[encoded data removed]",
      "text/plain": [
       "<Figure size 640x480 with 1 Axes>"
      ]
     },
     "metadata": {},
     "output_type": "display_data"
    }
   ],
   "source": [
    "plt.plot(range(len(result9)-pred_time), result9[:-pred_time])\n",
    "plt.plot(range(len(result9)-pred_time, len(result9)), result9[-pred_time:])"
   ]
  },
  {
   "cell_type": "code",
   "execution_count": null,
   "id": "f9dcb2b0",
   "metadata": {},
   "outputs": [],
   "source": [
    "# Model 10 - (5, 0, 8) -  [3346.464820924101, 5, 8],"
   ]
  },
  {
   "cell_type": "code",
   "execution_count": 76,
   "id": "9fe5604b",
   "metadata": {},
   "outputs": [
    {
     "name": "stderr",
     "output_type": "stream",
     "text": [
      "C:\\Users\\aad.sray\\AppData\\Local\\anaconda3\\Lib\\site-packages\\statsmodels\\base\\model.py:607: ConvergenceWarning: Maximum Likelihood optimization failed to converge. Check mle_retvals\n",
      "  warnings.warn(\"Maximum Likelihood optimization failed to \"\n"
     ]
    }
   ],
   "source": [
    "model10 = sm.ARIMA(df[\"Score\"], order=(5, 0 , 8)).fit()"
   ]
  },
  {
   "cell_type": "code",
   "execution_count": 77,
   "id": "4b83a3aa",
   "metadata": {},
   "outputs": [
    {
     "data": {
      "text/html": [
       "<table class=\"simpletable\">\n",
       "<caption>SARIMAX Results</caption>\n",
       "<tr>\n",
       "  <th>Dep. Variable:</th>         <td>Score</td>      <th>  No. Observations:  </th>    <td>479</td>   \n",
       "</tr>\n",
       "<tr>\n",
       "  <th>Model:</th>            <td>ARIMA(5, 0, 8)</td>  <th>  Log Likelihood     </th> <td>-1658.232</td>\n",
       "</tr>\n",
       "<tr>\n",
       "  <th>Date:</th>            <td>Wed, 22 Nov 2023</td> <th>  AIC                </th> <td>3346.465</td> \n",
       "</tr>\n",
       "<tr>\n",
       "  <th>Time:</th>                <td>21:56:35</td>     <th>  BIC                </th> <td>3409.040</td> \n",
       "</tr>\n",
       "<tr>\n",
       "  <th>Sample:</th>                  <td>0</td>        <th>  HQIC               </th> <td>3371.064</td> \n",
       "</tr>\n",
       "<tr>\n",
       "  <th></th>                      <td> - 479</td>      <th>                     </th>     <td> </td>    \n",
       "</tr>\n",
       "<tr>\n",
       "  <th>Covariance Type:</th>        <td>opg</td>       <th>                     </th>     <td> </td>    \n",
       "</tr>\n",
       "</table>\n",
       "<table class=\"simpletable\">\n",
       "<tr>\n",
       "     <td></td>       <th>coef</th>     <th>std err</th>      <th>z</th>      <th>P>|z|</th>  <th>[0.025</th>    <th>0.975]</th>  \n",
       "</tr>\n",
       "<tr>\n",
       "  <th>const</th>  <td>    5.5930</td> <td>    6.088</td> <td>    0.919</td> <td> 0.358</td> <td>   -6.340</td> <td>   17.526</td>\n",
       "</tr>\n",
       "<tr>\n",
       "  <th>ar.L1</th>  <td>   -0.3209</td> <td>    0.191</td> <td>   -1.682</td> <td> 0.093</td> <td>   -0.695</td> <td>    0.053</td>\n",
       "</tr>\n",
       "<tr>\n",
       "  <th>ar.L2</th>  <td>   -0.2468</td> <td>    0.089</td> <td>   -2.772</td> <td> 0.006</td> <td>   -0.421</td> <td>   -0.072</td>\n",
       "</tr>\n",
       "<tr>\n",
       "  <th>ar.L3</th>  <td>    0.3444</td> <td>    0.086</td> <td>    3.994</td> <td> 0.000</td> <td>    0.175</td> <td>    0.513</td>\n",
       "</tr>\n",
       "<tr>\n",
       "  <th>ar.L4</th>  <td>    0.6396</td> <td>    0.089</td> <td>    7.218</td> <td> 0.000</td> <td>    0.466</td> <td>    0.813</td>\n",
       "</tr>\n",
       "<tr>\n",
       "  <th>ar.L5</th>  <td>    0.5777</td> <td>    0.183</td> <td>    3.161</td> <td> 0.002</td> <td>    0.220</td> <td>    0.936</td>\n",
       "</tr>\n",
       "<tr>\n",
       "  <th>ma.L1</th>  <td>    0.4652</td> <td>    0.192</td> <td>    2.425</td> <td> 0.015</td> <td>    0.089</td> <td>    0.841</td>\n",
       "</tr>\n",
       "<tr>\n",
       "  <th>ma.L2</th>  <td>    0.3261</td> <td>    0.116</td> <td>    2.800</td> <td> 0.005</td> <td>    0.098</td> <td>    0.554</td>\n",
       "</tr>\n",
       "<tr>\n",
       "  <th>ma.L3</th>  <td>   -0.2303</td> <td>    0.083</td> <td>   -2.761</td> <td> 0.006</td> <td>   -0.394</td> <td>   -0.067</td>\n",
       "</tr>\n",
       "<tr>\n",
       "  <th>ma.L4</th>  <td>   -0.6235</td> <td>    0.100</td> <td>   -6.259</td> <td> 0.000</td> <td>   -0.819</td> <td>   -0.428</td>\n",
       "</tr>\n",
       "<tr>\n",
       "  <th>ma.L5</th>  <td>   -0.6174</td> <td>    0.198</td> <td>   -3.125</td> <td> 0.002</td> <td>   -1.005</td> <td>   -0.230</td>\n",
       "</tr>\n",
       "<tr>\n",
       "  <th>ma.L6</th>  <td>   -0.1010</td> <td>    0.065</td> <td>   -1.550</td> <td> 0.121</td> <td>   -0.229</td> <td>    0.027</td>\n",
       "</tr>\n",
       "<tr>\n",
       "  <th>ma.L7</th>  <td>    0.0748</td> <td>    0.052</td> <td>    1.438</td> <td> 0.150</td> <td>   -0.027</td> <td>    0.177</td>\n",
       "</tr>\n",
       "<tr>\n",
       "  <th>ma.L8</th>  <td>   -0.1271</td> <td>    0.067</td> <td>   -1.909</td> <td> 0.056</td> <td>   -0.258</td> <td>    0.003</td>\n",
       "</tr>\n",
       "<tr>\n",
       "  <th>sigma2</th> <td>   60.3179</td> <td>    2.523</td> <td>   23.911</td> <td> 0.000</td> <td>   55.374</td> <td>   65.262</td>\n",
       "</tr>\n",
       "</table>\n",
       "<table class=\"simpletable\">\n",
       "<tr>\n",
       "  <th>Ljung-Box (L1) (Q):</th>     <td>0.03</td> <th>  Jarque-Bera (JB):  </th> <td>4134.39</td>\n",
       "</tr>\n",
       "<tr>\n",
       "  <th>Prob(Q):</th>                <td>0.86</td> <th>  Prob(JB):          </th>  <td>0.00</td>  \n",
       "</tr>\n",
       "<tr>\n",
       "  <th>Heteroskedasticity (H):</th> <td>0.28</td> <th>  Skew:              </th>  <td>2.33</td>  \n",
       "</tr>\n",
       "<tr>\n",
       "  <th>Prob(H) (two-sided):</th>    <td>0.00</td> <th>  Kurtosis:          </th>  <td>16.61</td> \n",
       "</tr>\n",
       "</table><br/><br/>Warnings:<br/>[1] Covariance matrix calculated using the outer product of gradients (complex-step)."
      ],
      "text/latex": [
       "\\begin{center}\n",
       "\\begin{tabular}{lclc}\n",
       "\\toprule\n",
       "\\textbf{Dep. Variable:}          &      Score       & \\textbf{  No. Observations:  } &    479      \\\\\n",
       "\\textbf{Model:}                  &  ARIMA(5, 0, 8)  & \\textbf{  Log Likelihood     } & -1658.232   \\\\\n",
       "\\textbf{Date:}                   & Wed, 22 Nov 2023 & \\textbf{  AIC                } &  3346.465   \\\\\n",
       "\\textbf{Time:}                   &     21:56:35     & \\textbf{  BIC                } &  3409.040   \\\\\n",
       "\\textbf{Sample:}                 &        0         & \\textbf{  HQIC               } &  3371.064   \\\\\n",
       "\\textbf{}                        &       - 479      & \\textbf{                     } &             \\\\\n",
       "\\textbf{Covariance Type:}        &       opg        & \\textbf{                     } &             \\\\\n",
       "\\bottomrule\n",
       "\\end{tabular}\n",
       "\\begin{tabular}{lcccccc}\n",
       "                & \\textbf{coef} & \\textbf{std err} & \\textbf{z} & \\textbf{P$> |$z$|$} & \\textbf{[0.025} & \\textbf{0.975]}  \\\\\n",
       "\\midrule\n",
       "\\textbf{const}  &       5.5930  &        6.088     &     0.919  &         0.358        &       -6.340    &       17.526     \\\\\n",
       "\\textbf{ar.L1}  &      -0.3209  &        0.191     &    -1.682  &         0.093        &       -0.695    &        0.053     \\\\\n",
       "\\textbf{ar.L2}  &      -0.2468  &        0.089     &    -2.772  &         0.006        &       -0.421    &       -0.072     \\\\\n",
       "\\textbf{ar.L3}  &       0.3444  &        0.086     &     3.994  &         0.000        &        0.175    &        0.513     \\\\\n",
       "\\textbf{ar.L4}  &       0.6396  &        0.089     &     7.218  &         0.000        &        0.466    &        0.813     \\\\\n",
       "\\textbf{ar.L5}  &       0.5777  &        0.183     &     3.161  &         0.002        &        0.220    &        0.936     \\\\\n",
       "\\textbf{ma.L1}  &       0.4652  &        0.192     &     2.425  &         0.015        &        0.089    &        0.841     \\\\\n",
       "\\textbf{ma.L2}  &       0.3261  &        0.116     &     2.800  &         0.005        &        0.098    &        0.554     \\\\\n",
       "\\textbf{ma.L3}  &      -0.2303  &        0.083     &    -2.761  &         0.006        &       -0.394    &       -0.067     \\\\\n",
       "\\textbf{ma.L4}  &      -0.6235  &        0.100     &    -6.259  &         0.000        &       -0.819    &       -0.428     \\\\\n",
       "\\textbf{ma.L5}  &      -0.6174  &        0.198     &    -3.125  &         0.002        &       -1.005    &       -0.230     \\\\\n",
       "\\textbf{ma.L6}  &      -0.1010  &        0.065     &    -1.550  &         0.121        &       -0.229    &        0.027     \\\\\n",
       "\\textbf{ma.L7}  &       0.0748  &        0.052     &     1.438  &         0.150        &       -0.027    &        0.177     \\\\\n",
       "\\textbf{ma.L8}  &      -0.1271  &        0.067     &    -1.909  &         0.056        &       -0.258    &        0.003     \\\\\n",
       "\\textbf{sigma2} &      60.3179  &        2.523     &    23.911  &         0.000        &       55.374    &       65.262     \\\\\n",
       "\\bottomrule\n",
       "\\end{tabular}\n",
       "\\begin{tabular}{lclc}\n",
       "\\textbf{Ljung-Box (L1) (Q):}     & 0.03 & \\textbf{  Jarque-Bera (JB):  } & 4134.39  \\\\\n",
       "\\textbf{Prob(Q):}                & 0.86 & \\textbf{  Prob(JB):          } &   0.00   \\\\\n",
       "\\textbf{Heteroskedasticity (H):} & 0.28 & \\textbf{  Skew:              } &   2.33   \\\\\n",
       "\\textbf{Prob(H) (two-sided):}    & 0.00 & \\textbf{  Kurtosis:          } &  16.61   \\\\\n",
       "\\bottomrule\n",
       "\\end{tabular}\n",
       "%\\caption{SARIMAX Results}\n",
       "\\end{center}\n",
       "\n",
       "Warnings: \\newline\n",
       " [1] Covariance matrix calculated using the outer product of gradients (complex-step)."
      ],
      "text/plain": [
       "<class 'statsmodels.iolib.summary.Summary'>\n",
       "\"\"\"\n",
       "                               SARIMAX Results                                \n",
       "==============================================================================\n",
       "Dep. Variable:                  Score   No. Observations:                  479\n",
       "Model:                 ARIMA(5, 0, 8)   Log Likelihood               -1658.232\n",
       "Date:                Wed, 22 Nov 2023   AIC                           3346.465\n",
       "Time:                        21:56:35   BIC                           3409.040\n",
       "Sample:                             0   HQIC                          3371.064\n",
       "                                - 479                                         \n",
       "Covariance Type:                  opg                                         \n",
       "==============================================================================\n",
       "                 coef    std err          z      P>|z|      [0.025      0.975]\n",
       "------------------------------------------------------------------------------\n",
       "const          5.5930      6.088      0.919      0.358      -6.340      17.526\n",
       "ar.L1         -0.3209      0.191     -1.682      0.093      -0.695       0.053\n",
       "ar.L2         -0.2468      0.089     -2.772      0.006      -0.421      -0.072\n",
       "ar.L3          0.3444      0.086      3.994      0.000       0.175       0.513\n",
       "ar.L4          0.6396      0.089      7.218      0.000       0.466       0.813\n",
       "ar.L5          0.5777      0.183      3.161      0.002       0.220       0.936\n",
       "ma.L1          0.4652      0.192      2.425      0.015       0.089       0.841\n",
       "ma.L2          0.3261      0.116      2.800      0.005       0.098       0.554\n",
       "ma.L3         -0.2303      0.083     -2.761      0.006      -0.394      -0.067\n",
       "ma.L4         -0.6235      0.100     -6.259      0.000      -0.819      -0.428\n",
       "ma.L5         -0.6174      0.198     -3.125      0.002      -1.005      -0.230\n",
       "ma.L6         -0.1010      0.065     -1.550      0.121      -0.229       0.027\n",
       "ma.L7          0.0748      0.052      1.438      0.150      -0.027       0.177\n",
       "ma.L8         -0.1271      0.067     -1.909      0.056      -0.258       0.003\n",
       "sigma2        60.3179      2.523     23.911      0.000      55.374      65.262\n",
       "===================================================================================\n",
       "Ljung-Box (L1) (Q):                   0.03   Jarque-Bera (JB):              4134.39\n",
       "Prob(Q):                              0.86   Prob(JB):                         0.00\n",
       "Heteroskedasticity (H):               0.28   Skew:                             2.33\n",
       "Prob(H) (two-sided):                  0.00   Kurtosis:                        16.61\n",
       "===================================================================================\n",
       "\n",
       "Warnings:\n",
       "[1] Covariance matrix calculated using the outer product of gradients (complex-step).\n",
       "\"\"\""
      ]
     },
     "execution_count": 77,
     "metadata": {},
     "output_type": "execute_result"
    }
   ],
   "source": [
    "model10.summary()"
   ]
  },
  {
   "cell_type": "code",
   "execution_count": 78,
   "id": "88e43259",
   "metadata": {},
   "outputs": [],
   "source": [
    "pred_time = 20\n",
    "result10 = model10.predict(pred_time)"
   ]
  },
  {
   "cell_type": "code",
   "execution_count": 79,
   "id": "f703790a",
   "metadata": {},
   "outputs": [
    {
     "data": {
      "text/plain": [
       "20      8.738647\n",
       "21      8.466011\n",
       "22      8.181121\n",
       "23     13.098539\n",
       "24      8.710113\n",
       "         ...    \n",
       "474     1.622639\n",
       "475     0.572421\n",
       "476     1.208714\n",
       "477     2.391829\n",
       "478     3.426050\n",
       "Name: predicted_mean, Length: 459, dtype: float64"
      ]
     },
     "execution_count": 79,
     "metadata": {},
     "output_type": "execute_result"
    }
   ],
   "source": [
    "result10"
   ]
  },
  {
   "cell_type": "code",
   "execution_count": 80,
   "id": "2b0fa4bb",
   "metadata": {},
   "outputs": [
    {
     "data": {
      "text/plain": [
       "[<matplotlib.lines.Line2D at 0x174c6564d90>]"
      ]
     },
     "execution_count": 80,
     "metadata": {},
     "output_type": "execute_result"
    },
    {
     "data": {
      "image/png": "[encoded data removed]",
      "text/plain": [
       "<Figure size 640x480 with 1 Axes>"
      ]
     },
     "metadata": {},
     "output_type": "display_data"
    }
   ],
   "source": [
    "plt.plot(range(len(result10)-pred_time), result10[:-pred_time])\n",
    "plt.plot(range(len(result10)-pred_time, len(result10)), result10[-pred_time:])"
   ]
  },
  {
   "cell_type": "code",
   "execution_count": null,
   "id": "6505c85d",
   "metadata": {},
   "outputs": [],
   "source": []
  },
  {
   "cell_type": "code",
   "execution_count": null,
   "id": "aa6b0991",
   "metadata": {},
   "outputs": [],
   "source": [
    "# Top 5 AIC results from 25 model searches (5x0x5)\n",
    "\n",
    "[3345.7007759687767, 3, 4],\n",
    " [3347.0963219967316, 3, 3],\n",
    " [3347.5907522336142, 2, 2],\n",
    " [3348.4671837724236, 1, 2],\n",
    " [3348.558644639363, 2, 1],"
   ]
  },
  {
   "cell_type": "code",
   "execution_count": null,
   "id": "3852d110",
   "metadata": {},
   "outputs": [],
   "source": [
    "# Top 5 AIC results from 100 model searches (10x0x10)\n",
    "\n",
    "\n",
    " [3345.1821835020637, 6, 6],\n",
    " [3345.7007759687767, 3, 4],\n",
    " [3346.043188816975, 7, 5],\n",
    " [3346.0493070901252, 6, 5],\n",
    " [3346.464820924101, 5, 8],\n",
    "    \n",
    "    \n",
    "# As we can see that our top and second best value for both searches was -\n",
    "# [3345.7007759687767, 3, 4]"
   ]
  },
  {
   "cell_type": "code",
   "execution_count": null,
   "id": "0ead0aaa",
   "metadata": {},
   "outputs": [],
   "source": []
  },
  {
   "cell_type": "code",
   "execution_count": null,
   "id": "a7c73962",
   "metadata": {},
   "outputs": [],
   "source": []
  }
 ],
 "metadata": {
  "kernelspec": {
   "display_name": "Python 3 (ipykernel)",
   "language": "python",
   "name": "python3"
  },
  "language_info": {
   "codemirror_mode": {
    "name": "ipython",
    "version": 3
   },
   "file_extension": ".py",
   "mimetype": "text/x-python",
   "name": "python",
   "nbconvert_exporter": "python",
   "pygments_lexer": "ipython3",
   "version": "3.11.5"
  }
 },
 "nbformat": 4,
 "nbformat_minor": 5
}
