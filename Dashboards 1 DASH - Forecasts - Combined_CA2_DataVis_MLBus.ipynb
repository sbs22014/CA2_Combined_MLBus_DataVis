{
 "cells": [
  {
   "cell_type": "markdown",
   "id": "595d7e7c",
   "metadata": {},
   "source": [
    "# Create dashboards with our df using Plotly Dash\n",
    "\n",
    "\n"
   ]
  },
  {
   "cell_type": "code",
   "execution_count": 13,
   "id": "6b9d9881",
   "metadata": {},
   "outputs": [],
   "source": [
    "import warnings\n",
    "warnings.filterwarnings(\"ignore\")\n",
    "\n",
    "import pandas as pd\n",
    "import plotly.express as px\n",
    "from jupyter_dash import JupyterDash\n",
    "import dash_core_components as dcc\n",
    "import dash_html_components as html\n",
    "from dash.dependencies import Input, Output\n",
    "from sklearn import datasets, linear_model\n",
    "from sklearn.metrics import r2_score"
   ]
  },
  {
   "cell_type": "code",
   "execution_count": 14,
   "id": "a62f0520",
   "metadata": {},
   "outputs": [
    {
     "name": "stdout",
     "output_type": "stream",
     "text": [
      "                                               Comment                 Time  \\\n",
      "0    Posting a bit early so people know where to go...  2023-10-10 11:14:12   \n",
      "1    20% fare reduction on public transport continu...  2023-10-10 13:55:05   \n",
      "2                                        This is good.  2023-10-10 14:16:50   \n",
      "3       Aaaaaahhhhh, what have the Greens done for us!  2023-10-10 16:56:05   \n",
      "4    €67 million to provide 16,000 craft apprentice...  2023-10-10 14:18:04   \n",
      "..                                                 ...                  ...   \n",
      "474                                          [deleted]  2023-10-10 13:30:20   \n",
      "475                                        You did not  2023-10-10 13:31:29   \n",
      "476  Whats the 18 year old minimum wage rate going to?  2023-10-10 15:30:22   \n",
      "477                                      10.16 I'd say  2023-10-10 15:33:48   \n",
      "478  Yeah forgot its a set rate of 80% of minimum w...  2023-10-10 15:52:32   \n",
      "\n",
      "     Score   ID  \n",
      "0        1    1  \n",
      "1       39    2  \n",
      "2        3    3  \n",
      "3        2    4  \n",
      "4       25    5  \n",
      "..     ...  ...  \n",
      "474     -1  475  \n",
      "475      3  476  \n",
      "476      1  477  \n",
      "477      1  478  \n",
      "478      1  479  \n",
      "\n",
      "[479 rows x 4 columns]\n"
     ]
    }
   ],
   "source": [
    "# Import DF\n",
    "\n",
    "df = pd.read_csv('db2023_cleandf.csv')\n",
    "\n",
    "# Adding a new column with integers from 1 to 479\n",
    "df['ID'] = range(1, 480)\n",
    "\n",
    "# Display the DataFrame\n",
    "print(df)"
   ]
  },
  {
   "cell_type": "code",
   "execution_count": 20,
   "id": "83bf129e",
   "metadata": {},
   "outputs": [
    {
     "name": "stdout",
     "output_type": "stream",
     "text": [
      "                                               Comment                Time  \\\n",
      "0    Posting a bit early so people know where to go... 2023-10-10 11:14:12   \n",
      "1    20% fare reduction on public transport continu... 2023-10-10 13:55:05   \n",
      "2                                        This is good. 2023-10-10 14:16:50   \n",
      "3       Aaaaaahhhhh, what have the Greens done for us! 2023-10-10 16:56:05   \n",
      "4    €67 million to provide 16,000 craft apprentice... 2023-10-10 14:18:04   \n",
      "..                                                 ...                 ...   \n",
      "474                                          [deleted] 2023-10-10 13:30:20   \n",
      "475                                        You did not 2023-10-10 13:31:29   \n",
      "476  Whats the 18 year old minimum wage rate going to? 2023-10-10 15:30:22   \n",
      "477                                      10.16 I'd say 2023-10-10 15:33:48   \n",
      "478  Yeah forgot its a set rate of 80% of minimum w... 2023-10-10 15:52:32   \n",
      "\n",
      "     Score   ID  \n",
      "0        1    1  \n",
      "1       39    2  \n",
      "2        3    3  \n",
      "3        2    4  \n",
      "4       25    5  \n",
      "..     ...  ...  \n",
      "474     -1  475  \n",
      "475      3  476  \n",
      "476      1  477  \n",
      "477      1  478  \n",
      "478      1  479  \n",
      "\n",
      "[479 rows x 4 columns]\n"
     ]
    }
   ],
   "source": [
    "df['Time'] = pd.to_datetime(df['Time'], format='%Y-%m-%d %H:%M:%S')\n",
    "\n",
    "print(df)"
   ]
  },
  {
   "cell_type": "code",
   "execution_count": 55,
   "id": "e114c9c0",
   "metadata": {},
   "outputs": [
    {
     "name": "stdout",
     "output_type": "stream",
     "text": [
      "Data Types of DataFrame Columns:\n",
      "Comment            object\n",
      "Time       datetime64[ns]\n",
      "Score               int64\n",
      "ID                  int64\n",
      "dtype: object\n"
     ]
    }
   ],
   "source": [
    "column_data_types = df.dtypes\n",
    "print(\"Data Types of DataFrame Columns:\")\n",
    "print(column_data_types)"
   ]
  },
  {
   "cell_type": "code",
   "execution_count": 56,
   "id": "1f6617b8",
   "metadata": {},
   "outputs": [],
   "source": [
    "# Export dataframe to csv to use within dash app cells\n",
    "\n",
    "df.to_csv('visdf.csv', index=False)"
   ]
  },
  {
   "cell_type": "code",
   "execution_count": 47,
   "id": "29702107",
   "metadata": {},
   "outputs": [],
   "source": [
    "import dash\n",
    "import dash_core_components as dcc\n",
    "import dash_html_components as html\n",
    "from dash.dependencies import Input, Output\n",
    "import plotly.express as px\n",
    "import pandas as pd\n"
   ]
  },
  {
   "cell_type": "code",
   "execution_count": 57,
   "id": "765f45b1",
   "metadata": {},
   "outputs": [
    {
     "data": {
      "text/html": [
       "\n",
       "        <iframe\n",
       "            width=\"100%\"\n",
       "            height=\"650\"\n",
       "            src=\"http://127.0.0.1:8050/\"\n",
       "            frameborder=\"0\"\n",
       "            allowfullscreen\n",
       "            \n",
       "        ></iframe>\n",
       "        "
      ],
      "text/plain": [
       "<IPython.lib.display.IFrame at 0x1ff5aadb590>"
      ]
     },
     "metadata": {},
     "output_type": "display_data"
    }
   ],
   "source": [
    "df = pd.read_csv('visdf.csv')\n",
    "\n",
    "app = dash.Dash(__name__, suppress_callback_exceptions=True)\n",
    "\n",
    "\n",
    "app.layout = html.Div([\n",
    "    html.H1(\"Time Series Analysis Dashboard\"),\n",
    "    dcc.Graph(id='time-series-plot'),\n",
    "    # Add more components as needed\n",
    "])\n",
    "\n",
    "@app.callback(\n",
    "    Output('time-series-plot', 'figure'),\n",
    "    [Input('dropdown-feature', 'value')]  # Add input components as needed\n",
    ")\n",
    "def update_time_series_plot(selected_feature):\n",
    "    fig = px.line(df, x='Time', y=selected_feature, title=f'Time Series Plot of {selected_feature}')\n",
    "    return fig\n",
    "\n",
    "\n",
    "if __name__ == '__main__':\n",
    "    app.run_server(debug=True, mode=\"inline\")\n",
    "    \n",
    "\n",
    "\n"
   ]
  },
  {
   "cell_type": "code",
   "execution_count": 58,
   "id": "23679409",
   "metadata": {},
   "outputs": [
    {
     "data": {
      "text/html": [
       "\n",
       "        <iframe\n",
       "            width=\"100%\"\n",
       "            height=\"650\"\n",
       "            src=\"http://127.0.0.1:8050/\"\n",
       "            frameborder=\"0\"\n",
       "            allowfullscreen\n",
       "            \n",
       "        ></iframe>\n",
       "        "
      ],
      "text/plain": [
       "<IPython.lib.display.IFrame at 0x1ff5cee9e50>"
      ]
     },
     "metadata": {},
     "output_type": "display_data"
    }
   ],
   "source": [
    "df = pd.read_csv('visdf.csv')\n",
    "\n",
    "app = dash.Dash(__name__, suppress_callback_exceptions=True)\n",
    "\n",
    "app.layout = html.Div([\n",
    "    html.H1(\"Time Series Analysis Dashboard\"),\n",
    "    dcc.Dropdown(\n",
    "        id='dropdown-feature',\n",
    "        options=[\n",
    "            {'label': col, 'value': col} for col in df.columns\n",
    "        ],\n",
    "        value=df.columns[0],  # Default selected value\n",
    "        multi=False  # Set to True if you want to allow multiple selections\n",
    "    ),\n",
    "    dcc.Graph(id='time-series-plot'),\n",
    "])\n",
    "\n",
    "@app.callback(\n",
    "    Output('time-series-plot', 'figure'),\n",
    "    [Input('dropdown-feature', 'value')]\n",
    ")\n",
    "def update_time_series_plot(selected_feature):\n",
    "    fig = px.line(df, x='Time', y=selected_feature, title=f'Time Series Plot of {selected_feature}')\n",
    "    return fig\n",
    "\n",
    "if __name__ == '__main__':\n",
    "    app.run_server(debug=True, mode=\"inline\")\n"
   ]
  },
  {
   "cell_type": "code",
   "execution_count": 59,
   "id": "bc1a6db0",
   "metadata": {},
   "outputs": [],
   "source": [
    "import dash\n",
    "import plotly.express as px\n"
   ]
  },
  {
   "cell_type": "code",
   "execution_count": 63,
   "id": "9758f629",
   "metadata": {},
   "outputs": [
    {
     "data": {
      "text/html": [
       "\n",
       "        <iframe\n",
       "            width=\"100%\"\n",
       "            height=\"650\"\n",
       "            src=\"http://127.0.0.1:8050/\"\n",
       "            frameborder=\"0\"\n",
       "            allowfullscreen\n",
       "            \n",
       "        ></iframe>\n",
       "        "
      ],
      "text/plain": [
       "<IPython.lib.display.IFrame at 0x1ff5d12e5d0>"
      ]
     },
     "metadata": {},
     "output_type": "display_data"
    }
   ],
   "source": [
    "df = pd.read_csv('visdf.csv')\n",
    "\n",
    "app = dash.Dash(__name__, suppress_callback_exceptions=True)\n",
    "\n",
    "app.layout = html.Div([\n",
    "    html.H1(\"Time Series Analysis Dashboard\"),\n",
    "    dcc.Dropdown(\n",
    "        id='dropdown-feature',\n",
    "        options=[\n",
    "            {'label': col, 'value': col} for col in df.columns\n",
    "        ],\n",
    "        value=df.columns[0],  # Default selected value\n",
    "        multi=False  # Set to True if you want to allow multiple selections\n",
    "    ),\n",
    "    dcc.Graph(id='time-series-plot'),\n",
    "])\n",
    "\n",
    "@app.callback(\n",
    "    Output('time-series-plot', 'figure'),\n",
    "    [Input('dropdown-feature', 'value')]\n",
    ")\n",
    "def update_time_series_plot(selected_feature):\n",
    "    fig = px.line(df, x='Time', y=selected_feature, title=f'Time Series Plot of {selected_feature}')\n",
    "    return fig\n",
    "\n",
    "\n",
    "    \n",
    "    \n",
    "if __name__ == '__main__':\n",
    "    app.run_server(debug=True, host='127.0.0.1', port=8050)\n"
   ]
  },
  {
   "cell_type": "code",
   "execution_count": null,
   "id": "c9f534d2",
   "metadata": {},
   "outputs": [],
   "source": []
  },
  {
   "cell_type": "code",
   "execution_count": null,
   "id": "7c911b5f",
   "metadata": {},
   "outputs": [],
   "source": []
  },
  {
   "cell_type": "code",
   "execution_count": null,
   "id": "033050c5",
   "metadata": {},
   "outputs": [],
   "source": []
  },
  {
   "cell_type": "code",
   "execution_count": null,
   "id": "cf0840c6",
   "metadata": {},
   "outputs": [],
   "source": []
  },
  {
   "cell_type": "code",
   "execution_count": null,
   "id": "08088b5a",
   "metadata": {},
   "outputs": [],
   "source": []
  }
 ],
 "metadata": {
  "kernelspec": {
   "display_name": "Python 3 (ipykernel)",
   "language": "python",
   "name": "python3"
  },
  "language_info": {
   "codemirror_mode": {
    "name": "ipython",
    "version": 3
   },
   "file_extension": ".py",
   "mimetype": "text/x-python",
   "name": "python",
   "nbconvert_exporter": "python",
   "pygments_lexer": "ipython3",
   "version": "3.11.5"
  }
 },
 "nbformat": 4,
 "nbformat_minor": 5
}
