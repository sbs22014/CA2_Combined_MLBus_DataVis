{
 "cells": [
  {
   "cell_type": "markdown",
   "id": "dd93dfa5",
   "metadata": {},
   "source": [
    "### Sentiment Analysis"
   ]
  },
  {
   "cell_type": "code",
   "execution_count": 55,
   "id": "f4e63ccf",
   "metadata": {},
   "outputs": [
    {
     "name": "stderr",
     "output_type": "stream",
     "text": [
      "[nltk_data] Downloading package vader_lexicon to\n",
      "[nltk_data]     C:\\Users\\aad.sray\\AppData\\Roaming\\nltk_data...\n",
      "[nltk_data]   Package vader_lexicon is already up-to-date!\n",
      "[nltk_data] Downloading package punkt to\n",
      "[nltk_data]     C:\\Users\\aad.sray\\AppData\\Roaming\\nltk_data...\n",
      "[nltk_data]   Package punkt is already up-to-date!\n"
     ]
    }
   ],
   "source": [
    "# Import Libraries\n",
    "\n",
    "from nltk.sentiment import SentimentIntensityAnalyzer\n",
    "import nltk\n",
    "nltk.download(\"vader_lexicon\")\n",
    "nltk.download('punkt')\n",
    "nltk.download('stopwords')\n",
    "import numpy as np\n",
    "import pandas as pd\n",
    "import statistics\n",
    "from sklearn.model_selection import train_test_split\n",
    "from sklearn.naive_bayes import MultinomialNB\n",
    "from sklearn.metrics import classification_report\n",
    "import dash\n",
    "from dash import dcc, html\n",
    "import plotly.express as px\n",
    "from nltk.corpus import stopwords\n",
    "from collections import Counter\n",
    "import string\n",
    "\n"
   ]
  },
  {
   "cell_type": "code",
   "execution_count": 71,
   "id": "60ed8ca3",
   "metadata": {},
   "outputs": [
    {
     "data": {
      "text/html": [
       "<div>\n",
       "<style scoped>\n",
       "    .dataframe tbody tr th:only-of-type {\n",
       "        vertical-align: middle;\n",
       "    }\n",
       "\n",
       "    .dataframe tbody tr th {\n",
       "        vertical-align: top;\n",
       "    }\n",
       "\n",
       "    .dataframe thead th {\n",
       "        text-align: right;\n",
       "    }\n",
       "</style>\n",
       "<table border=\"1\" class=\"dataframe\">\n",
       "  <thead>\n",
       "    <tr style=\"text-align: right;\">\n",
       "      <th></th>\n",
       "      <th>Comment</th>\n",
       "      <th>Score</th>\n",
       "      <th>ID</th>\n",
       "    </tr>\n",
       "  </thead>\n",
       "  <tbody>\n",
       "    <tr>\n",
       "      <th>0</th>\n",
       "      <td>Posting a bit early so people know where to go...</td>\n",
       "      <td>1</td>\n",
       "      <td>1</td>\n",
       "    </tr>\n",
       "    <tr>\n",
       "      <th>1</th>\n",
       "      <td>20% fare reduction on public transport continu...</td>\n",
       "      <td>39</td>\n",
       "      <td>2</td>\n",
       "    </tr>\n",
       "    <tr>\n",
       "      <th>2</th>\n",
       "      <td>This is good.</td>\n",
       "      <td>3</td>\n",
       "      <td>3</td>\n",
       "    </tr>\n",
       "    <tr>\n",
       "      <th>3</th>\n",
       "      <td>Aaaaaahhhhh, what have the Greens done for us!</td>\n",
       "      <td>2</td>\n",
       "      <td>4</td>\n",
       "    </tr>\n",
       "    <tr>\n",
       "      <th>4</th>\n",
       "      <td>€67 million to provide 16,000 craft apprentice...</td>\n",
       "      <td>25</td>\n",
       "      <td>5</td>\n",
       "    </tr>\n",
       "  </tbody>\n",
       "</table>\n",
       "</div>"
      ],
      "text/plain": [
       "                                             Comment  Score  ID\n",
       "0  Posting a bit early so people know where to go...      1   1\n",
       "1  20% fare reduction on public transport continu...     39   2\n",
       "2                                      This is good.      3   3\n",
       "3     Aaaaaahhhhh, what have the Greens done for us!      2   4\n",
       "4  €67 million to provide 16,000 craft apprentice...     25   5"
      ]
     },
     "execution_count": 71,
     "metadata": {},
     "output_type": "execute_result"
    }
   ],
   "source": [
    "# Import data and pre- process data\n",
    "\n",
    "df = pd.read_csv('db2023_cleandf.csv')\n",
    "df['ID'] = range(1, 480)\n",
    "\n",
    "df.drop(columns=['Time'], inplace=True)\n",
    "\n",
    "df.head()\n"
   ]
  },
  {
   "cell_type": "code",
   "execution_count": 72,
   "id": "a369d3d5",
   "metadata": {},
   "outputs": [
    {
     "data": {
      "text/plain": [
       "pandas.core.frame.DataFrame"
      ]
     },
     "execution_count": 72,
     "metadata": {},
     "output_type": "execute_result"
    }
   ],
   "source": [
    "type(df)"
   ]
  },
  {
   "cell_type": "code",
   "execution_count": 73,
   "id": "a510f8da",
   "metadata": {},
   "outputs": [
    {
     "name": "stderr",
     "output_type": "stream",
     "text": [
      "[nltk_data] Downloading package punkt to\n",
      "[nltk_data]     C:\\Users\\aad.sray\\AppData\\Roaming\\nltk_data...\n",
      "[nltk_data]   Package punkt is already up-to-date!\n",
      "[nltk_data] Downloading package vader_lexicon to\n",
      "[nltk_data]     C:\\Users\\aad.sray\\AppData\\Roaming\\nltk_data...\n",
      "[nltk_data]   Package vader_lexicon is already up-to-date!\n"
     ]
    }
   ],
   "source": [
    "import nltk\n",
    "from nltk.sentiment import SentimentIntensityAnalyzer\n",
    "import statistics\n",
    "\n",
    "# Download the required NLTK resources\n",
    "nltk.download('punkt')\n",
    "nltk.download('vader_lexicon')\n",
    "\n",
    "# Create SentimentIntensityAnalyzer instance\n",
    "sia = SentimentIntensityAnalyzer()"
   ]
  },
  {
   "cell_type": "markdown",
   "id": "2fd53f4b",
   "metadata": {},
   "source": [
    "### Calculate sentiment scores and word frequencies"
   ]
  },
  {
   "cell_type": "code",
   "execution_count": 74,
   "id": "7c8bc2bf",
   "metadata": {},
   "outputs": [],
   "source": [
    "# Function to calculate sentiment scores\n",
    "def calculate_sentiment_scores(comment):\n",
    "    sia = SentimentIntensityAnalyzer()\n",
    "    sentiment_score = sia.polarity_scores(comment)['compound']\n",
    "    return sentiment_score\n",
    "\n",
    "# Function to calculate word frequencies\n",
    "def process_comments_and_get_metrics(df):\n",
    "    comments = ' '.join(df['Comment']).lower()\n",
    "    comments = comments.translate(str.maketrans('', '', string.punctuation))  \n",
    "    word_list = comments.split()\n",
    "\n",
    "    # Remove stop words\n",
    "    stop_words = set(stopwords.words('english'))\n",
    "    word_list = [word for word in word_list if word not in stop_words]\n",
    "\n",
    "    # Calculate sentiment scores for each comment\n",
    "    df['Sentiment'] = df['Comment'].apply(calculate_sentiment_scores)\n",
    "    \n",
    "    # Calculate word frequencies\n",
    "    word_freq = Counter(word_list)\n",
    "    \n",
    "    # Ensure the lengths match\n",
    "    common_length = min(len(word_freq), len(df))\n",
    "    \n",
    "    return pd.DataFrame({\n",
    "        'Word': list(word_freq.keys())[:common_length],\n",
    "        'Frequency': list(word_freq.values())[:common_length],\n",
    "        'Sentiment': df['Sentiment'].iloc[:common_length].tolist()  \n",
    "    })"
   ]
  },
  {
   "cell_type": "markdown",
   "id": "46f7ca81",
   "metadata": {},
   "source": [
    "### Visualisations for Word Frequency and Sentiment Analysis"
   ]
  },
  {
   "cell_type": "code",
   "execution_count": 77,
   "id": "f0be211c",
   "metadata": {},
   "outputs": [
    {
     "data": {
      "text/html": [
       "\n",
       "        <iframe\n",
       "            width=\"100%\"\n",
       "            height=\"650\"\n",
       "            src=\"http://127.0.0.1:8062/\"\n",
       "            frameborder=\"0\"\n",
       "            allowfullscreen\n",
       "            \n",
       "        ></iframe>\n",
       "        "
      ],
      "text/plain": [
       "<IPython.lib.display.IFrame at 0x1587c01f590>"
      ]
     },
     "metadata": {},
     "output_type": "display_data"
    }
   ],
   "source": [
    "# Word Frequency and Sentiment analysis\n",
    "\n",
    "\n",
    "# Create Dash App \n",
    "app = dash.Dash(__name__)\n",
    "\n",
    "\n",
    "# Get df metrics\n",
    "df_metrics = process_comments_and_get_metrics(df)\n",
    "\n",
    "# Layout App\n",
    "app.layout = html.Div(children=[\n",
    "    html.H1(\"Word Sentiment Analysis - Sentiment and Frequency\"),\n",
    "\n",
    "    # Plotly Graph \n",
    "    dcc.Graph(\n",
    "        id='scatter-plot',\n",
    "        figure=px.scatter(\n",
    "            df_metrics,\n",
    "            x='Frequency',\n",
    "            y='Sentiment',\n",
    "            text='Word',\n",
    "            title='Sentiment and Frequency Scatter Plot',\n",
    "            color='Frequency',  # Set color based on Frequency\n",
    "            color_continuous_scale='plasma',  # Set color scale to 'plasma'\n",
    "        ).update_traces(mode='markers', marker=dict(size=10))\n",
    "    )\n",
    "])\n",
    "\n",
    "# Run the app\n",
    "if __name__ == '__main__':\n",
    "    app.run_server(debug=True, port=8062)\n"
   ]
  }
 ],
 "metadata": {
  "kernelspec": {
   "display_name": "Python 3 (ipykernel)",
   "language": "python",
   "name": "python3"
  },
  "language_info": {
   "codemirror_mode": {
    "name": "ipython",
    "version": 3
   },
   "file_extension": ".py",
   "mimetype": "text/x-python",
   "name": "python",
   "nbconvert_exporter": "python",
   "pygments_lexer": "ipython3",
   "version": "3.11.5"
  }
 },
 "nbformat": 4,
 "nbformat_minor": 5
}
